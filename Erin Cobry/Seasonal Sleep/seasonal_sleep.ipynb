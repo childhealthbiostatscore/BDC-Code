{
 "cells": [
  {
   "cell_type": "raw",
   "id": "0cecb46e-43a2-468b-8aba-b4570947c3e4",
   "metadata": {},
   "source": [
    "---\n",
    "title: \"Title\"\n",
    "author: \"Tim Vigers\"\n",
    "format:\n",
    "  html:\n",
    "    self-contained: true\n",
    "    code-fold: true\n",
    "jupyter: python3\n",
    "---"
   ]
  },
  {
   "cell_type": "code",
   "execution_count": 88,
   "id": "ee5831d6-3e33-4838-ba38-30b8b6a5000d",
   "metadata": {},
   "outputs": [],
   "source": [
    "# Import libraries\n",
    "from asyncio import events\n",
    "import pandas as pd\n",
    "from redcap import Project\n",
    "wd = \"/Volumes/PEDS/RI Biostatistics Core/Shared/Shared Projects/Laura/BDC/Projects/Erin Cobry/Summer vs. School Sleep/\"\n",
    "# Setup REDCap import\n",
    "keys = pd.read_csv(\"/Users/timvigers/Documents/Work/api_keys.csv\")\n",
    "api_key = keys[\"API Key\"].loc[keys[\"Study\"] ==\n",
    "                              \"Advanced Hybrid Closed-Loop and Sleep\"][0]\n",
    "api_url = \"https://redcap.ucdenver.edu/api/\"\n",
    "project = Project(api_url, api_key)\n",
    "# Visits per Erin and Nikita\n",
    "child_visits = pd.read_csv(wd+\"Data_Clean/summer_vs_school.csv\")\n",
    "child_visits.dropna(inplace=True)\n",
    "adult_visits = child_visits.copy()\n",
    "adult_visits[\"ID\"] = adult_visits[\"ID\"] - 100\n",
    "visits = pd.concat([adult_visits, child_visits])\n",
    "# List of columns to import\n",
    "cols = [\"record_id\", \"totalsleep_avg\", \"sleepefficency_avg\", \"waso_avg\", \"timeinbed_avg\", \"sensor_70_180\", \"sensor_mean\",\n",
    "        \"sensor_55_69\", \"sensor_u54\", \"sensor_g251\", \"sensor_181_250\", \"psqi_total\", \"all_awakenings\", \"diabetes_awakenings\"]\n",
    "# Import data as pandas df\n",
    "data = project.export_records(format_type=\"df\", records=[str(id) for id in visits[\"ID\"].values],\n",
    "                              events=['hcl_month_3_day_1_arm_1', 'hcl_month_6_day_1_arm_1', 'hcl_month_3_day_1_arm_2', 'hcl_month_6_day_1_arm_2'], fields=cols)\n",
    "data.reset_index(inplace=True)\n",
    "data[\"redcap_event_name\"].replace({'hcl_month_3_day_1_arm_1':\"M3\", 'hcl_month_6_day_1_arm_1':\"M6\",'hcl_month_3_day_1_arm_2':\"M3\", 'hcl_month_6_day_1_arm_2':\"M6\"},inplace=True)\n",
    "# Drop unnecesary columns\n",
    "data.drop(labels=[\"redcap_repeat_instrument\",\n",
    "          \"redcap_repeat_instance\"], axis=1, inplace=True)"
   ]
  }
 ],
 "metadata": {
  "kernelspec": {
   "display_name": "Python 3.10.5 64-bit",
   "language": "python",
   "name": "python3"
  },
  "language_info": {
   "codemirror_mode": {
    "name": "ipython",
    "version": 3
   },
   "file_extension": ".py",
   "mimetype": "text/x-python",
   "name": "python",
   "nbconvert_exporter": "python",
   "pygments_lexer": "ipython3",
   "version": "3.10.5"
  },
  "toc-autonumbering": true,
  "toc-showmarkdowntxt": true,
  "vscode": {
   "interpreter": {
    "hash": "aee8b7b246df8f9039afb4144a1f6fd8d2ca17a180786b69acc140d282b71a49"
   }
  }
 },
 "nbformat": 4,
 "nbformat_minor": 5
}
