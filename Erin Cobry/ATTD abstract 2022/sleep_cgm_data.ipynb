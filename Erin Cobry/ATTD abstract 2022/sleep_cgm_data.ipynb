{
 "cells": [
  {
   "cell_type": "code",
   "execution_count": 1,
   "id": "bfaeea79-b7e9-4f49-b3fd-eda13cf4580d",
   "metadata": {
    "tags": []
   },
   "outputs": [],
   "source": [
    "import pandas as pd\n",
    "from os import listdir\n",
    "from parsedatetime import parsedatetime\n",
    "from datetime import datetime\n",
    "from statistics import mode\n",
    "# Working directory and date parser\n",
    "wd = \"Z:/PEDS/RI Biostatistics Core/Shared/Shared Projects/Laura/BDC/Projects/Erin Cobry/Prospective HCL and sleep study\"\n",
    "cal = parsedatetime.Calendar()"
   ]
  },
  {
   "cell_type": "code",
   "execution_count": 6,
   "id": "4ca76f51-da63-4778-adb2-405eac2ed16a",
   "metadata": {},
   "outputs": [],
   "source": [
    "# Get file paths\n",
    "files = listdir(wd + \"./Data raw/CGM\")\n",
    "# Iterate through, clean, and calculate variables\n",
    "results = {\"id\":[],\"total_sensor_readings\":[],\"percent_cgm_wear\":[],\n",
    "           \"percent_time_under_54\":[],\"time_under_54\":[],\"num_values_under_54\":[]}\n",
    "for f in files:\n",
    "    results[\"id\"].append(f)\n",
    "    # Read in\n",
    "    path = wd + \"/Data raw/CGM/\" + f\n",
    "    df = pd.read_csv(path)\n",
    "    # Find columns\n",
    "    time_col = [c for c in df.columns if \"times\" in c.lower()]\n",
    "    gluc_col = [c for c in df.columns if \"glucose value\" in c.lower()]\n",
    "    # Remove unnecessary columns\n",
    "    clean = pd.concat([df[time_col],df[gluc_col]],axis = 1)\n",
    "    clean.columns = [\"time\",\"glucose\"]\n",
    "    # Remove missing\n",
    "    clean = clean[clean['time'].notnull()]\n",
    "    # Format time\n",
    "    clean[\"time\"] = clean[\"time\"].str.replace('T',' ')\n",
    "    clean[\"time\"] = [cal.parse(t)[0] for t in clean[\"time\"]]\n",
    "    clean[\"time\"] = [datetime(*t[:6]) for t in clean[\"time\"]]\n",
    "    # Find sampling interval\n",
    "    s = str(mode(clean[\"time\"].diff()).total_seconds() / 60)\n",
    "    # Re-index and expand to every 5 minutes\n",
    "    clean.set_index(\"time\",inplace = True)\n",
    "    clean = clean[~clean.index.duplicated(keep='first')]\n",
    "    clean = clean.resample(s + \"T\").ffill()\n",
    "    clean.reset_index(inplace = True)\n",
    "    # Write\n",
    "    clean.to_csv(wd + \"/Data clean/CGM/\" + f,index = False)\n",
    "    # Variables\n",
    "    results[\"total_sensor_readings\"].append(clean[\"glucose\"].notna().sum())\n",
    "    results[\"percent_cgm_wear\"].append(round(clean[\"glucose\"].notna().sum() / clean.shape[0] * 100,2))"
   ]
  },
  {
   "cell_type": "code",
   "execution_count": 17,
   "id": "16f70e3f-0b3d-45e4-9911-e403c864594d",
   "metadata": {},
   "outputs": [],
   "source": [
    "results[\"id\"].append(f)\n",
    "# Read in\n",
    "path = wd + \"/Data raw/CGM/\" + f\n",
    "df = pd.read_csv(path)\n",
    "# Find columns\n",
    "time_col = [c for c in df.columns if \"times\" in c.lower()]\n",
    "gluc_col = [c for c in df.columns if \"glucose value\" in c.lower()]\n",
    "# Remove unnecessary columns\n",
    "clean = pd.concat([df[time_col],df[gluc_col]],axis = 1)\n",
    "clean.columns = [\"time\",\"glucose\"]\n",
    "# Remove missing\n",
    "clean = clean[clean['time'].notnull()]\n",
    "# Format time\n",
    "clean[\"time\"] = clean[\"time\"].str.replace('T',' ')\n",
    "clean[\"time\"] = [cal.parse(t)[0] for t in clean[\"time\"]]\n",
    "clean[\"time\"] = [datetime(*t[:6]) for t in clean[\"time\"]]\n",
    "# Find sampling interval\n",
    "s = str(mode(clean[\"time\"].diff()).total_seconds() / 60)\n",
    "# Re-index and expand to every 5 minutes\n",
    "clean.set_index(\"time\",inplace = True)\n",
    "clean = clean[~clean.index.duplicated(keep='first')]\n",
    "clean = clean.resample(s + \"T\").ffill()\n",
    "clean.reset_index(inplace = True)"
   ]
  },
  {
   "cell_type": "code",
   "execution_count": 20,
   "id": "aeb0532c-613a-40bb-a6ba-b176587902ed",
   "metadata": {},
   "outputs": [
    {
     "data": {
      "text/plain": [
       "99.75"
      ]
     },
     "execution_count": 20,
     "metadata": {},
     "output_type": "execute_result"
    }
   ],
   "source": [
    "round(clean[\"glucose\"].notna().sum() / clean.shape[0] * 100,2)"
   ]
  },
  {
   "cell_type": "code",
   "execution_count": 14,
   "id": "645248cc-1b16-42ca-98d5-4bd403215fc1",
   "metadata": {},
   "outputs": [
    {
     "name": "stdout",
     "output_type": "stream",
     "text": [
      "Help on method isna in module pandas.core.series:\n",
      "\n",
      "isna() -> 'Series' method of pandas.core.series.Series instance\n",
      "    Detect missing values.\n",
      "    \n",
      "    Return a boolean same-sized object indicating if the values are NA.\n",
      "    NA values, such as None or :attr:`numpy.NaN`, gets mapped to True\n",
      "    values.\n",
      "    Everything else gets mapped to False values. Characters such as empty\n",
      "    strings ``''`` or :attr:`numpy.inf` are not considered NA values\n",
      "    (unless you set ``pandas.options.mode.use_inf_as_na = True``).\n",
      "    \n",
      "    Returns\n",
      "    -------\n",
      "    Series\n",
      "        Mask of bool values for each element in Series that\n",
      "        indicates whether an element is an NA value.\n",
      "    \n",
      "    See Also\n",
      "    --------\n",
      "    Series.isnull : Alias of isna.\n",
      "    Series.notna : Boolean inverse of isna.\n",
      "    Series.dropna : Omit axes labels with missing values.\n",
      "    isna : Top-level isna.\n",
      "    \n",
      "    Examples\n",
      "    --------\n",
      "    Show which entries in a DataFrame are NA.\n",
      "    \n",
      "    >>> df = pd.DataFrame(dict(age=[5, 6, np.NaN],\n",
      "    ...                    born=[pd.NaT, pd.Timestamp('1939-05-27'),\n",
      "    ...                          pd.Timestamp('1940-04-25')],\n",
      "    ...                    name=['Alfred', 'Batman', ''],\n",
      "    ...                    toy=[None, 'Batmobile', 'Joker']))\n",
      "    >>> df\n",
      "       age       born    name        toy\n",
      "    0  5.0        NaT  Alfred       None\n",
      "    1  6.0 1939-05-27  Batman  Batmobile\n",
      "    2  NaN 1940-04-25              Joker\n",
      "    \n",
      "    >>> df.isna()\n",
      "         age   born   name    toy\n",
      "    0  False   True  False   True\n",
      "    1  False  False  False  False\n",
      "    2   True  False  False  False\n",
      "    \n",
      "    Show which entries in a Series are NA.\n",
      "    \n",
      "    >>> ser = pd.Series([5, 6, np.NaN])\n",
      "    >>> ser\n",
      "    0    5.0\n",
      "    1    6.0\n",
      "    2    NaN\n",
      "    dtype: float64\n",
      "    \n",
      "    >>> ser.isna()\n",
      "    0    False\n",
      "    1    False\n",
      "    2     True\n",
      "    dtype: bool\n",
      "\n"
     ]
    }
   ],
   "source": [
    "help(clean[\"glucose\"].isna)"
   ]
  },
  {
   "cell_type": "code",
   "execution_count": null,
   "id": "a2de805a-1402-45ff-9f9b-2a71a000e7e8",
   "metadata": {},
   "outputs": [],
   "source": []
  }
 ],
 "metadata": {
  "kernelspec": {
   "display_name": "Python 3 (ipykernel)",
   "language": "python",
   "name": "python3"
  },
  "language_info": {
   "codemirror_mode": {
    "name": "ipython",
    "version": 3
   },
   "file_extension": ".py",
   "mimetype": "text/x-python",
   "name": "python",
   "nbconvert_exporter": "python",
   "pygments_lexer": "ipython3",
   "version": "3.10.0"
  }
 },
 "nbformat": 4,
 "nbformat_minor": 5
}
