{
 "cells": [
  {
   "cell_type": "code",
   "execution_count": 1,
   "id": "bfaeea79-b7e9-4f49-b3fd-eda13cf4580d",
   "metadata": {
    "tags": []
   },
   "outputs": [],
   "source": [
    "import pandas as pd\n",
    "from os import listdir\n",
    "from parsedatetime import parsedatetime\n",
    "from datetime import datetime\n",
    "from statistics import mode\n",
    "# Working directory and date parser\n",
    "wd = \"Z:/PEDS/RI Biostatistics Core/Shared/Shared Projects/Laura/BDC/Projects/Erin Cobry/Prospective HCL and sleep study\"\n",
    "cal = parsedatetime.Calendar()"
   ]
  },
  {
   "cell_type": "code",
   "execution_count": 2,
   "id": "4ca76f51-da63-4778-adb2-405eac2ed16a",
   "metadata": {},
   "outputs": [],
   "source": [
    "# Get file paths\n",
    "files = listdir(wd + \"./Data raw/CGM\")\n",
    "# Iterate through, clean, and calculate variables\n",
    "results = {}\n",
    "for f in files:\n",
    "    # Read in\n",
    "    path = wd + \"/Data raw/CGM/\" + f\n",
    "    df = pd.read_csv(path)\n",
    "    # Find columns\n",
    "    time_col = [c for c in df.columns if \"times\" in c.lower()]\n",
    "    gluc_col = [c for c in df.columns if \"glucose value\" in c.lower()]\n",
    "    # Remove unnecessary columns\n",
    "    clean = pd.concat([df[time_col],df[gluc_col]],axis = 1)\n",
    "    clean.columns = [\"time\",\"glucose\"]\n",
    "    # Remove missing\n",
    "    clean = clean[clean['time'].notnull()]\n",
    "    # Format time\n",
    "    clean[\"time\"] = clean[\"time\"].str.replace('T',' ')\n",
    "    clean[\"time\"] = [cal.parse(t)[0] for t in clean[\"time\"]]\n",
    "    clean[\"time\"] = [datetime(*t[:6]) for t in clean[\"time\"]]\n",
    "    # Find sampling interval\n",
    "    s = str(mode(clean[\"time\"].diff()).total_seconds() / 60)\n",
    "    # Re-index and expand to every 5 minutes\n",
    "    clean.set_index(\"time\",inplace = True)\n",
    "    clean = clean[~clean.index.duplicated(keep='first')]\n",
    "    clean = clean.resample(s + \"T\").ffill()\n",
    "    clean.reset_index(inplace = True)\n",
    "    # Write\n",
    "    clean.to_csv(wd + \"/Data clean/CGM/\" + f,index = False)\n",
    "    # Variables\n",
    "    "
   ]
  },
  {
   "cell_type": "code",
   "execution_count": null,
   "id": "7e6c5127-98c8-49ab-936b-95d9d1de7f0a",
   "metadata": {},
   "outputs": [],
   "source": []
  }
 ],
 "metadata": {
  "kernelspec": {
   "display_name": "Python 3 (ipykernel)",
   "language": "python",
   "name": "python3"
  },
  "language_info": {
   "codemirror_mode": {
    "name": "ipython",
    "version": 3
   },
   "file_extension": ".py",
   "mimetype": "text/x-python",
   "name": "python",
   "nbconvert_exporter": "python",
   "pygments_lexer": "ipython3",
   "version": "3.10.0"
  }
 },
 "nbformat": 4,
 "nbformat_minor": 5
}
