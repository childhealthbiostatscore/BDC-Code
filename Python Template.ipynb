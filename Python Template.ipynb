{
 "cells": [
  {
   "cell_type": "raw",
   "id": "0cecb46e-43a2-468b-8aba-b4570947c3e4",
   "metadata": {},
   "source": [
    "---\n",
    "title: \"Title\"\n",
    "author: \"Tim Vigers\"\n",
    "format:\n",
    "  html:\n",
    "    self-contained: true\n",
    "    code-fold: true\n",
    "jupyter: python3\n",
    "---"
   ]
  },
  {
   "cell_type": "code",
   "execution_count": null,
   "id": "ee5831d6-3e33-4838-ba38-30b8b6a5000d",
   "metadata": {},
   "outputs": [],
   "source": [
    "import pandas as pd\n",
    "from redcap import Project\n",
    "wd = '/Volumes/PEDS/RI Biostatistics Core/Shared/Shared Projects/Laura/BDC/Projects'\n"
   ]
  },
  {
   "cell_type": "code",
   "execution_count": null,
   "id": "3f2b9047-bb60-49d3-8fad-f64ab48c1028",
   "metadata": {},
   "outputs": [],
   "source": [
    "api_url = 'https://redcap.ucdenver.edu/api/'\n",
    "api_key = 'SomeSuperSecretAPIKeyThatNobodyElseShouldHave'\n",
    "project = Project(api_url, api_key)"
   ]
  }
 ],
 "metadata": {
  "kernelspec": {
   "display_name": "Python 3 (ipykernel)",
   "language": "python",
   "name": "python3"
  },
  "language_info": {
   "codemirror_mode": {
    "name": "ipython",
    "version": 3
   },
   "file_extension": ".py",
   "mimetype": "text/x-python",
   "name": "python",
   "nbconvert_exporter": "python",
   "pygments_lexer": "ipython3",
   "version": "3.10.4"
  }
 },
 "nbformat": 4,
 "nbformat_minor": 5
}
