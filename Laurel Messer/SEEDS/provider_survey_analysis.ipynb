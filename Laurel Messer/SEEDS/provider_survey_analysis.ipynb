{
 "cells": [
  {
   "cell_type": "code",
   "execution_count": null,
   "metadata": {},
   "outputs": [],
   "source": [
    "# Ignore irritating pandas warnings\n",
    "import warnings\n",
    "warnings.simplefilter(action='ignore', category=FutureWarning)\n",
    "import pandas as pd\n",
    "import numpy as np\n",
    "import sweetviz as sv\n",
    "from redcap import Project\n",
    "from tableone import TableOne\n",
    "wd = '/Volumes/PEDS/RI Biostatistics Core/Shared/Shared Projects/Laura/BDC/'\\\n",
    "    'Projects/Laurel Messer/SEEDS/'\n",
    "api = pd.read_table(wd+'/Data_Raw/api_token.txt')\n",
    "api_url = 'https://redcap.ucdenver.edu/api/'\n",
    "project = Project(api_url, api)\n",
    "df = pd.DataFrame(project.export_records(raw_or_label='label'))\n",
    "df.replace('', np.nan, inplace=True)\n"
   ]
  },
  {
   "cell_type": "code",
   "execution_count": null,
   "metadata": {},
   "outputs": [],
   "source": [
    "# Data cleaning\n",
    "# Real records only\n",
    "df = df[df.real_record == 'Real']\n",
    "df.loc[df['otherspecialty'] == 'Pediatric Diabetology',\n",
    "       'specialty'] = 'Pediatric Endocrinology'\n",
    "df.loc[df['otherspecialty'] == 'Adult Gerontology Primary Care',\n",
    "       'specialty'] = 'Primary care-family medicine'\n",
    "# Specialty and provider type\n",
    "df['specialty'].replace(dict.fromkeys(['Primary care-family medicine', 'Primary care-internal medicine',\n",
    "                                       'Primary care-pediatrics', 'Primary care-med/peds'], 'Primary Care'), inplace=True)\n",
    "prescribe_replace = dict.fromkeys(['Physician (MD, DO or equivalent)',\n",
    "                                  'Advance practice professional (Physician assistant, nurse practitioner)', 'Endocrinology fellow'], 'Prescriber')\n",
    "prescribe_replace.update(dict.fromkeys(\n",
    "    ['Diabetes care and education specialist (diabetes educator, nurse, dietitian, other)', 'Medical resident'], 'Non-Prescriber'), inplace=True)\n",
    "df['providertype'].replace(prescribe_replace, inplace=True)\n",
    "# Drop 'Other' providers\n",
    "df = df.loc[df['specialty'] != 'Other', :]\n"
   ]
  },
  {
   "cell_type": "markdown",
   "metadata": {},
   "source": [
    "# Table 1: Participant Characteristics\n"
   ]
  },
  {
   "cell_type": "code",
   "execution_count": null,
   "metadata": {},
   "outputs": [],
   "source": [
    "cat_vars = ['gender','race','providertype','specialty','practicesetting','medicare','medicaid','privateins','uninsured']\n",
    "t1_vars = ['age','practiceyears','cgmpatientratio','pumppatientratio','penpatientratio','hclpatientratio','educationtime']+cat_vars\n",
    "group = 'specialty'\n",
    "t1 = TableOne(data=df,columns=t1_vars,categorical=cat_vars, groupby=group,dip_test=True, normal_test=True, tukey_test=True)\n",
    "t1"
   ]
  },
  {
   "cell_type": "markdown",
   "metadata": {},
   "source": [
    "# Exploratory data analyis"
   ]
  },
  {
   "cell_type": "code",
   "execution_count": null,
   "metadata": {},
   "outputs": [],
   "source": [
    "# All\n",
    "report=sv.analyze(df)\n",
    "report.show_html(filepath=wd+'Reports/seeds_eda_all.html')\n",
    "# By prescriber status\n",
    "compare=sv.compare_intra(df,df['providertype']=='Prescriber',['Prescriber','Non-Prescriber'])\n",
    "compare.show_html(filepath=wd+'Reports/seeds_eda_by_prescriber.html')"
   ]
  }
 ],
 "metadata": {
  "interpreter": {
   "hash": "b0fa6594d8f4cbf19f97940f81e996739fb7646882a419484c72d19e05852a7e"
  },
  "kernelspec": {
   "display_name": "Python 3.9.10 64-bit",
   "language": "python",
   "name": "python3"
  },
  "language_info": {
   "codemirror_mode": {
    "name": "ipython",
    "version": 3
   },
   "file_extension": ".py",
   "mimetype": "text/x-python",
   "name": "python",
   "nbconvert_exporter": "python",
   "pygments_lexer": "ipython3",
   "version": "3.9.10"
  },
  "orig_nbformat": 4
 },
 "nbformat": 4,
 "nbformat_minor": 2
}
