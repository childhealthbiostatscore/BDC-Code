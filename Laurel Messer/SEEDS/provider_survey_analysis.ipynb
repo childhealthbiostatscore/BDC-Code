{
 "cells": [
  {
   "cell_type": "code",
   "execution_count": 28,
   "metadata": {},
   "outputs": [],
   "source": [
    "import pandas as pd\n",
    "import numpy as np\n",
    "from redcap import Project\n",
    "wd = '/Volumes/PEDS/RI Biostatistics Core/Shared/Shared Projects/Laura/BDC/'\\\n",
    "    'Projects/Laurel Messer/SEEDS/'\n",
    "api = pd.read_table(wd+'/Data_Raw/api_token.txt')\n",
    "api_url = 'https://redcap.ucdenver.edu/api/'\n",
    "project = Project(api_url, api)\n",
    "df = pd.DataFrame(project.export_records(raw_or_label = 'label'))\n",
    "df.replace('',np.nan,inplace=True)"
   ]
  },
  {
   "cell_type": "code",
   "execution_count": 30,
   "metadata": {},
   "outputs": [],
   "source": [
    "# Data cleaning\n",
    "df = df[df.real_record == 'Real']\n",
    "df.specialty[df.otherspecialty == 'Pediatric Diabetology'] = 'Pediatric Endocrinology'"
   ]
  },
  {
   "cell_type": "code",
   "execution_count": 32,
   "metadata": {},
   "outputs": [],
   "source": []
  },
  {
   "cell_type": "code",
   "execution_count": 33,
   "metadata": {},
   "outputs": [
    {
     "data": {
      "text/plain": [
       "28    Pediatric Endocrinology\n",
       "Name: specialty, dtype: object"
      ]
     },
     "execution_count": 33,
     "metadata": {},
     "output_type": "execute_result"
    }
   ],
   "source": [
    "df.specialty[df.otherspecialty == 'Pediatric Diabetology']"
   ]
  },
  {
   "cell_type": "code",
   "execution_count": null,
   "metadata": {},
   "outputs": [],
   "source": []
  }
 ],
 "metadata": {
  "interpreter": {
   "hash": "b0fa6594d8f4cbf19f97940f81e996739fb7646882a419484c72d19e05852a7e"
  },
  "kernelspec": {
   "display_name": "Python 3.9.10 64-bit",
   "language": "python",
   "name": "python3"
  },
  "language_info": {
   "codemirror_mode": {
    "name": "ipython",
    "version": 3
   },
   "file_extension": ".py",
   "mimetype": "text/x-python",
   "name": "python",
   "nbconvert_exporter": "python",
   "pygments_lexer": "ipython3",
   "version": "3.9.10"
  },
  "orig_nbformat": 4
 },
 "nbformat": 4,
 "nbformat_minor": 2
}
