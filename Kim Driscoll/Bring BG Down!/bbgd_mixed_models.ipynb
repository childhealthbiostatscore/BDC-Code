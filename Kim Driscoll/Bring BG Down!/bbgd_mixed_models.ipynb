{
 "cells": [
  {
   "cell_type": "code",
   "execution_count": 1,
   "id": "e5f4f8bf-8c45-414e-a98a-63df6367d8f3",
   "metadata": {},
   "outputs": [],
   "source": [
    "import pandas as pd\n",
    "import numpy as np\n",
    "import seaborn as sns\n",
    "import statsmodels.stats as st\n",
    "import statsmodels.api as sm\n",
    "import statsmodels.formula.api as smf\n",
    "import matplotlib.pyplot as plt\n",
    "from scipy import stats\n",
    "from tableone import TableOne\n",
    "wd = '/mnt/UCD/PEDS/RI Biostatistics Core/Shared/Shared Projects/Laura/BDC/Projects/Kim Driscoll/Bring BG Down/'\n",
    "import warnings;\n",
    "warnings.filterwarnings('ignore');"
   ]
  },
  {
   "cell_type": "code",
   "execution_count": 2,
   "id": "feb368bd-9c07-4847-b9bf-f646fa85fd1e",
   "metadata": {},
   "outputs": [],
   "source": [
    "# Enable cell magic for Rpy2 interface\n",
    "%load_ext rpy2.ipython"
   ]
  },
  {
   "cell_type": "markdown",
   "id": "f070a375-ac1f-44ea-8efa-6ef997cf21da",
   "metadata": {},
   "source": [
    "# Participant and Data Characteristics"
   ]
  },
  {
   "cell_type": "markdown",
   "id": "da45a708-f0fa-43bc-9a04-1fbb2ad1a4ba",
   "metadata": {},
   "source": [
    "## Table 1: Participant Characteristics at Visit 1"
   ]
  },
  {
   "cell_type": "code",
   "execution_count": 3,
   "id": "7239bbb6-f18d-45e4-a234-75a6bf2469ae",
   "metadata": {},
   "outputs": [
    {
     "data": {
      "text/html": [
       "<div>\n",
       "<style scoped>\n",
       "    .dataframe tbody tr th:only-of-type {\n",
       "        vertical-align: middle;\n",
       "    }\n",
       "\n",
       "    .dataframe tbody tr th {\n",
       "        vertical-align: top;\n",
       "    }\n",
       "\n",
       "    .dataframe thead tr th {\n",
       "        text-align: left;\n",
       "    }\n",
       "</style>\n",
       "<table border=\"1\" class=\"dataframe\">\n",
       "  <thead>\n",
       "    <tr>\n",
       "      <th></th>\n",
       "      <th></th>\n",
       "      <th colspan=\"5\" halign=\"left\">Grouped by treatment_group</th>\n",
       "    </tr>\n",
       "    <tr>\n",
       "      <th></th>\n",
       "      <th></th>\n",
       "      <th>Missing</th>\n",
       "      <th>Overall</th>\n",
       "      <th>0</th>\n",
       "      <th>1</th>\n",
       "      <th>P-Value</th>\n",
       "    </tr>\n",
       "  </thead>\n",
       "  <tbody>\n",
       "    <tr>\n",
       "      <th>n</th>\n",
       "      <th></th>\n",
       "      <td></td>\n",
       "      <td>43</td>\n",
       "      <td>22</td>\n",
       "      <td>21</td>\n",
       "      <td></td>\n",
       "    </tr>\n",
       "    <tr>\n",
       "      <th>Parent Maintain High BG of HFS, mean (SD)</th>\n",
       "      <th></th>\n",
       "      <td>1</td>\n",
       "      <td>6.5 (2.8)</td>\n",
       "      <td>6.0 (3.0)</td>\n",
       "      <td>7.0 (2.6)</td>\n",
       "      <td>0.303</td>\n",
       "    </tr>\n",
       "    <tr>\n",
       "      <th>Parent Worry/Helplessness Subscale of HFS, mean (SD)</th>\n",
       "      <th></th>\n",
       "      <td>0</td>\n",
       "      <td>22.2 (6.4)</td>\n",
       "      <td>20.1 (5.9)</td>\n",
       "      <td>24.3 (6.2)</td>\n",
       "      <td>0.027</td>\n",
       "    </tr>\n",
       "    <tr>\n",
       "      <th>Parent Social Consequences Subscale of HFS, mean (SD)</th>\n",
       "      <th></th>\n",
       "      <td>1</td>\n",
       "      <td>4.9 (3.2)</td>\n",
       "      <td>4.1 (2.6)</td>\n",
       "      <td>5.7 (3.6)</td>\n",
       "      <td>0.115</td>\n",
       "    </tr>\n",
       "    <tr>\n",
       "      <th>Parent GAD-7 Score, mean (SD)</th>\n",
       "      <th></th>\n",
       "      <td>0</td>\n",
       "      <td>13.5 (4.9)</td>\n",
       "      <td>12.3 (3.9)</td>\n",
       "      <td>14.7 (5.6)</td>\n",
       "      <td>0.116</td>\n",
       "    </tr>\n",
       "    <tr>\n",
       "      <th rowspan=\"2\" valign=\"top\">Private Insurance, n (%)</th>\n",
       "      <th>No</th>\n",
       "      <td>0</td>\n",
       "      <td>11 (25.6)</td>\n",
       "      <td>5 (22.7)</td>\n",
       "      <td>6 (28.6)</td>\n",
       "      <td>0.929</td>\n",
       "    </tr>\n",
       "    <tr>\n",
       "      <th>Yes</th>\n",
       "      <td></td>\n",
       "      <td>32 (74.4)</td>\n",
       "      <td>17 (77.3)</td>\n",
       "      <td>15 (71.4)</td>\n",
       "      <td></td>\n",
       "    </tr>\n",
       "    <tr>\n",
       "      <th rowspan=\"10\" valign=\"top\">Total Household Income, n (%)</th>\n",
       "      <th>$100K +</th>\n",
       "      <td>2</td>\n",
       "      <td>18 (43.9)</td>\n",
       "      <td>9 (40.9)</td>\n",
       "      <td>9 (47.4)</td>\n",
       "      <td>0.902</td>\n",
       "    </tr>\n",
       "    <tr>\n",
       "      <th>$20K-29,999</th>\n",
       "      <td></td>\n",
       "      <td>3 (7.3)</td>\n",
       "      <td>2 (9.1)</td>\n",
       "      <td>1 (5.3)</td>\n",
       "      <td></td>\n",
       "    </tr>\n",
       "    <tr>\n",
       "      <th>$30K-39,999</th>\n",
       "      <td></td>\n",
       "      <td>3 (7.3)</td>\n",
       "      <td>2 (9.1)</td>\n",
       "      <td>1 (5.3)</td>\n",
       "      <td></td>\n",
       "    </tr>\n",
       "    <tr>\n",
       "      <th>$40K-49,999</th>\n",
       "      <td></td>\n",
       "      <td>2 (4.9)</td>\n",
       "      <td>2 (9.1)</td>\n",
       "      <td></td>\n",
       "      <td></td>\n",
       "    </tr>\n",
       "    <tr>\n",
       "      <th>$50K-59,999</th>\n",
       "      <td></td>\n",
       "      <td>3 (7.3)</td>\n",
       "      <td>1 (4.5)</td>\n",
       "      <td>2 (10.5)</td>\n",
       "      <td></td>\n",
       "    </tr>\n",
       "    <tr>\n",
       "      <th>$60K-69,999</th>\n",
       "      <td></td>\n",
       "      <td>2 (4.9)</td>\n",
       "      <td>1 (4.5)</td>\n",
       "      <td>1 (5.3)</td>\n",
       "      <td></td>\n",
       "    </tr>\n",
       "    <tr>\n",
       "      <th>$70K-79,999</th>\n",
       "      <td></td>\n",
       "      <td>4 (9.8)</td>\n",
       "      <td>2 (9.1)</td>\n",
       "      <td>2 (10.5)</td>\n",
       "      <td></td>\n",
       "    </tr>\n",
       "    <tr>\n",
       "      <th>$80K-89,999</th>\n",
       "      <td></td>\n",
       "      <td>2 (4.9)</td>\n",
       "      <td>1 (4.5)</td>\n",
       "      <td>1 (5.3)</td>\n",
       "      <td></td>\n",
       "    </tr>\n",
       "    <tr>\n",
       "      <th>$90K-99,999</th>\n",
       "      <td></td>\n",
       "      <td>3 (7.3)</td>\n",
       "      <td>2 (9.1)</td>\n",
       "      <td>1 (5.3)</td>\n",
       "      <td></td>\n",
       "    </tr>\n",
       "    <tr>\n",
       "      <th>Under $5K</th>\n",
       "      <td></td>\n",
       "      <td>1 (2.4)</td>\n",
       "      <td></td>\n",
       "      <td>1 (5.3)</td>\n",
       "      <td></td>\n",
       "    </tr>\n",
       "    <tr>\n",
       "      <th rowspan=\"4\" valign=\"top\">Parent's Marital Status, n (%)</th>\n",
       "      <th>Divorced</th>\n",
       "      <td>1</td>\n",
       "      <td>8 (19.0)</td>\n",
       "      <td>3 (14.3)</td>\n",
       "      <td>5 (23.8)</td>\n",
       "      <td>0.201</td>\n",
       "    </tr>\n",
       "    <tr>\n",
       "      <th>Living with Domestic Partner</th>\n",
       "      <td></td>\n",
       "      <td>2 (4.8)</td>\n",
       "      <td></td>\n",
       "      <td>2 (9.5)</td>\n",
       "      <td></td>\n",
       "    </tr>\n",
       "    <tr>\n",
       "      <th>Married to Child's Biologic Father</th>\n",
       "      <td></td>\n",
       "      <td>30 (71.4)</td>\n",
       "      <td>16 (76.2)</td>\n",
       "      <td>14 (66.7)</td>\n",
       "      <td></td>\n",
       "    </tr>\n",
       "    <tr>\n",
       "      <th>Widowed</th>\n",
       "      <td></td>\n",
       "      <td>2 (4.8)</td>\n",
       "      <td>2 (9.5)</td>\n",
       "      <td></td>\n",
       "      <td></td>\n",
       "    </tr>\n",
       "    <tr>\n",
       "      <th rowspan=\"5\" valign=\"top\">Highest Degree Parent Completed, n (%)</th>\n",
       "      <th>Associate's</th>\n",
       "      <td>0</td>\n",
       "      <td>6 (14.0)</td>\n",
       "      <td></td>\n",
       "      <td>6 (28.6)</td>\n",
       "      <td>0.090</td>\n",
       "    </tr>\n",
       "    <tr>\n",
       "      <th>Bachelor's</th>\n",
       "      <td></td>\n",
       "      <td>17 (39.5)</td>\n",
       "      <td>9 (40.9)</td>\n",
       "      <td>8 (38.1)</td>\n",
       "      <td></td>\n",
       "    </tr>\n",
       "    <tr>\n",
       "      <th>Doctoral</th>\n",
       "      <td></td>\n",
       "      <td>2 (4.7)</td>\n",
       "      <td>1 (4.5)</td>\n",
       "      <td>1 (4.8)</td>\n",
       "      <td></td>\n",
       "    </tr>\n",
       "    <tr>\n",
       "      <th>High School</th>\n",
       "      <td></td>\n",
       "      <td>12 (27.9)</td>\n",
       "      <td>8 (36.4)</td>\n",
       "      <td>4 (19.0)</td>\n",
       "      <td></td>\n",
       "    </tr>\n",
       "    <tr>\n",
       "      <th>Master's</th>\n",
       "      <td></td>\n",
       "      <td>6 (14.0)</td>\n",
       "      <td>4 (18.2)</td>\n",
       "      <td>2 (9.5)</td>\n",
       "      <td></td>\n",
       "    </tr>\n",
       "    <tr>\n",
       "      <th rowspan=\"2\" valign=\"top\">Parent Race, n (%)</th>\n",
       "      <th>Native Hawaiian or Pacific Islander</th>\n",
       "      <td>0</td>\n",
       "      <td>1 (2.3)</td>\n",
       "      <td></td>\n",
       "      <td>1 (4.8)</td>\n",
       "      <td>0.488</td>\n",
       "    </tr>\n",
       "    <tr>\n",
       "      <th>White</th>\n",
       "      <td></td>\n",
       "      <td>42 (97.7)</td>\n",
       "      <td>22 (100.0)</td>\n",
       "      <td>20 (95.2)</td>\n",
       "      <td></td>\n",
       "    </tr>\n",
       "    <tr>\n",
       "      <th rowspan=\"2\" valign=\"top\">Parent Ethnicity, n (%)</th>\n",
       "      <th>Hispanic or Latino</th>\n",
       "      <td>0</td>\n",
       "      <td>3 (7.0)</td>\n",
       "      <td>1 (4.5)</td>\n",
       "      <td>2 (9.5)</td>\n",
       "      <td>0.607</td>\n",
       "    </tr>\n",
       "    <tr>\n",
       "      <th>Not Hispanic or Latino</th>\n",
       "      <td></td>\n",
       "      <td>40 (93.0)</td>\n",
       "      <td>21 (95.5)</td>\n",
       "      <td>19 (90.5)</td>\n",
       "      <td></td>\n",
       "    </tr>\n",
       "    <tr>\n",
       "      <th rowspan=\"2\" valign=\"top\">Primary Male Caretaker, n (%)</th>\n",
       "      <th>Mother's boyfriend/partner</th>\n",
       "      <td>0</td>\n",
       "      <td>42 (97.7)</td>\n",
       "      <td>22 (100.0)</td>\n",
       "      <td>20 (95.2)</td>\n",
       "      <td>0.488</td>\n",
       "    </tr>\n",
       "    <tr>\n",
       "      <th>Uncle</th>\n",
       "      <td></td>\n",
       "      <td>1 (2.3)</td>\n",
       "      <td></td>\n",
       "      <td>1 (4.8)</td>\n",
       "      <td></td>\n",
       "    </tr>\n",
       "  </tbody>\n",
       "</table>\n",
       "</div><br />[1] Chi-squared tests for the following variables may be invalid due to the low number of observations: Highest Degree Parent Completed, Total Household Income, Parent's Marital Status.<br />"
      ],
      "text/plain": [
       "                                                                                          Grouped by treatment_group                                            \n",
       "                                                                                                             Missing     Overall           0           1 P-Value\n",
       "n                                                                                                                             43          22          21        \n",
       "Parent Maintain High BG of HFS, mean (SD)                                                                          1   6.5 (2.8)   6.0 (3.0)   7.0 (2.6)   0.303\n",
       "Parent Worry/Helplessness Subscale of HFS, mean (SD)                                                               0  22.2 (6.4)  20.1 (5.9)  24.3 (6.2)   0.027\n",
       "Parent Social Consequences Subscale of HFS, mean (SD)                                                              1   4.9 (3.2)   4.1 (2.6)   5.7 (3.6)   0.115\n",
       "Parent GAD-7 Score, mean (SD)                                                                                      0  13.5 (4.9)  12.3 (3.9)  14.7 (5.6)   0.116\n",
       "Private Insurance, n (%)                              No                                                           0   11 (25.6)    5 (22.7)    6 (28.6)   0.929\n",
       "                                                      Yes                                                              32 (74.4)   17 (77.3)   15 (71.4)        \n",
       "Total Household Income, n (%)                         $100K +                                                      2   18 (43.9)    9 (40.9)    9 (47.4)   0.902\n",
       "                                                      $20K-29,999                                                        3 (7.3)     2 (9.1)     1 (5.3)        \n",
       "                                                      $30K-39,999                                                        3 (7.3)     2 (9.1)     1 (5.3)        \n",
       "                                                      $40K-49,999                                                        2 (4.9)     2 (9.1)                    \n",
       "                                                      $50K-59,999                                                        3 (7.3)     1 (4.5)    2 (10.5)        \n",
       "                                                      $60K-69,999                                                        2 (4.9)     1 (4.5)     1 (5.3)        \n",
       "                                                      $70K-79,999                                                        4 (9.8)     2 (9.1)    2 (10.5)        \n",
       "                                                      $80K-89,999                                                        2 (4.9)     1 (4.5)     1 (5.3)        \n",
       "                                                      $90K-99,999                                                        3 (7.3)     2 (9.1)     1 (5.3)        \n",
       "                                                      Under $5K                                                          1 (2.4)                 1 (5.3)        \n",
       "Parent's Marital Status, n (%)                        Divorced                                                     1    8 (19.0)    3 (14.3)    5 (23.8)   0.201\n",
       "                                                      Living with Domestic Partner                                       2 (4.8)                 2 (9.5)        \n",
       "                                                      Married to Child's Biologic Father                               30 (71.4)   16 (76.2)   14 (66.7)        \n",
       "                                                      Widowed                                                            2 (4.8)     2 (9.5)                    \n",
       "Highest Degree Parent Completed, n (%)                Associate's                                                  0    6 (14.0)                6 (28.6)   0.090\n",
       "                                                      Bachelor's                                                       17 (39.5)    9 (40.9)    8 (38.1)        \n",
       "                                                      Doctoral                                                           2 (4.7)     1 (4.5)     1 (4.8)        \n",
       "                                                      High School                                                      12 (27.9)    8 (36.4)    4 (19.0)        \n",
       "                                                      Master's                                                          6 (14.0)    4 (18.2)     2 (9.5)        \n",
       "Parent Race, n (%)                                    Native Hawaiian or Pacific Islander                          0     1 (2.3)                 1 (4.8)   0.488\n",
       "                                                      White                                                            42 (97.7)  22 (100.0)   20 (95.2)        \n",
       "Parent Ethnicity, n (%)                               Hispanic or Latino                                           0     3 (7.0)     1 (4.5)     2 (9.5)   0.607\n",
       "                                                      Not Hispanic or Latino                                           40 (93.0)   21 (95.5)   19 (90.5)        \n",
       "Primary Male Caretaker, n (%)                         Mother's boyfriend/partner                                   0   42 (97.7)  22 (100.0)   20 (95.2)   0.488\n",
       "                                                      Uncle                                                              1 (2.3)                 1 (4.8)        \n",
       "[1] Chi-squared tests for the following variables may be invalid due to the low number of observations: Highest Degree Parent Completed, Total Household Income, Parent's Marital Status."
      ]
     },
     "execution_count": 3,
     "metadata": {},
     "output_type": "execute_result"
    }
   ],
   "source": [
    "df = pd.read_csv(wd+'Data_Cleaned/bbgd_master.csv')\n",
    "# Make pretty variables for Table 1\n",
    "df[\"Private Insurance\"] = ['Yes' if i == 1 else 'No' if i==0 else np.nan for i in df['p_insurance_commercial']]\n",
    "df[\"Total Household Income\"] = df[\"par_income\"].replace({1:\"Under $5K\",2:\"$5K-$9,999\",3:\"$10K-$19,999\",4:\"$20K-29,999\", \n",
    "                                                   5:\"$30K-39,999\",6:\"$40K-49,999\",7:\"$50K-59,999\",8:\"$60K-69,999\",\n",
    "                                                   9:\"$70K-79,999\",10:\"$80K-89,999\",11:\"$90K-99,999\",12:\"$100K +\"})\n",
    "df[\"Parent's Marital Status\"] = df[\"par_marital\"].replace({1:\"Married to Child's Biologic Father\",2:\"Married to Child's Stepfather\", \n",
    "                                                  3:\"Separated\",4:\"Divorced\",5:\"Widowed\",6:\"Single\",7:\"Living with Domestic Partner\"})\n",
    "df[\"Highest Degree Parent Completed\"] = df[\"par_degree\"].replace({1:\"No Degree\",2:\"High School\",3:\"Associate's\",4:\"Bachelor's\",\n",
    "                                                                  5:\"Master's\",6:\"Doctoral\"})\n",
    "df[\"Parent Ethnicity\"] = df[\"par_ethnicity\"].replace({1:\"Hispanic or Latino\",2:\"Not Hispanic or Latino\"})\n",
    "df[\"Parent Race\"] = df[\"par_race\"].replace({1:\"American Indian or Alaskan Native\",2:\"Asian\",3:\"Black or African American\",\n",
    "                                            4:\"Native Hawaiian or Pacific Islander\",5:\"White\"})\n",
    "df[\"Primary Male Caretaker\"] = df[\"par_race\"].replace({1:\"Father\",2:\"Stepfather\",3:\"Grandfather\",4:\"Uncle\",5:\"Mother's boyfriend/partner\",6:\"Other\"})\n",
    "# Main outcomes\n",
    "df[\"Parent Maintain High BG of HFS\"] = df[\"p_maintain_high\"]\n",
    "df[\"Parent Worry/Helplessness Subscale of HFS\"] = df[\"p_helpless\"]\n",
    "df[\"Parent Social Consequences Subscale of HFS\"] = df[\"p_social\"]\n",
    "df[\"Parent GAD-7 Score\"] = df[\"p_gad_total\"]\n",
    "# Make table 1\n",
    "cols = [\"Parent Maintain High BG of HFS\",\"Parent Worry/Helplessness Subscale of HFS\",\n",
    "        \"Parent Social Consequences Subscale of HFS\",\"Parent GAD-7 Score\",\n",
    "        \"Private Insurance\",\"Total Household Income\",\"Parent's Marital Status\",\n",
    "       \"Highest Degree Parent Completed\",\"Parent Race\",\"Parent Ethnicity\",\"Primary Male Caretaker\"]\n",
    "\n",
    "# Print\n",
    "t1 = TableOne(df.query(\"studyvisit == 1\"),columns=cols,groupby='treatment_group',pval=True,display_all=True,\n",
    "             normal_test=True,tukey_test=True,dip_test=True)\n",
    "t1"
   ]
  },
  {
   "cell_type": "markdown",
   "id": "7c2a5de8-806b-42ea-b8c3-b13ef65a2779",
   "metadata": {},
   "source": [
    "Highest Degree Parent Completed, Total Household Income, and Parent's Marital Status were not significant by Fisher's exact test either (p = 0.063, 0.969, and 0.297 respectively)."
   ]
  },
  {
   "cell_type": "markdown",
   "id": "291e2d16-2d5c-4f9a-b00c-6e4d5d387567",
   "metadata": {},
   "source": [
    "## Outcome Plots"
   ]
  },
  {
   "cell_type": "markdown",
   "id": "dcd32a7f-9583-4d3c-993a-59489bc65549",
   "metadata": {},
   "source": [
    "Two of the four outcomes were reasonably normally distributed, but 'p_social' and 'p_gad_total' were skewed and unable to be log-transformed due to many 0 values."
   ]
  },
  {
   "cell_type": "code",
   "execution_count": 4,
   "id": "cd3baf75-33cf-4ece-94bc-28070b50097d",
   "metadata": {},
   "outputs": [
    {
     "data": {
      "image/png": "[encoded data removed]",
      "text/plain": [
       "<Figure size 1080x1440 with 4 Axes>"
      ]
     },
     "metadata": {
      "needs_background": "light"
     },
     "output_type": "display_data"
    }
   ],
   "source": [
    "# Define main outcomes for plotting\n",
    "var_list = [\"Parent Maintain High BG of HFS\",\"Parent Worry/Helplessness Subscale of HFS\",\"Parent Social Consequences Subscale of HFS\",\"Parent GAD-7 Score\"]\n",
    "# Plot\n",
    "fig = plt.figure(figsize = (15,20))\n",
    "ax = fig.gca()\n",
    "df[var_list].hist(ax = ax);# Semicolon hides the matplotlib descriptions in Jupyter"
   ]
  },
  {
   "cell_type": "markdown",
   "id": "11f42aa1-4dda-4063-8441-9689679b9b67",
   "metadata": {},
   "source": [
    "# Model Results\n",
    "All four outcomes were evaluated using a linear mixed model with random intercept for participant. Model assumptions were checked visually. Study visit was treated as a categorical variable to help account for non-linear trends and varying time to visits. In the following tables, \"C(studyvisit)[T.2]\" refers to study visit 2, \"C(studyvisit)[T.3]\" to visit 3, etc.\n",
    "\n",
    "Income was split into three groups: Under \\\\$5K-\\\\$29,999 (reference group); \\\\$30K-\\\\$69,999 (\"C(par_income)[T.Interval(4, 8, closed='right')]\"); and \\\\$70K-\\\\$100K+ (\"C(par_income)[T.Interval(8, 12, closed='right')]\")."
   ]
  },
  {
   "cell_type": "code",
   "execution_count": 5,
   "id": "1fae1d08-e50b-4a6c-ae0a-07226faf2c11",
   "metadata": {},
   "outputs": [],
   "source": [
    "# Import age information\n",
    "v1_dates = pd.read_csv(wd+'Data_Cleaned/v1_dates.csv',usecols=['ID','T1','T1D_Onset'])\n",
    "v1_dates.rename(columns={'ID':'participant_id','T1':'t1_date','T1D_Onset':'t1d_onset'},inplace=True)\n",
    "# Merge, convert to date\n",
    "df = df.merge(v1_dates,how='left',on='participant_id')\n",
    "df['t1_date']=pd.to_datetime(df['t1_date'], errors='coerce', format='%m/%d/%y')\n",
    "df['t1d_onset']=pd.to_datetime(df['t1d_onset'], errors='coerce', format='%m/%d/%y')\n",
    "# Calculate age at T1\n",
    "df['c_dob']= pd.to_datetime(df['c_dob'], errors='coerce', format='%m/%d/%y')\n",
    "df['age']=df['t1_date']-df['c_dob']\n",
    "df['age']=[float(t.days)/365.25 for t in df['age']]\n",
    "# Calculate T1D duration at T1\n",
    "df['t1d_duration']=df['t1_date']-df['t1d_onset']\n",
    "df['t1d_duration']=[float(t.days)/365.25 for t in df['t1d_duration']]\n",
    "# Cut income into three levels, fill down \n",
    "df['par_income'] = df.groupby('participant_id')['par_income'].ffill()\n",
    "df['par_income'] = pd.cut(df['par_income'],[0,4,8,12])\n",
    "df.to_csv('~/Desktop/df.csv')"
   ]
  },
  {
   "cell_type": "code",
   "execution_count": 6,
   "id": "50c95701-72fb-4607-b4b5-18cf63b43565",
   "metadata": {},
   "outputs": [],
   "source": [
    "# Residual plotting function\n",
    "def plot_resid(model):\n",
    "    fig, ax = plt.subplots(1,2,figsize = (15,10))\n",
    "    res = model.resid\n",
    "    kde = sns.kdeplot(mdf.resid, fill = True,ax=ax[0])\n",
    "    kde.set_title(\"KDE Plot of Model Residuals\")\n",
    "    kde.set_xlabel(\"Residuals\")\n",
    "    qq = sm.qqplot(res,line='s',ax=ax[1])"
   ]
  },
  {
   "cell_type": "markdown",
   "id": "5f432a25-5667-4669-86f3-99a65e02d0c2",
   "metadata": {},
   "source": [
    "## Raw Scores"
   ]
  },
  {
   "cell_type": "markdown",
   "id": "1656f344-848e-4536-944a-7856900fbb2e",
   "metadata": {},
   "source": [
    "### Parent Maintain High BG of HFS"
   ]
  },
  {
   "cell_type": "markdown",
   "id": "584ff2b5-290a-48a8-87a4-f1faee0c62b8",
   "metadata": {},
   "source": [
    "#### Adjusted for Age"
   ]
  },
  {
   "cell_type": "code",
   "execution_count": 7,
   "id": "b8ee7bee-aa52-4788-9ced-969133ce315a",
   "metadata": {},
   "outputs": [
    {
     "data": {
      "text/html": [
       "<div>\n",
       "<style scoped>\n",
       "    .dataframe tbody tr th:only-of-type {\n",
       "        vertical-align: middle;\n",
       "    }\n",
       "\n",
       "    .dataframe tbody tr th {\n",
       "        vertical-align: top;\n",
       "    }\n",
       "\n",
       "    .dataframe thead th {\n",
       "        text-align: right;\n",
       "    }\n",
       "</style>\n",
       "<table border=\"1\" class=\"dataframe\">\n",
       "  <thead>\n",
       "    <tr style=\"text-align: right;\">\n",
       "      <th></th>\n",
       "      <th>Coef.</th>\n",
       "      <th>Std.Err.</th>\n",
       "      <th>z</th>\n",
       "      <th>P&gt;|z|</th>\n",
       "      <th>[0.025</th>\n",
       "      <th>0.975]</th>\n",
       "    </tr>\n",
       "  </thead>\n",
       "  <tbody>\n",
       "    <tr>\n",
       "      <th>Intercept</th>\n",
       "      <td>3.082</td>\n",
       "      <td>1.726</td>\n",
       "      <td>1.785</td>\n",
       "      <td>0.074</td>\n",
       "      <td>-0.302</td>\n",
       "      <td>6.465</td>\n",
       "    </tr>\n",
       "    <tr>\n",
       "      <th>C(studyvisit)[T.2]</th>\n",
       "      <td>0.343</td>\n",
       "      <td>0.527</td>\n",
       "      <td>0.650</td>\n",
       "      <td>0.515</td>\n",
       "      <td>-0.690</td>\n",
       "      <td>1.375</td>\n",
       "    </tr>\n",
       "    <tr>\n",
       "      <th>C(studyvisit)[T.3]</th>\n",
       "      <td>1.403</td>\n",
       "      <td>0.527</td>\n",
       "      <td>2.663</td>\n",
       "      <td>0.008</td>\n",
       "      <td>0.370</td>\n",
       "      <td>2.436</td>\n",
       "    </tr>\n",
       "    <tr>\n",
       "      <th>C(studyvisit)[T.4]</th>\n",
       "      <td>-0.417</td>\n",
       "      <td>0.501</td>\n",
       "      <td>-0.834</td>\n",
       "      <td>0.404</td>\n",
       "      <td>-1.399</td>\n",
       "      <td>0.564</td>\n",
       "    </tr>\n",
       "    <tr>\n",
       "      <th>C(studyvisit)[T.5]</th>\n",
       "      <td>-0.341</td>\n",
       "      <td>0.548</td>\n",
       "      <td>-0.622</td>\n",
       "      <td>0.534</td>\n",
       "      <td>-1.415</td>\n",
       "      <td>0.734</td>\n",
       "    </tr>\n",
       "    <tr>\n",
       "      <th>C(studyvisit)[T.6]</th>\n",
       "      <td>-0.518</td>\n",
       "      <td>0.508</td>\n",
       "      <td>-1.021</td>\n",
       "      <td>0.307</td>\n",
       "      <td>-1.514</td>\n",
       "      <td>0.477</td>\n",
       "    </tr>\n",
       "    <tr>\n",
       "      <th>C(studyvisit)[T.7]</th>\n",
       "      <td>-0.699</td>\n",
       "      <td>0.508</td>\n",
       "      <td>-1.377</td>\n",
       "      <td>0.169</td>\n",
       "      <td>-1.694</td>\n",
       "      <td>0.296</td>\n",
       "    </tr>\n",
       "    <tr>\n",
       "      <th>C(studyvisit)[T.8]</th>\n",
       "      <td>-0.523</td>\n",
       "      <td>0.501</td>\n",
       "      <td>-1.045</td>\n",
       "      <td>0.296</td>\n",
       "      <td>-1.505</td>\n",
       "      <td>0.458</td>\n",
       "    </tr>\n",
       "    <tr>\n",
       "      <th>C(treatment_group)[T.1]</th>\n",
       "      <td>0.794</td>\n",
       "      <td>0.822</td>\n",
       "      <td>0.967</td>\n",
       "      <td>0.334</td>\n",
       "      <td>-0.816</td>\n",
       "      <td>2.405</td>\n",
       "    </tr>\n",
       "    <tr>\n",
       "      <th>par_income[T.Interval(4, 8, closed='right')]</th>\n",
       "      <td>0.288</td>\n",
       "      <td>1.284</td>\n",
       "      <td>0.225</td>\n",
       "      <td>0.822</td>\n",
       "      <td>-2.229</td>\n",
       "      <td>2.806</td>\n",
       "    </tr>\n",
       "    <tr>\n",
       "      <th>par_income[T.Interval(8, 12, closed='right')]</th>\n",
       "      <td>1.861</td>\n",
       "      <td>1.156</td>\n",
       "      <td>1.609</td>\n",
       "      <td>0.108</td>\n",
       "      <td>-0.405</td>\n",
       "      <td>4.127</td>\n",
       "    </tr>\n",
       "    <tr>\n",
       "      <th>C(studyvisit)[T.2]:C(treatment_group)[T.1]</th>\n",
       "      <td>-1.980</td>\n",
       "      <td>0.771</td>\n",
       "      <td>-2.567</td>\n",
       "      <td>0.010</td>\n",
       "      <td>-3.491</td>\n",
       "      <td>-0.468</td>\n",
       "    </tr>\n",
       "    <tr>\n",
       "      <th>C(studyvisit)[T.3]:C(treatment_group)[T.1]</th>\n",
       "      <td>-0.806</td>\n",
       "      <td>0.764</td>\n",
       "      <td>-1.055</td>\n",
       "      <td>0.292</td>\n",
       "      <td>-2.304</td>\n",
       "      <td>0.692</td>\n",
       "    </tr>\n",
       "    <tr>\n",
       "      <th>C(studyvisit)[T.4]:C(treatment_group)[T.1]</th>\n",
       "      <td>-1.900</td>\n",
       "      <td>0.770</td>\n",
       "      <td>-2.467</td>\n",
       "      <td>0.014</td>\n",
       "      <td>-3.410</td>\n",
       "      <td>-0.390</td>\n",
       "    </tr>\n",
       "    <tr>\n",
       "      <th>C(studyvisit)[T.5]:C(treatment_group)[T.1]</th>\n",
       "      <td>-2.365</td>\n",
       "      <td>0.804</td>\n",
       "      <td>-2.943</td>\n",
       "      <td>0.003</td>\n",
       "      <td>-3.941</td>\n",
       "      <td>-0.790</td>\n",
       "    </tr>\n",
       "    <tr>\n",
       "      <th>C(studyvisit)[T.6]:C(treatment_group)[T.1]</th>\n",
       "      <td>-2.056</td>\n",
       "      <td>0.759</td>\n",
       "      <td>-2.708</td>\n",
       "      <td>0.007</td>\n",
       "      <td>-3.545</td>\n",
       "      <td>-0.568</td>\n",
       "    </tr>\n",
       "    <tr>\n",
       "      <th>C(studyvisit)[T.7]:C(treatment_group)[T.1]</th>\n",
       "      <td>-2.188</td>\n",
       "      <td>0.759</td>\n",
       "      <td>-2.882</td>\n",
       "      <td>0.004</td>\n",
       "      <td>-3.676</td>\n",
       "      <td>-0.700</td>\n",
       "    </tr>\n",
       "    <tr>\n",
       "      <th>C(studyvisit)[T.8]:C(treatment_group)[T.1]</th>\n",
       "      <td>-2.427</td>\n",
       "      <td>0.755</td>\n",
       "      <td>-3.216</td>\n",
       "      <td>0.001</td>\n",
       "      <td>-3.906</td>\n",
       "      <td>-0.948</td>\n",
       "    </tr>\n",
       "    <tr>\n",
       "      <th>age</th>\n",
       "      <td>0.141</td>\n",
       "      <td>0.098</td>\n",
       "      <td>1.440</td>\n",
       "      <td>0.150</td>\n",
       "      <td>-0.051</td>\n",
       "      <td>0.333</td>\n",
       "    </tr>\n",
       "    <tr>\n",
       "      <th>Group Var</th>\n",
       "      <td>3.985</td>\n",
       "      <td>0.695</td>\n",
       "      <td></td>\n",
       "      <td></td>\n",
       "      <td></td>\n",
       "      <td></td>\n",
       "    </tr>\n",
       "  </tbody>\n",
       "</table>\n",
       "</div>"
      ],
      "text/plain": [
       "                                                Coef. Std.Err.       z  P>|z|  \\\n",
       "Intercept                                       3.082    1.726   1.785  0.074   \n",
       "C(studyvisit)[T.2]                              0.343    0.527   0.650  0.515   \n",
       "C(studyvisit)[T.3]                              1.403    0.527   2.663  0.008   \n",
       "C(studyvisit)[T.4]                             -0.417    0.501  -0.834  0.404   \n",
       "C(studyvisit)[T.5]                             -0.341    0.548  -0.622  0.534   \n",
       "C(studyvisit)[T.6]                             -0.518    0.508  -1.021  0.307   \n",
       "C(studyvisit)[T.7]                             -0.699    0.508  -1.377  0.169   \n",
       "C(studyvisit)[T.8]                             -0.523    0.501  -1.045  0.296   \n",
       "C(treatment_group)[T.1]                         0.794    0.822   0.967  0.334   \n",
       "par_income[T.Interval(4, 8, closed='right')]    0.288    1.284   0.225  0.822   \n",
       "par_income[T.Interval(8, 12, closed='right')]   1.861    1.156   1.609  0.108   \n",
       "C(studyvisit)[T.2]:C(treatment_group)[T.1]     -1.980    0.771  -2.567  0.010   \n",
       "C(studyvisit)[T.3]:C(treatment_group)[T.1]     -0.806    0.764  -1.055  0.292   \n",
       "C(studyvisit)[T.4]:C(treatment_group)[T.1]     -1.900    0.770  -2.467  0.014   \n",
       "C(studyvisit)[T.5]:C(treatment_group)[T.1]     -2.365    0.804  -2.943  0.003   \n",
       "C(studyvisit)[T.6]:C(treatment_group)[T.1]     -2.056    0.759  -2.708  0.007   \n",
       "C(studyvisit)[T.7]:C(treatment_group)[T.1]     -2.188    0.759  -2.882  0.004   \n",
       "C(studyvisit)[T.8]:C(treatment_group)[T.1]     -2.427    0.755  -3.216  0.001   \n",
       "age                                             0.141    0.098   1.440  0.150   \n",
       "Group Var                                       3.985    0.695                  \n",
       "\n",
       "                                               [0.025  0.975]  \n",
       "Intercept                                      -0.302   6.465  \n",
       "C(studyvisit)[T.2]                             -0.690   1.375  \n",
       "C(studyvisit)[T.3]                              0.370   2.436  \n",
       "C(studyvisit)[T.4]                             -1.399   0.564  \n",
       "C(studyvisit)[T.5]                             -1.415   0.734  \n",
       "C(studyvisit)[T.6]                             -1.514   0.477  \n",
       "C(studyvisit)[T.7]                             -1.694   0.296  \n",
       "C(studyvisit)[T.8]                             -1.505   0.458  \n",
       "C(treatment_group)[T.1]                        -0.816   2.405  \n",
       "par_income[T.Interval(4, 8, closed='right')]   -2.229   2.806  \n",
       "par_income[T.Interval(8, 12, closed='right')]  -0.405   4.127  \n",
       "C(studyvisit)[T.2]:C(treatment_group)[T.1]     -3.491  -0.468  \n",
       "C(studyvisit)[T.3]:C(treatment_group)[T.1]     -2.304   0.692  \n",
       "C(studyvisit)[T.4]:C(treatment_group)[T.1]     -3.410  -0.390  \n",
       "C(studyvisit)[T.5]:C(treatment_group)[T.1]     -3.941  -0.790  \n",
       "C(studyvisit)[T.6]:C(treatment_group)[T.1]     -3.545  -0.568  \n",
       "C(studyvisit)[T.7]:C(treatment_group)[T.1]     -3.676  -0.700  \n",
       "C(studyvisit)[T.8]:C(treatment_group)[T.1]     -3.906  -0.948  \n",
       "age                                            -0.051   0.333  \n",
       "Group Var                                                      "
      ]
     },
     "execution_count": 7,
     "metadata": {},
     "output_type": "execute_result"
    }
   ],
   "source": [
    "# Fit a random intercept for each participant\n",
    "ri_mod = smf.mixedlm(\"p_maintain_high ~ C(studyvisit)*C(treatment_group)+par_income+age\", \n",
    "                     df, groups=df[\"participant_id\"],missing = \"drop\")\n",
    "mdf = ri_mod.fit()\n",
    "results_summary = mdf.summary()\n",
    "results_summary.tables[1]"
   ]
  },
  {
   "cell_type": "markdown",
   "id": "e2ee7bc9-89e0-4c56-a9d0-9b1e61a4ec73",
   "metadata": {},
   "source": [
    "#### Adjusted for T1D Duration"
   ]
  },
  {
   "cell_type": "code",
   "execution_count": null,
   "id": "4e2df04a-891c-403d-a5e2-332abc21678e",
   "metadata": {},
   "outputs": [],
   "source": [
    "# Fit a random intercept for each participant\n",
    "ri_mod = smf.mixedlm(\"p_maintain_high ~ C(studyvisit)*C(treatment_group)+par_income+t1d_duration\", \n",
    "                     df, groups=df[\"participant_id\"],missing = \"drop\")\n",
    "mdf = ri_mod.fit()\n",
    "results_summary = mdf.summary()\n",
    "results_summary.tables[1]"
   ]
  },
  {
   "cell_type": "code",
   "execution_count": null,
   "id": "93e0e66c-ac82-4e59-b8c1-1d6b7dc854d7",
   "metadata": {},
   "outputs": [],
   "source": [
    "plot_resid(mdf)"
   ]
  },
  {
   "cell_type": "markdown",
   "id": "e43de9f3-558a-476c-885d-99faf019528e",
   "metadata": {},
   "source": [
    "### Parent Worry/Helplessness Subscale of HFS"
   ]
  },
  {
   "cell_type": "markdown",
   "id": "6a9f3a28-859b-4c61-ad1c-71165393b0ee",
   "metadata": {},
   "source": [
    "#### Adjusted for Age"
   ]
  },
  {
   "cell_type": "code",
   "execution_count": null,
   "id": "b729555a-f6f4-4235-af17-827d7fc61295",
   "metadata": {},
   "outputs": [],
   "source": [
    "# Fit a random intercept for each participant\n",
    "ri_mod = smf.mixedlm(\"p_helpless ~ C(studyvisit)*C(treatment_group)+par_income+age\", \n",
    "                     df, groups=df[\"participant_id\"],missing = \"drop\")\n",
    "mdf = ri_mod.fit()\n",
    "results_summary = mdf.summary()\n",
    "results_summary.tables[1]"
   ]
  },
  {
   "cell_type": "code",
   "execution_count": null,
   "id": "7e320e9f-acc2-4754-882a-206c0cb071e4",
   "metadata": {},
   "outputs": [],
   "source": [
    "plot_resid(mdf)"
   ]
  },
  {
   "cell_type": "markdown",
   "id": "9d944c53-b158-4646-95f5-ba24dd208850",
   "metadata": {},
   "source": [
    "#### Adjusted for T1D Duration"
   ]
  },
  {
   "cell_type": "code",
   "execution_count": null,
   "id": "04be8d47-b8fd-401a-86ed-c50c4228b72a",
   "metadata": {},
   "outputs": [],
   "source": [
    "# Fit a random intercept for each participant\n",
    "ri_mod = smf.mixedlm(\"p_helpless ~ C(studyvisit)*C(treatment_group)+par_income+t1d_duration\", \n",
    "                     df, groups=df[\"participant_id\"],missing = \"drop\")\n",
    "mdf = ri_mod.fit()\n",
    "results_summary = mdf.summary()\n",
    "results_summary.tables[1]"
   ]
  },
  {
   "cell_type": "code",
   "execution_count": null,
   "id": "48168de7-f270-4f6d-9c4e-f6e265c81903",
   "metadata": {},
   "outputs": [],
   "source": [
    "plot_resid(mdf)"
   ]
  },
  {
   "cell_type": "markdown",
   "id": "cf68f2c2-e560-4fdf-8fb9-80a3d4c56096",
   "metadata": {},
   "source": [
    "### Parent Social Consequences Subscale of HFS"
   ]
  },
  {
   "cell_type": "markdown",
   "id": "2bd3f32d-df5f-499d-ad69-83bc7c86ac16",
   "metadata": {},
   "source": [
    "#### Adjusted for Age"
   ]
  },
  {
   "cell_type": "code",
   "execution_count": null,
   "id": "9eb71d12-34ba-4a94-b180-0e198363b933",
   "metadata": {},
   "outputs": [],
   "source": [
    "# Fit a random intercept for each participant\n",
    "ri_mod = smf.mixedlm(\"p_social ~ C(studyvisit)*C(treatment_group)+par_income+age\", \n",
    "                     df, groups=df[\"participant_id\"],missing = \"drop\")\n",
    "mdf = ri_mod.fit()\n",
    "results_summary = mdf.summary()\n",
    "results_summary.tables[1]"
   ]
  },
  {
   "cell_type": "code",
   "execution_count": null,
   "id": "7d37d0af-9c65-4d15-a04a-d1c3331887c7",
   "metadata": {},
   "outputs": [],
   "source": [
    "plot_resid(mdf)"
   ]
  },
  {
   "cell_type": "markdown",
   "id": "1a3821ea-f740-4915-81c4-aa1c07f52cb4",
   "metadata": {},
   "source": [
    "#### Adjusted for T1D Duration"
   ]
  },
  {
   "cell_type": "code",
   "execution_count": null,
   "id": "d919afb7-149a-47d5-a6ee-ddcf21516d09",
   "metadata": {},
   "outputs": [],
   "source": [
    "# Fit a random intercept for each participant\n",
    "ri_mod = smf.mixedlm(\"p_social ~ C(studyvisit)*C(treatment_group)+par_income+t1d_duration\", \n",
    "                     df, groups=df[\"participant_id\"],missing = \"drop\")\n",
    "mdf = ri_mod.fit()\n",
    "results_summary = mdf.summary()\n",
    "results_summary.tables[1]"
   ]
  },
  {
   "cell_type": "code",
   "execution_count": null,
   "id": "0ac94ffe-4463-4a11-beed-6bfa888c64f2",
   "metadata": {},
   "outputs": [],
   "source": [
    "plot_resid(mdf)"
   ]
  },
  {
   "cell_type": "markdown",
   "id": "93b75a44-1fa0-4c3a-8875-5ec1cb7966d5",
   "metadata": {},
   "source": [
    "### Parent GAD-7 Score"
   ]
  },
  {
   "cell_type": "markdown",
   "id": "b9e8c84c-550d-423b-ad24-b9c70c6fc15f",
   "metadata": {},
   "source": [
    "#### Adjusted for Age"
   ]
  },
  {
   "cell_type": "code",
   "execution_count": null,
   "id": "bdcf96c0-055b-426c-b1d5-ebceb3889b8c",
   "metadata": {},
   "outputs": [],
   "source": [
    "# Fit a random intercept for each participant\n",
    "ri_mod = smf.mixedlm(\"p_gad_total ~ C(studyvisit)*C(treatment_group)+par_income+age\", \n",
    "                     df, groups=df[\"participant_id\"],missing = \"drop\")\n",
    "mdf = ri_mod.fit()\n",
    "results_summary = mdf.summary()\n",
    "results_summary.tables[1]"
   ]
  },
  {
   "cell_type": "code",
   "execution_count": null,
   "id": "4702bfab-4bcc-4ca1-81cb-b8ec70801802",
   "metadata": {},
   "outputs": [],
   "source": [
    "plot_resid(mdf)"
   ]
  },
  {
   "cell_type": "markdown",
   "id": "e47039ed-b12d-4c24-91a8-55ac5ac28c50",
   "metadata": {},
   "source": [
    "#### Adjusted for T1D Duration"
   ]
  },
  {
   "cell_type": "code",
   "execution_count": null,
   "id": "a2cf41c9-8a72-4e18-8971-6190cf50438f",
   "metadata": {},
   "outputs": [],
   "source": [
    "# Fit a random intercept for each participant\n",
    "ri_mod = smf.mixedlm(\"p_gad_total ~ C(studyvisit)*C(treatment_group)+par_income+t1d_duration\", \n",
    "                     df, groups=df[\"participant_id\"],missing = \"drop\")\n",
    "mdf = ri_mod.fit()\n",
    "results_summary = mdf.summary()\n",
    "results_summary.tables[1]"
   ]
  },
  {
   "cell_type": "code",
   "execution_count": null,
   "id": "779f8e39-3324-46da-97b4-05650d931d20",
   "metadata": {},
   "outputs": [],
   "source": [
    "plot_resid(mdf)"
   ]
  },
  {
   "cell_type": "markdown",
   "id": "e7fdb4fb-d479-49bc-81bd-e08e0cc994d1",
   "metadata": {},
   "source": [
    "## Elevated Scores vs. Not Elevated"
   ]
  },
  {
   "cell_type": "markdown",
   "id": "d6e6c812-307e-4216-bf54-cdabd0a2d04c",
   "metadata": {},
   "source": [
    "All four outcomes were evaluated using a logistic mixed model with random intercept for participant. Coefficient estimates are reported on the log scale."
   ]
  },
  {
   "cell_type": "code",
   "execution_count": null,
   "id": "7d673e07-9e87-42cb-b90a-e9f692da2df2",
   "metadata": {},
   "outputs": [],
   "source": [
    "# Make cutoffs:\n",
    "# GAD-7 >=10 considered elevated\n",
    "# Maintain High BG >=7 considered elevated\n",
    "# Helplessness >=24 considered elevated\n",
    "# Social Consequences >=9 considered elevated\n",
    "df['p_elevated_maintain']=[float(1) if m >= 7 else float(0) if m < 7 else np.nan for m in df['p_maintain_high']]\n",
    "df['p_elevated_helpless']=[float(1) if m >= 24 else float(0) if m < 24 else np.nan for m in df['p_helpless']]\n",
    "df['p_elevated_social']=[float(1) if m >= 9 else float(0) if m < 9 else np.nan for m in df['p_social']]\n",
    "df['p_elevated_gad']=[float(1) if m >= 10 else float(0) if m < 10 else np.nan for m in df['p_gad_total']]\n",
    "# Make simplified DF for R\n",
    "log_df = df[['participant_id','studyvisit','treatment_group','par_income','age','t1d_duration',\n",
    "             'p_elevated_maintain','p_elevated_helpless','p_elevated_social','p_elevated_gad']].copy().dropna()\n",
    "log_df['par_income'] = log_df['par_income'].astype('str')"
   ]
  },
  {
   "cell_type": "markdown",
   "id": "e934b1a2-4f5e-45ef-bc03-8981f1a10dfa",
   "metadata": {},
   "source": [
    "### Parent Maintain High BG of HFS"
   ]
  },
  {
   "cell_type": "markdown",
   "id": "c7d88bb0-10bd-410a-9437-e9dc8cb13ca7",
   "metadata": {},
   "source": [
    "#### Adjusted for Age"
   ]
  },
  {
   "cell_type": "code",
   "execution_count": null,
   "id": "9d9b7af3-093d-4b58-aa08-0a7888718558",
   "metadata": {},
   "outputs": [],
   "source": [
    "%%R -i log_df\n",
    "suppressMessages(library(lme4))\n",
    "suppressMessages(library(lmerTest))\n",
    "mod <- glmer(p_elevated_maintain ~ factor(studyvisit)*factor(treatment_group)+factor(par_income)+age+(1|participant_id),data = log_df,family = binomial(link = \"logit\"))\n",
    "print(summary(mod)$coefficients[,c(1,4)])"
   ]
  },
  {
   "cell_type": "markdown",
   "id": "914a02f9-84ff-4aa6-a929-38be54269d26",
   "metadata": {},
   "source": [
    "#### Adjusted for T1D Duration"
   ]
  },
  {
   "cell_type": "code",
   "execution_count": null,
   "id": "ede17593-202e-4091-87b5-146ec5a2a337",
   "metadata": {},
   "outputs": [],
   "source": [
    "%%R -i log_df\n",
    "suppressMessages(library(lme4))\n",
    "suppressMessages(library(lmerTest))\n",
    "mod <- glmer(p_elevated_maintain ~ factor(studyvisit)*factor(treatment_group)+factor(par_income)+t1d_duration+(1|participant_id),data = log_df,family = binomial(link = \"logit\"))\n",
    "print(summary(mod)$coefficients[,c(1,4)])"
   ]
  },
  {
   "cell_type": "markdown",
   "id": "07971da7-76ee-4e4c-99f2-3da967626ea9",
   "metadata": {},
   "source": [
    "### Parent Worry/Helplessness Subscale of HFS"
   ]
  },
  {
   "cell_type": "markdown",
   "id": "3f8a2f91-5ea7-4cd2-a102-77d4564fa5de",
   "metadata": {},
   "source": [
    "#### Adjusted for Age"
   ]
  },
  {
   "cell_type": "code",
   "execution_count": null,
   "id": "a08f3e97-a5b6-4984-9ebf-da3cde2f91d6",
   "metadata": {},
   "outputs": [],
   "source": [
    "%%R -i log_df\n",
    "suppressMessages(library(lme4))\n",
    "suppressMessages(library(lmerTest))\n",
    "mod <- glmer(p_elevated_helpless ~ factor(studyvisit)*factor(treatment_group)+factor(par_income)+age+(1|participant_id),data = log_df,family = binomial(link = \"logit\"))\n",
    "print(summary(mod)$coefficients[,c(1,4)])"
   ]
  },
  {
   "cell_type": "markdown",
   "id": "932caf4e-ed68-4aa2-92ea-5c5fb94d539a",
   "metadata": {},
   "source": [
    "#### Adjusted for T1D Duration"
   ]
  },
  {
   "cell_type": "code",
   "execution_count": null,
   "id": "603ad81e-f58e-438f-b3d2-48638c37064d",
   "metadata": {},
   "outputs": [],
   "source": [
    "%%R -i log_df\n",
    "suppressMessages(library(lme4))\n",
    "suppressMessages(library(lmerTest))\n",
    "mod <- glmer(p_elevated_helpless ~ factor(studyvisit)*factor(treatment_group)+factor(par_income)+t1d_duration+(1|participant_id),data = log_df,family = binomial(link = \"logit\"))\n",
    "print(summary(mod)$coefficients[,c(1,4)])"
   ]
  },
  {
   "cell_type": "markdown",
   "id": "7283ac84-0d4f-4821-85a2-c52a717a8d96",
   "metadata": {},
   "source": [
    "### Parent Social Consequences Subscale of HFS"
   ]
  },
  {
   "cell_type": "markdown",
   "id": "bf29edb5-365d-4cd3-a01c-8378fdd50e81",
   "metadata": {},
   "source": [
    "#### Adjusted for Age"
   ]
  },
  {
   "cell_type": "code",
   "execution_count": null,
   "id": "716fd5e8-29bd-4015-b4c8-c72a1030cf21",
   "metadata": {},
   "outputs": [],
   "source": [
    "%%R -i log_df\n",
    "suppressMessages(library(lme4))\n",
    "suppressMessages(library(lmerTest))\n",
    "mod <- glmer(p_elevated_social ~ factor(studyvisit)*factor(treatment_group)+factor(par_income)+age+(1|participant_id),data = log_df,family = binomial(link = \"logit\"))\n",
    "print(summary(mod)$coefficients[,c(1,4)])"
   ]
  },
  {
   "cell_type": "markdown",
   "id": "7279b8d9-2fc2-497a-9677-be5da5501b8d",
   "metadata": {},
   "source": [
    "#### Adjusted for T1D Duration"
   ]
  },
  {
   "cell_type": "code",
   "execution_count": null,
   "id": "415e9f72-9b59-4d25-aab4-7be90312b2cd",
   "metadata": {},
   "outputs": [],
   "source": [
    "%%R -i log_df\n",
    "suppressMessages(library(lme4))\n",
    "suppressMessages(library(lmerTest))\n",
    "mod <- glmer(p_elevated_social ~ factor(studyvisit)*factor(treatment_group)+factor(par_income)+t1d_duration+(1|participant_id),data = log_df,family = binomial(link = \"logit\"))\n",
    "print(summary(mod)$coefficients[,c(1,4)])"
   ]
  },
  {
   "cell_type": "markdown",
   "id": "3ae87323-554e-426c-b606-9c3fd63d5c05",
   "metadata": {},
   "source": [
    "### Parent GAD-7 Score"
   ]
  },
  {
   "cell_type": "markdown",
   "id": "3f2e4f21-39c5-4d79-a449-aa16eb2e89b2",
   "metadata": {},
   "source": [
    "#### Adjusted for Age"
   ]
  },
  {
   "cell_type": "code",
   "execution_count": null,
   "id": "3074ca9f-3abe-46d1-ba1e-8cd1fdab4db1",
   "metadata": {},
   "outputs": [],
   "source": [
    "%%R -i log_df\n",
    "suppressMessages(library(lme4))\n",
    "suppressMessages(library(lmerTest))\n",
    "mod <- glmer(p_elevated_gad ~ factor(studyvisit)*factor(treatment_group)+factor(par_income)+age+(1|participant_id),data = log_df,family = binomial(link = \"logit\"))\n",
    "print(summary(mod)$coefficients[,c(1,4)])"
   ]
  },
  {
   "cell_type": "markdown",
   "id": "5c3befb0-cb0c-4ff9-8f79-8b77cc3289a6",
   "metadata": {},
   "source": [
    "#### Adjusted for T1D Duration"
   ]
  },
  {
   "cell_type": "code",
   "execution_count": null,
   "id": "d338f1df-0397-4c55-a9d5-f7df3b100bb2",
   "metadata": {},
   "outputs": [],
   "source": [
    "%%R -i log_df\n",
    "suppressMessages(library(lme4))\n",
    "suppressMessages(library(lmerTest))\n",
    "mod <- glmer(p_elevated_gad ~ factor(studyvisit)*factor(treatment_group)+factor(par_income)+t1d_duration+(1|participant_id),data = log_df,family = binomial(link = \"logit\"))\n",
    "print(summary(mod)$coefficients[,c(1,4)])"
   ]
  },
  {
   "cell_type": "code",
   "execution_count": null,
   "id": "294a0c9d-91e8-489c-b0de-4d0e519ab241",
   "metadata": {},
   "outputs": [],
   "source": [
    "visit = [1,2,3,4] * 250\n",
    "time = [float(v)*30 + np.random.normal(0,2) for v in visit]\n",
    "y = [float(v + v^2 + v^3) + np.random.normal(0,1) for v in visit]\n",
    "visit_means = []\n",
    "df = pd.DataFrame({'y': y,'visit': visit,'time': time})\n",
    "sns.lmplot(x = 'time',y = 'y',data = df)\n",
    "sns.lmplot(x = 'time',y = 'y',data = df, order = 3)"
   ]
  },
  {
   "cell_type": "code",
   "execution_count": null,
   "id": "fb949951-90c4-4904-8876-95aafb699b52",
   "metadata": {},
   "outputs": [],
   "source": [
    "sns.pointplot(x='visit', y='y',data = df)"
   ]
  }
 ],
 "metadata": {
  "kernelspec": {
   "display_name": "Python 3 (ipykernel)",
   "language": "python",
   "name": "python3"
  },
  "language_info": {
   "codemirror_mode": {
    "name": "ipython",
    "version": 3
   },
   "file_extension": ".py",
   "mimetype": "text/x-python",
   "name": "python",
   "nbconvert_exporter": "python",
   "pygments_lexer": "ipython3",
   "version": "3.8.10"
  },
  "metadata": {
   "interpreter": {
    "hash": "7812ea015bdcee6f23a998adcdd2ef97c151c0c241b7b7070987d9313e41299d"
   }
  }
 },
 "nbformat": 4,
 "nbformat_minor": 5
}
