{
 "cells": [
  {
   "cell_type": "code",
   "execution_count": null,
   "id": "47ee25cc-fece-47de-81d2-b71d7fda46cc",
   "metadata": {},
   "outputs": [],
   "source": [
    "import pytesseract\n",
    "import cv2\n",
    "import PyPDF2\n",
    "import re\n",
    "import os\n",
    "import pandas as pd\n",
    "import numpy as np\n",
    "import matplotlib.pyplot as plt\n",
    "from pdf2image import convert_from_path"
   ]
  },
  {
   "cell_type": "code",
   "execution_count": null,
   "id": "8d2b6c9b-9093-424d-81da-3952651b46f0",
   "metadata": {},
   "outputs": [],
   "source": [
    "# Get all files recursively\n",
    "top_dir = \"/Users/timvigers/Desktop/G4 from Epic Rotated/\"\n",
    "files_only = []\n",
    "for path, subdirs, files in os.walk(top_dir):\n",
    "    for name in files:\n",
    "        if \".pdf\" in name:\n",
    "            files_only.append(str(os.path.join(path, name)))"
   ]
  },
  {
   "cell_type": "code",
   "execution_count": null,
   "id": "4a799bfa-bce0-4204-ad34-eccc0e8c9c83",
   "metadata": {},
   "outputs": [],
   "source": [
    "# Define function for image reading with and without thresholding\n",
    "def get_text(img,threshold = True):\n",
    "    if threshold == True:\n",
    "        gry = cv2.cvtColor(np.array(img), cv2.COLOR_BGR2GRAY)\n",
    "        flt = cv2.adaptiveThreshold(gry,300, cv2.ADAPTIVE_THRESH_MEAN_C,cv2.THRESH_BINARY, 15, 16)\n",
    "        text = pytesseract.image_to_string(flt)\n",
    "    else:\n",
    "        text = pytesseract.image_to_string(img)\n",
    "    text = re.sub(\"[=!?',;.\\n|+ ]\",'',text)\n",
    "    return(text)\n",
    "# Function for searching both texts with regex\n",
    "def regex(text,text2,expression):\n",
    "    var = re.search(expression, text)\n",
    "    if type(var) != re.Match:# Check missing and re-try without image thresholding\n",
    "        var = re.search(expression, text2)    \n",
    "    var = re.findall('\\d+', var[0])   \n",
    "    return(var)"
   ]
  },
  {
   "cell_type": "code",
   "execution_count": null,
   "id": "1f6b9eb9-d6da-4949-bbb6-4b0e25dbe83d",
   "metadata": {},
   "outputs": [],
   "source": [
    "results={'file': [], 'avg_glucose': [], 'sens_use': [], 'calib': [], 'sd': [],'high': [], 'target': [], 'low': []}\n",
    "for file in files_only:\n",
    "    results['file'].append(re.sub('/Users/timvigers/Desktop/G4 from Epic Rotated/','',file))\n",
    "    # List PDF pages\n",
    "    pages = convert_from_path(file)\n",
    "    # Page 1\n",
    "    t1 = get_text(pages[0])\n",
    "    t2 = get_text(pages[0],threshold=False)\n",
    "    # Check document type\n",
    "    if 'EstimatedA1C' not in t1:\n",
    "        # Pull all variables\n",
    "        # Glucose\n",
    "        avg_glucose = regex(t1,t2,'AverageGlucose\\d*')   \n",
    "        results['avg_glucose'].append(''.join(avg_glucose))\n",
    "        # Sensor use\n",
    "        sens_use = regex(t1,t2,'\\d{1,2}of14Days')\n",
    "        results['sens_use'].append(' of '.join(sens_use))\n",
    "        # Calibrations\n",
    "        calib = regex(t1,t2,'Calibrations/day\\d*')\n",
    "        results['calib'].append(''.join(calib))\n",
    "        # SD\n",
    "        sd = regex(t1,t2,'StandardDeviation\\d*')   \n",
    "        results['sd'].append(''.join(sd))\n",
    "        # Percent high\n",
    "        high = regex(t1,t2,'\\d*%High')\n",
    "        results['high'].append(''.join(high))\n",
    "        # Percent target\n",
    "        target = regex(t1,t2,'\\d*%Target')\n",
    "        results['target'].append(''.join(target))\n",
    "        # Percent low\n",
    "        low = regex(t1,t2,'\\d*%Low')\n",
    "        results['low'].append(''.join(low))\n",
    "    elif 'EstimatedA1C' not in t1:\n",
    "results"
   ]
  }
 ],
 "metadata": {
  "kernelspec": {
   "display_name": "Python 3 (ipykernel)",
   "language": "python",
   "name": "python3"
  },
  "language_info": {
   "codemirror_mode": {
    "name": "ipython",
    "version": 3
   },
   "file_extension": ".py",
   "mimetype": "text/x-python",
   "name": "python",
   "nbconvert_exporter": "python",
   "pygments_lexer": "ipython3",
   "version": "3.9.6"
  }
 },
 "nbformat": 4,
 "nbformat_minor": 5
}
