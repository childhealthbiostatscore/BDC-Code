{
 "cells": [
  {
   "cell_type": "code",
   "execution_count": 1,
   "id": "47ee25cc-fece-47de-81d2-b71d7fda46cc",
   "metadata": {},
   "outputs": [],
   "source": [
    "import pytesseract\n",
    "import cv2\n",
    "import PyPDF2\n",
    "import re\n",
    "import os\n",
    "import pandas as pd\n",
    "import numpy as np\n",
    "from pdf2image import convert_from_path"
   ]
  },
  {
   "cell_type": "code",
   "execution_count": 2,
   "id": "8d2b6c9b-9093-424d-81da-3952651b46f0",
   "metadata": {},
   "outputs": [],
   "source": [
    "# Get all files recursively\n",
    "top_dir = \"/Users/timvigers/Desktop/G4 from Epic Rotated/Craig_Jessica\"\n",
    "files_only = []\n",
    "for path, subdirs, files in os.walk(top_dir):\n",
    "    for name in files:\n",
    "        if \".pdf\" in name:\n",
    "            files_only.append(str(os.path.join(path, name)))"
   ]
  },
  {
   "cell_type": "code",
   "execution_count": 75,
   "id": "4a799bfa-bce0-4204-ad34-eccc0e8c9c83",
   "metadata": {},
   "outputs": [],
   "source": [
    "# Define function for image reading with and without thresholding\n",
    "def get_text(img,threshold = True):\n",
    "    if threshold == True:\n",
    "        gry = cv2.cvtColor(np.array(img), cv2.COLOR_BGR2GRAY)\n",
    "        flt = cv2.adaptiveThreshold(gry,300, cv2.ADAPTIVE_THRESH_MEAN_C,cv2.THRESH_BINARY, 15, 16)\n",
    "        text = pytesseract.image_to_string(flt)\n",
    "    else:\n",
    "        text = pytesseract.image_to_string(img)\n",
    "    text = re.sub(\"[=!?',;.\\n|+ ]\",'',text)\n",
    "    return(text)\n",
    "# Function for searching both texts with regex\n",
    "def regex(text,text2,expression):\n",
    "    var = re.search(expression, text)\n",
    "    if type(var) != re.Match:# Check missing and re-try without image thresholding\n",
    "        var = re.search(expression, text2)    \n",
    "    var = re.findall('\\d+', var[0])   \n",
    "    return(var)"
   ]
  },
  {
   "cell_type": "code",
   "execution_count": 76,
   "id": "1f6b9eb9-d6da-4949-bbb6-4b0e25dbe83d",
   "metadata": {},
   "outputs": [
    {
     "data": {
      "text/plain": [
       "{'file': ['Craig_Jessica/Craig_4.3.14- 4.16.14.pdf',\n",
       "  'Craig_Jessica/Craig_5.29.14- 6.11.14.pdf',\n",
       "  'Craig_Jessica/Craig_8.22.14- 9.4.14.pdf',\n",
       "  'Craig_Jessica/Craig_7.25.14- 8.7.14.pdf',\n",
       "  'Craig_Jessica/Craig_9.18.14- 10.1.14.pdf',\n",
       "  'Craig_Jessica/Craig_4.29.14- 5.12.14.pdf',\n",
       "  'Craig_Jessica/Craig_6.13.14- 6.26.14.pdf',\n",
       "  'Craig_Jessica/Craig_8.8.14- 8.21.14.pdf',\n",
       "  'Craig_Jessica/Craig_8.23.14- 9.5.14.pdf',\n",
       "  'Craig_Jessica/Craig_6.26.14- 7.9.14.pdf',\n",
       "  'Craig_Jessica/Craig_7.1.14- 7.23.14.pdf'],\n",
       " 'avg_glucose': ['136',\n",
       "  '120',\n",
       "  '142',\n",
       "  '152',\n",
       "  '133',\n",
       "  '120',\n",
       "  '119',\n",
       "  '128',\n",
       "  '140',\n",
       "  '126',\n",
       "  '123'],\n",
       " 'sens_use': ['10 of 14',\n",
       "  '14 of 14',\n",
       "  '12 of 14',\n",
       "  '44 of 14',\n",
       "  '9 of 14',\n",
       "  '12 of 14',\n",
       "  '14 of 14',\n",
       "  '13 of 14',\n",
       "  '12 of 14',\n",
       "  '12 of 14',\n",
       "  '6 of 14'],\n",
       " 'calib': ['', '', '12', '', '', '18', '15', '13', '13', '18', '20'],\n",
       " 'sd': ['', '82', '53', '55', '49', '52', '43', '75', '52', '46', ''],\n",
       " 'high': ['19', '10', '18', '28', '18', '13', '10', '16', '17', '13', '14'],\n",
       " 'target': ['77', '82', '80', '70', '77', '73', '84', '75', '81', '83', '76'],\n",
       " 'low': ['4', '', '2', '3', '5', '14', '6', '', '2', '4', '10']}"
      ]
     },
     "execution_count": 76,
     "metadata": {},
     "output_type": "execute_result"
    }
   ],
   "source": [
    "results={'file': [], 'avg_glucose': [], 'sens_use': [], 'calib': [], 'sd': [],'high': [], 'target': [], 'low': []}\n",
    "for file in files_only:\n",
    "    results['file'].append(re.sub('/Users/timvigers/Desktop/G4 from Epic Rotated/','',file))\n",
    "    # List PDF pages\n",
    "    pages = convert_from_path(file)\n",
    "    # Page 1\n",
    "    t1 = get_text(pages[0])\n",
    "    t2 = get_text(pages[0],threshold=False)\n",
    "    # Pull all variables\n",
    "    # Glucose\n",
    "    avg_glucose = regex(t1,t2,'AverageGlucose\\d*')   \n",
    "    results['avg_glucose'].append(''.join(avg_glucose))\n",
    "    # Sensor use\n",
    "    sens_use = regex(t1,t2,'\\d{1,2}of14Days')\n",
    "    results['sens_use'].append(' of '.join(sens_use))\n",
    "    # Calibrations\n",
    "    calib = regex(t1,t2,'Calibrations/day\\d*')\n",
    "    results['calib'].append(''.join(calib))\n",
    "    # SD\n",
    "    sd = regex(t1,t2,'StandardDeviation\\d*')   \n",
    "    results['sd'].append(''.join(sd))\n",
    "    # Percent high\n",
    "    high = regex(t1,t2,'\\d*%High')\n",
    "    results['high'].append(''.join(high))\n",
    "    # Percent target\n",
    "    target = regex(t1,t2,'\\d*%Target')\n",
    "    results['target'].append(''.join(target))\n",
    "    # Percent low\n",
    "    low = regex(t1,t2,'\\d*%Low')\n",
    "    results['low'].append(''.join(low))\n",
    "results"
   ]
  },
  {
   "cell_type": "code",
   "execution_count": null,
   "id": "43145fb5-4dad-4da9-abf2-4015eaf0476f",
   "metadata": {},
   "outputs": [],
   "source": []
  }
 ],
 "metadata": {
  "kernelspec": {
   "display_name": "Python 3 (ipykernel)",
   "language": "python",
   "name": "python3"
  },
  "language_info": {
   "codemirror_mode": {
    "name": "ipython",
    "version": 3
   },
   "file_extension": ".py",
   "mimetype": "text/x-python",
   "name": "python",
   "nbconvert_exporter": "python",
   "pygments_lexer": "ipython3",
   "version": "3.9.6"
  }
 },
 "nbformat": 4,
 "nbformat_minor": 5
}
