{
 "cells": [
  {
   "cell_type": "code",
   "execution_count": null,
   "id": "3f42ca88-c250-4835-a528-dc451b6ca2dc",
   "metadata": {},
   "outputs": [],
   "source": [
    "import pandas as pd\n",
    "import matplotlib.pyplot as plt\n",
    "import statsmodels.api as sm\n",
    "from patsy import dmatrices\n",
    "from statsmodels.stats.multitest import multipletests\n",
    "from scipy import stats\n",
    "from tableone import TableOne\n",
    "# Hide annoying ipykernel warnings\n",
    "import warnings;\n",
    "warnings.filterwarnings('ignore');"
   ]
  },
  {
   "cell_type": "markdown",
   "id": "0526d2b4-6937-4de1-a2d9-98d83fd78bad",
   "metadata": {},
   "source": [
    "# Day and Night HbA1c"
   ]
  },
  {
   "cell_type": "code",
   "execution_count": null,
   "id": "63e42819-c170-426e-ae91-129920c48100",
   "metadata": {},
   "outputs": [],
   "source": [
    "# Import data - run GitHub/BDC-Code/Viral Shah/Day and Night CGM/clean_cgms.py first\n",
    "wd = '/Users/timvigers/Dropbox/Work/Viral Shah/Day and Night CGM/'\n",
    "df = pd.read_csv(wd+'Data_Clean/analysis_data.csv')"
   ]
  },
  {
   "cell_type": "markdown",
   "id": "1ed0340e-d19e-4992-b439-7249f12c2219",
   "metadata": {},
   "source": [
    "# Data Characteristics"
   ]
  },
  {
   "cell_type": "markdown",
   "id": "9462d8c5-6d37-4dfe-8532-089e4357311c",
   "metadata": {},
   "source": [
    "- Participants with no CGM data 2 weeks prior to most recent HbA1c were removed.\n",
    "- Several participants' CGM files did not contain glucose data.\n",
    "- Mean glucose was used in place of AUC because participants did not always have the exact same number of day and night observations, and night was defined as only 7 hours long compared to 17 hours of daytime. Mean glucose and AUC per hour are essentially equivalent."
   ]
  },
  {
   "cell_type": "markdown",
   "id": "1d1a905b-815c-4ed9-b505-38eb885797d8",
   "metadata": {},
   "source": [
    "## Table 1"
   ]
  },
  {
   "cell_type": "code",
   "execution_count": null,
   "id": "1aa0252f-a5df-4a62-b60e-2f829d47b288",
   "metadata": {},
   "outputs": [],
   "source": [
    "cgm_vars = ['14 Day Mean','14 Day TIR','14 Night Mean','14 Night TIR',\n",
    "            '30 Day Mean','30 Day TIR','30 Night Mean','30 Night TIR',\n",
    "            '60 Day Mean','60 Day TIR','60 Night Mean','60 Night TIR',\n",
    "            '90 Day Mean','90 Day TIR','90 Night Mean','90 Night TIR']\n",
    "cols = ['Gender','Insulin','Age','HbA1c']+cgm_vars\n",
    "# Print\n",
    "t1 = TableOne(df,columns=cols)\n",
    "t1"
   ]
  },
  {
   "cell_type": "markdown",
   "id": "4888f818-b556-4d34-a5a6-011314068a0f",
   "metadata": {},
   "source": [
    "## Variable Plots"
   ]
  },
  {
   "cell_type": "markdown",
   "id": "c4ef8075-ec4f-4f07-912f-2299b09a70d2",
   "metadata": {},
   "source": [
    "All variables appear to be reasonably Gaussian, although this is not a requirement for Pearson's correlation anyway."
   ]
  },
  {
   "cell_type": "code",
   "execution_count": null,
   "id": "08eae04e-90de-4083-ad54-7a478756d496",
   "metadata": {},
   "outputs": [],
   "source": [
    "fig = plt.figure(figsize = (15,20))\n",
    "ax = fig.gca()\n",
    "df.hist(ax = ax);# Semicolon hides the matplotlib descriptions in Jupyter"
   ]
  },
  {
   "cell_type": "markdown",
   "id": "0dce24b4-8f3d-41c2-9d2c-f393d781bff5",
   "metadata": {},
   "source": [
    "# Correlation with HbA1c"
   ]
  },
  {
   "cell_type": "markdown",
   "id": "fcfdc594-5814-4cdb-a458-7503b2edce47",
   "metadata": {},
   "source": [
    "All following p values were FDR-adjusted for multiple comparisons."
   ]
  },
  {
   "cell_type": "markdown",
   "id": "12f61313-718c-49cd-ad9d-a2d48bb35bef",
   "metadata": {},
   "source": [
    "## Full Cohort"
   ]
  },
  {
   "cell_type": "markdown",
   "id": "9fb118ae-a79c-4e08-a6c2-52b9da3695eb",
   "metadata": {},
   "source": [
    "All CGM metrics were significantly correlated with HbA1c. Correlations were not as strong for nighttime variables. Correlation between mean glucose and HbA1c was slightly better than the correlation between TIR and HbA1c, but generally they seem to be comparable."
   ]
  },
  {
   "cell_type": "code",
   "execution_count": null,
   "id": "37f3311d-4ba6-475e-9871-8fb465d65059",
   "metadata": {},
   "outputs": [],
   "source": [
    "# Correlation for each CGM variable with HbA1c\n",
    "res = {\"Correlation\":[],\"p\":[]}\n",
    "for v in cgm_vars:\n",
    "    res['Correlation'].append(stats.pearsonr(x = df[v],y = df['HbA1c'])[0])\n",
    "    res['p'].append(stats.pearsonr(x = df[v],y = df['HbA1c'])[1])\n",
    "res=pd.DataFrame(data=res)\n",
    "res.index = cgm_vars\n",
    "# Adjust p values\n",
    "res['p'] = multipletests(res['p'],alpha=0.05,method='fdr_bh')[1]\n",
    "# Format\n",
    "res['p'] = [\"< 0.001\" if p < 0.001 else p for p in res['p']]\n",
    "res['Correlation'] = round(res['Correlation'],3)\n",
    "res"
   ]
  },
  {
   "cell_type": "markdown",
   "id": "8d736d3e-42d1-4683-b67c-189c14895ea3",
   "metadata": {},
   "source": [
    "## Stratified by HbA1c Group"
   ]
  },
  {
   "cell_type": "markdown",
   "id": "8e76ad90-6f4a-4a31-8811-f16eb79b27d6",
   "metadata": {},
   "source": [
    "Participants were grouped into three HbA1c categories: < 7%, 7.1-8.5% and > 8.5%:"
   ]
  },
  {
   "cell_type": "code",
   "execution_count": null,
   "id": "b4f6c186-1cbe-43ca-a20a-6e7421933b75",
   "metadata": {},
   "outputs": [],
   "source": [
    "# Categorize HbA1c\n",
    "df['HbA1c Group'] = pd.cut(df['HbA1c'],[0,7,8.5,20],labels=['< 7%','7-8.5%','> 8.5%'])\n",
    "display(pd.DataFrame(df['HbA1c Group'].value_counts()))"
   ]
  },
  {
   "cell_type": "code",
   "execution_count": null,
   "id": "445031b9-1ffa-4700-b6a1-8219cab25171",
   "metadata": {},
   "outputs": [],
   "source": [
    "# Model formula\n",
    "for g in df['HbA1c Group'].unique():\n",
    "    res = {\"Correlation\":[],\"p\":[]}\n",
    "    df_cat = df.loc[df['HbA1c Group'] == g]\n",
    "    for v in cgm_vars:\n",
    "        res['Correlation'].append(stats.pearsonr(x = df_cat[v],y = df_cat['HbA1c'])[0])\n",
    "        res['p'].append(stats.pearsonr(x = df_cat[v],y = df_cat['HbA1c'])[1])\n",
    "    res=pd.DataFrame(data=res)\n",
    "    res.index = cgm_vars\n",
    "    # Adjust p values\n",
    "    res['p'] = multipletests(res['p'],alpha=0.05,method='fdr_bh')[1]\n",
    "    # Format\n",
    "    res['p'] = [\"< 0.001\" if p < 0.001 else p for p in res['p']]\n",
    "    res['Correlation'] = round(res['Correlation'],3)\n",
    "    print('HbA1c group: '+g)\n",
    "    display(pd.DataFrame(res))"
   ]
  }
 ],
 "metadata": {
  "kernelspec": {
   "display_name": "Python 3 (ipykernel)",
   "language": "python",
   "name": "python3"
  },
  "language_info": {
   "codemirror_mode": {
    "name": "ipython",
    "version": 3
   },
   "file_extension": ".py",
   "mimetype": "text/x-python",
   "name": "python",
   "nbconvert_exporter": "python",
   "pygments_lexer": "ipython3",
   "version": "3.10.0"
  }
 },
 "nbformat": 4,
 "nbformat_minor": 5
}
