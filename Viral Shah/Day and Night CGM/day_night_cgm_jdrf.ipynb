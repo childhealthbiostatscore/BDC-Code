{
 "cells": [
  {
   "cell_type": "code",
   "execution_count": 9,
   "id": "4f31f47e",
   "metadata": {},
   "outputs": [],
   "source": [
    "import warnings\n",
    "warnings.filterwarnings('ignore')\n",
    "import pandas as pd\n",
    "import seaborn as sns\n",
    "import statsmodels.formula.api as smf\n",
    "import statsmodels.api as sm\n",
    "from patsy import dmatrices\n",
    "from tableone import TableOne\n",
    "wd = '/Volumes/PEDS/RI Biostatistics Core/Shared/Shared Projects/Laura/BDC/Projects/Viral Shah/Day and Night CGM/'\n",
    "sns.set_theme(style=\"whitegrid\")\n",
    "sns.set_palette(\"coolwarm\")"
   ]
  },
  {
   "cell_type": "code",
   "execution_count": 10,
   "id": "3860f644",
   "metadata": {},
   "outputs": [],
   "source": [
    "# Import data\n",
    "df = pd.read_csv(wd+'Data_Clean/analysis_data.csv',usecols=['ID','Age','HbA1c','14 Day TIR','14 Night TIR','14 Day Mean','14 Night Mean'])\n",
    "df.columns = ['id','age','a1c','day_mbg','day_tir','night_mbg','night_tir']\n",
    "# Get row with most sensor values for each person in JDRF data\n",
    "jdrf = pd.read_csv(wd+'Data_Clean/analysis_data_jdrf.csv')\n",
    "idx = jdrf.groupby('id',sort=False)['sensor_readings'].transform(max) == jdrf['sensor_readings']\n",
    "jdrf = jdrf[idx]\n",
    "idx = jdrf[\"sensor_readings\"] >= 2822 # 70% cutoff for 2 weeks of data\n",
    "jdrf = jdrf[idx]\n",
    "# Combine\n",
    "jdrf = jdrf[['id','age','a1c','day_mbg','day_tir','night_mbg','night_tir']]\n",
    "df = pd.concat([df,jdrf])\n",
    "df.reset_index(inplace=True,drop=True)"
   ]
  },
  {
   "cell_type": "code",
   "execution_count": 11,
   "id": "fe8022b5",
   "metadata": {},
   "outputs": [],
   "source": [
    "# Demographics\n",
    "kaan_demo = pd.read_csv(wd+\"Data_Clean/demographics.csv\",\n",
    "                        usecols=[\"FirstName\",\"LastName\",\"Age\",\"Gender\",\n",
    "                                 \"DiabetesDuration_MostRecentVisitDate\",\n",
    "                                 \"BMI\",\"MostRecentA1C\",\"Hemoglobin_Value\",\n",
    "                                 \"MCV_Value\",\"eGFR_Value\",\n",
    "                                 \"Retinopathy_OD\",\"Retinopathy_OS\",\n",
    "                                 \"Hypothyroidism_YesNo\",\"Hyperthyroidism_YesNo\",\t\n",
    "                                 \"GravesDisease_YesNo\",\"CeliacDisease_YesNo\",\n",
    "                                 \"AddisonsDisease_YesNo\"])\n",
    "kaan_demo[\"id\"] = pd.Series([n.lower() for n in kaan_demo[\"FirstName\"]])\\\n",
    "    + \"_\" + pd.Series([n.lower() for n in kaan_demo[\"LastName\"]])\n",
    "# Manually fixed some names:\n",
    "# tomas_delong\n",
    "# carrie_kroll\n",
    "# ryan_bennett2\n",
    "# joshua_shelton\n",
    "# cortney _fernandez de castro\n",
    "# conner_mckern\n",
    "# josh_kamin\n",
    "# kaelen_davis\n",
    "# cathy_krendl\n",
    "# kelli_kinkaid\n",
    "# charlie_bevis\n",
    "# susan michelle_clay\n",
    "# lynell_rice-brinkworth\n",
    "# ed_wiley\n",
    "# Variables:\n",
    "# age, sex, diabetes duration, BMI, mean A1c, mean HB, mean MCV, mean eGFR, \n",
    "# % of patients with retinopathy (any type, categorical variable), \n",
    "# % of patients with autoimmune disease (combine hypothyroidism, \n",
    "# hyperthyroidism, Graves, Celiac and Addison-If yes, autoimmune disease present)\n",
    "# Sort out data\n",
    "# Combine categorical variables\n",
    "kaan_demo[\"Autoimmune Disease?\"] = \\\n",
    "    kaan_demo[[\"Hypothyroidism_YesNo\",\"Hyperthyroidism_YesNo\",\t\n",
    "               \"GravesDisease_YesNo\",\"CeliacDisease_YesNo\",\n",
    "               \"AddisonsDisease_YesNo\"]].replace([\"No\",\"Yes\"],[0,1])\\\n",
    "        .sum(axis=1).replace([0,1],[\"No\",\"Yes\"])\n",
    "# Retinopathy in either eye?\n",
    "kaan_demo[\"Retinopathy_OD\"] = kaan_demo[\"Retinopathy_OD\"].str.strip() \n",
    "kaan_demo[\"Retinopathy_OS\"] = kaan_demo[\"Retinopathy_OS\"].str.strip() \n",
    "ret_values = kaan_demo[\"Retinopathy_OD\"].tolist() + kaan_demo[\"Retinopathy_OS\"].tolist()\n",
    "ret_values = list(set([v for v in ret_values if str(v) != \"nan\"]))\n",
    "ret_values = dict.fromkeys(ret_values,1)\n",
    "ret_values[\"No Retinopathy\"] = 0\n",
    "kaan_demo[\"Retinopathy?\"] = kaan_demo[[\"Retinopathy_OD\",\"Retinopathy_OS\"]]\\\n",
    "    .replace(ret_values).sum(axis=1,skipna=False).replace({0:\"No\",1:\"Yes\",2:\"Yes\"})\n"
   ]
  },
  {
   "cell_type": "code",
   "execution_count": 12,
   "metadata": {},
   "outputs": [],
   "source": [
    "# JDRF demographics - manually changed column names to match Kaan's data\n",
    "jdrf_demo = pd.read_csv(wd+\"Data_Clean/jdrf_demographics.csv\",\n",
    "                        usecols=[\"FirstName\",\"LastName\",\"MRN\",\"Age\",\"Gender\",\n",
    "                                 \"DiabetesDuration_MostRecentVisitDate\",\n",
    "                                 \"BMI\",\"Retinopathy_OD\",\"Retinopathy_OS\",\n",
    "                                 \"Hypothyroidism_YesNo\",\"Hyperthyroidism_YesNo\",\t\n",
    "                                 \"GravesDisease_YesNo\",\"CeliacDisease_YesNo\",\n",
    "                                 \"AddisonsDisease_YesNo\"])\n",
    "# JDRF labs\n",
    "jdrf_mcv = pd.read_excel(wd + \"Data_Clean/jdrf_labs.xlsx\",sheet_name='MCV')\n",
    "jdrf_hb = pd.read_excel(wd + \"Data_Clean/jdrf_labs.xlsx\",sheet_name='Hemoglobin')\n",
    "# Get most recent values\n",
    "jdrf_hb['Time'] = abs(jdrf_hb['ResultDate'] - jdrf_hb['Date of eye exam'])\n",
    "jdrf_hb = jdrf_hb.groupby('MRN').apply(lambda x: x[x['Time'] == x['Time'].min()])\n",
    "jdrf_hb = jdrf_hb[['MRN','OrderValue']]\n",
    "jdrf_hb.columns = ['MRN','Hemoglobin']\n",
    "jdrf_hb = jdrf_hb.reset_index(drop = True).drop_duplicates()\n",
    "jdrf_mcv['Time'] = abs(jdrf_mcv['ResultDate'] - jdrf_mcv['Date of eye exam'])\n",
    "jdrf_mcv = jdrf_mcv.groupby('MRN').apply(lambda x: x[x['Time'] == x['Time'].min()])\n",
    "jdrf_mcv = jdrf_mcv[['MRN','OrderValue']]\n",
    "jdrf_mcv.columns = ['MRN','MCV']\n",
    "jdrf_mcv = jdrf_mcv.reset_index(drop = True).drop_duplicates()\n",
    "# Merge with demographics\n",
    "jdrf_demo = pd.merge(jdrf_demo,jdrf_hb,on='MRN',how='outer')\n",
    "jdrf_demo = pd.merge(jdrf_demo,jdrf_mcv,on='MRN',how='outer')"
   ]
  },
  {
   "cell_type": "markdown",
   "id": "2526fe69",
   "metadata": {},
   "source": [
    "# Data Characteristics\n",
    "- TIR was calculated using 2 weeks of CGM data prior to an office visit.\n",
    "- For participants with multiple HbA1c measures, the CGM wear with the largest number of sensor readings was used. This was done to prevent auto-correlation between measures within a subject.\n",
    "- CGM with < 70% wear were excluded."
   ]
  },
  {
   "cell_type": "code",
   "execution_count": null,
   "id": "7a430848",
   "metadata": {},
   "outputs": [],
   "source": [
    "# Split into HbA1c groups\n",
    "df['a1c_group'] = pd.cut(df['a1c'],[0,7,8,9,10,float('inf')],labels = [\"<7%\",\"[7.0%, 8.0%)\",\"[8.0%, 9.0%)\",\"[9.0%, 10.0%)\",\">10%\"],right=False)\n",
    "# Difference between day and night\n",
    "df['tir_diff'] = df['day_tir'] - df['night_tir']\n",
    "df['mbg_diff'] = df['day_mbg'] - df['night_mbg']"
   ]
  },
  {
   "cell_type": "markdown",
   "id": "7bebdef5",
   "metadata": {},
   "source": [
    "## Summary Table and Variable Distributions"
   ]
  },
  {
   "cell_type": "code",
   "execution_count": null,
   "id": "faeecc80",
   "metadata": {},
   "outputs": [],
   "source": [
    "columns = ['age','a1c','day_mbg','day_tir','night_mbg','night_tir','a1c_group','tir_diff','mbg_diff']\n",
    "group = ['a1c_group']\n",
    "TableOne(df, columns, groupby = group)"
   ]
  },
  {
   "cell_type": "markdown",
   "id": "792c765b",
   "metadata": {},
   "source": [
    "## Mean Day and Night TIR"
   ]
  },
  {
   "cell_type": "markdown",
   "id": "36e169c5",
   "metadata": {},
   "source": [
    "### By HbA1c Group"
   ]
  },
  {
   "cell_type": "markdown",
   "id": "50dd9e13",
   "metadata": {},
   "source": [
    "#### TIR"
   ]
  },
  {
   "cell_type": "code",
   "execution_count": null,
   "id": "be5f489f",
   "metadata": {},
   "outputs": [],
   "source": [
    "# Wide to long\n",
    "plot_df = df.melt(id_vars=['a1c','a1c_group'],value_vars=['day_tir','night_tir'], value_name='TIR')\n",
    "plot_df['variable'].replace({'day_tir':'Day','night_tir':'Night'},inplace=True)\n",
    "# Plot\n",
    "plot = sns.barplot(x='a1c_group',y='TIR',hue='variable',data=plot_df,capsize=.1,errwidth=1)\n",
    "plot.set(xlabel='HbA1c Group',ylabel='% Time in Range (70-140 mg/dL)')\n",
    "plot.legend(title='');"
   ]
  },
  {
   "cell_type": "code",
   "execution_count": null,
   "id": "2cb69f82",
   "metadata": {},
   "outputs": [],
   "source": [
    "plot = sns.barplot(x='a1c_group',y='tir_diff',data=df,capsize=.1,errwidth=1)\n",
    "plot.set(xlabel='HbA1c Group',ylabel='Day vs. Night TIR Difference');"
   ]
  },
  {
   "cell_type": "markdown",
   "id": "f6cd27bb",
   "metadata": {},
   "source": [
    "#### Mean Sensor Glucose"
   ]
  },
  {
   "cell_type": "code",
   "execution_count": null,
   "id": "f0c2da80",
   "metadata": {},
   "outputs": [],
   "source": [
    "# Wide to long\n",
    "plot_df = df.melt(id_vars=['a1c','a1c_group'],value_vars=['day_mbg','night_mbg'], value_name='MSG')\n",
    "plot_df['variable'].replace({'day_mbg':'Day','night_mbg':'Night'},inplace=True)\n",
    "# Plot\n",
    "plot = sns.barplot(x='a1c_group',y='MSG',hue='variable',data=plot_df,capsize=.1,errwidth=1)\n",
    "plot.set(xlabel='HbA1c Group',ylabel='Mean Sensor Glucose (mg/dL)')\n",
    "plot.legend(title='');"
   ]
  },
  {
   "cell_type": "code",
   "execution_count": null,
   "id": "78034b98",
   "metadata": {},
   "outputs": [],
   "source": [
    "plot = sns.barplot(x='a1c_group',y='mbg_diff',data=df,capsize=.1,errwidth=1)\n",
    "plot.set(xlabel='HbA1c Group',ylabel='Day vs. Night SG Difference');"
   ]
  },
  {
   "cell_type": "markdown",
   "id": "f99c6626",
   "metadata": {},
   "source": [
    "Error bars indicate 95% confidence interval around the mean."
   ]
  },
  {
   "cell_type": "code",
   "execution_count": null,
   "id": "5fa1a601",
   "metadata": {},
   "outputs": [],
   "source": [
    "# Tests\n",
    "lm = smf.ols('day_mbg ~ a1c_group',data=df).fit()\n",
    "sm.stats.anova_lm(lm, typ=2)\n"
   ]
  },
  {
   "cell_type": "code",
   "execution_count": null,
   "id": "fb9c8bcf",
   "metadata": {},
   "outputs": [],
   "source": [
    "lm = smf.ols('night_mbg ~ a1c_group',data=df).fit()\n",
    "sm.stats.anova_lm(lm, typ=2)"
   ]
  },
  {
   "cell_type": "code",
   "execution_count": null,
   "id": "f73cc16e",
   "metadata": {},
   "outputs": [],
   "source": [
    "lm = smf.ols('tir_diff ~ a1c_group',data=df).fit()\n",
    "sm.stats.anova_lm(lm)"
   ]
  },
  {
   "cell_type": "code",
   "execution_count": null,
   "id": "8a5e29c7",
   "metadata": {},
   "outputs": [],
   "source": [
    "lm = smf.ols('mbg_diff ~ a1c_group',data=df).fit()\n",
    "sm.stats.anova_lm(lm)"
   ]
  },
  {
   "cell_type": "markdown",
   "id": "db8aa6e6",
   "metadata": {},
   "source": [
    "There were significant differences in day TIR, night TIR, day MSG, and night MSG by HbA1c group (p < 0.001 for all). However, the differences between day and night TIR and day and night MSG were not different between HbA1c groups (p = 0.08 and p = 0.42, respectively)."
   ]
  },
  {
   "cell_type": "markdown",
   "id": "247a6207",
   "metadata": {},
   "source": [
    "## Correlations Between All Variables"
   ]
  },
  {
   "cell_type": "markdown",
   "id": "73042b69",
   "metadata": {},
   "source": [
    "### Full Cohort"
   ]
  },
  {
   "cell_type": "code",
   "execution_count": null,
   "id": "415ea761",
   "metadata": {},
   "outputs": [],
   "source": [
    "corr_mat = df[['a1c','day_mbg','day_tir','night_mbg','night_tir','a1c_group','tir_diff','mbg_diff']]\n",
    "corr_mat.columns = ['HbA1c','Day MSG','Day TIR','Night MSG','Night TIR','HbA1c Group','Day vs. Night TIR Difference','Day vs. Night SG Difference']\n",
    "c_full = corr_mat.corr()\n",
    "sns.heatmap(c_full,annot=True,cmap=\"coolwarm\");"
   ]
  },
  {
   "cell_type": "code",
   "execution_count": null,
   "id": "b78975f6",
   "metadata": {},
   "outputs": [],
   "source": [
    "corr_mat.corr()"
   ]
  },
  {
   "cell_type": "markdown",
   "id": "2910caed",
   "metadata": {},
   "source": [
    "### By HbA1c Group"
   ]
  },
  {
   "cell_type": "code",
   "execution_count": null,
   "id": "6b6dbd21",
   "metadata": {},
   "outputs": [],
   "source": [
    "g = sns.FacetGrid(corr_mat, col='HbA1c Group')\n",
    "g.fig.set_figwidth(15)\n",
    "g.fig.set_figheight(10)\n",
    "g.map_dataframe(lambda data, color: sns.heatmap(data.corr(),cmap=\"coolwarm\"));"
   ]
  },
  {
   "cell_type": "code",
   "execution_count": null,
   "id": "31beb2da",
   "metadata": {},
   "outputs": [],
   "source": [
    "corr_mat.groupby('HbA1c Group').corr()"
   ]
  }
 ],
 "metadata": {
  "kernelspec": {
   "display_name": "Python 3 (Spyder)",
   "language": "python3",
   "name": "python3"
  },
  "language_info": {
   "codemirror_mode": {
    "name": "ipython",
    "version": 3
   },
   "file_extension": ".py",
   "mimetype": "text/x-python",
   "name": "python",
   "nbconvert_exporter": "python",
   "pygments_lexer": "ipython3",
   "version": "3.9.10"
  }
 },
 "nbformat": 4,
 "nbformat_minor": 5
}
