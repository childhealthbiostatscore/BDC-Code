{
 "cells": [
  {
   "cell_type": "code",
   "execution_count": 2,
   "id": "bf2bd68a-a697-4fec-bee1-f2e793406fd7",
   "metadata": {},
   "outputs": [],
   "source": [
    "import warnings\n",
    "warnings.filterwarnings('ignore')\n",
    "import pandas as pd\n",
    "import pandas.util.testing as tm\n",
    "import seaborn as sns\n",
    "import statsmodels.formula.api as smf\n",
    "import statsmodels.api as sm\n",
    "from patsy import dmatrices\n",
    "wd = '/Users/timvigers/Dropbox/Work/Viral Shah/Day and Night CGM/'\n",
    "sns.set_theme(style=\"whitegrid\")\n",
    "sns.set_palette(\"coolwarm\")"
   ]
  },
  {
   "cell_type": "code",
   "execution_count": 3,
   "id": "455ae080-ab47-484b-b6d3-a47f02889b6f",
   "metadata": {},
   "outputs": [],
   "source": [
    "# Import data\n",
    "df = pd.read_csv(wd+'Data_Clean/analysis_data.csv',usecols=['HbA1c','14 Day TIR','14 Night TIR'])\n",
    "df.columns = ['a1c','day_tir','night_tir']\n",
    "# Get row with most sensor values for each person in JDRF data\n",
    "jdrf = pd.read_csv(wd+'Data_Clean/analysis_data_jdrf.csv')\n",
    "idx = jdrf.groupby('id',sort=False)['sensor_readings'].transform(max) == jdrf['sensor_readings']\n",
    "jdrf = jdrf[idx]\n",
    "idx = jdrf[\"sensor_readings\"] >= 2822 # 70% cutoff for 2 weeks of data\n",
    "jdrf = jdrf[idx]\n",
    "# Combine\n",
    "jdrf = jdrf[['a1c','day_tir','night_tir']]\n",
    "df = pd.concat([df,jdrf])"
   ]
  },
  {
   "cell_type": "markdown",
   "id": "5decfc07-64d5-433a-994d-b7d17aad621d",
   "metadata": {},
   "source": [
    "# Data Characteristics\n",
    "- TIR was calculated using 2 weeks of CGM data prior to an office visit.\n",
    "- For participants with multiple HbA1c measures, the CGM wear with the largest number of sensor readings was used. This was done to prevent auto-correlation between measures within a subject.\n",
    "- CGM with < 70% wear were excluded.\n",
    "- HbA1c was split into the following quintiles: (4.899, 6.2] < (6.2, 6.7] < (6.7, 7.3] < (7.3, 8.0] < (8.0, 13.5]"
   ]
  },
  {
   "cell_type": "code",
   "execution_count": 4,
   "id": "a61a7a94-31b1-40b4-88fa-e9de47d6faa9",
   "metadata": {},
   "outputs": [],
   "source": [
    "# Split into quintiles\n",
    "df['a1c_group'] = pd.qcut(df['a1c'],5)\n",
    "# Difference between day and night TIR\n",
    "df['tir_diff'] = df['day_tir'] - df['night_tir']"
   ]
  },
  {
   "cell_type": "markdown",
   "id": "a6c9d2c5",
   "metadata": {},
   "source": [
    "## Mean Day and Night TIR"
   ]
  },
  {
   "cell_type": "markdown",
   "id": "a4fb80b2",
   "metadata": {},
   "source": [
    "### Full Cohort"
   ]
  },
  {
   "cell_type": "markdown",
   "id": "4dfd9017",
   "metadata": {},
   "source": [
    "#### Means"
   ]
  },
  {
   "cell_type": "code",
   "execution_count": 5,
   "id": "f15f670e",
   "metadata": {},
   "outputs": [
    {
     "data": {
      "text/plain": [
       "Mean HbA1c                            7.218072\n",
       "Mean Day TIR                         60.518396\n",
       "Mean Night TIR                       58.339010\n",
       "Mean Day vs. Night TIR Difference     2.179386\n",
       "dtype: float64"
      ]
     },
     "execution_count": 5,
     "metadata": {},
     "output_type": "execute_result"
    }
   ],
   "source": [
    "means = df.mean(axis=0,numeric_only=True)\n",
    "means.index = ['Mean HbA1c','Mean Day TIR','Mean Night TIR','Mean Day vs. Night TIR Difference']\n",
    "means"
   ]
  },
  {
   "cell_type": "markdown",
   "id": "e18bc7bd",
   "metadata": {},
   "source": [
    "#### Standard Errors"
   ]
  },
  {
   "cell_type": "code",
   "execution_count": 6,
   "id": "1f6c7160",
   "metadata": {},
   "outputs": [
    {
     "data": {
      "text/plain": [
       "SE HbA1c                           0.074872\n",
       "SE Day TIR                         1.054510\n",
       "SE Night TIR                       1.216089\n",
       "SE Day vs. Night TIR Difference    0.745464\n",
       "dtype: float64"
      ]
     },
     "execution_count": 6,
     "metadata": {},
     "output_type": "execute_result"
    }
   ],
   "source": [
    "sem = df.sem(axis=0,numeric_only=True)\n",
    "sem.index = ['SE HbA1c','SE Day TIR','SE Night TIR','SE Day vs. Night TIR Difference']\n",
    "sem"
   ]
  },
  {
   "cell_type": "markdown",
   "id": "8427e78e",
   "metadata": {},
   "source": [
    "### By HbA1c Quintile"
   ]
  },
  {
   "cell_type": "code",
   "execution_count": 7,
   "id": "62583d38",
   "metadata": {},
   "outputs": [
    {
     "data": {
      "image/png": "[encoded data removed]",
      "text/plain": [
       "<Figure size 432x288 with 1 Axes>"
      ]
     },
     "metadata": {},
     "output_type": "display_data"
    }
   ],
   "source": [
    "# Wide to long\n",
    "plot_df = df.melt(id_vars=['a1c','a1c_group'],value_vars=['day_tir','night_tir'], value_name='TIR')\n",
    "plot_df['variable'].replace({'day_tir':'Day','night_tir':'Night'},inplace=True)\n",
    "# Plot\n",
    "plot = sns.barplot(x='a1c_group',y='TIR',hue='variable',data=plot_df,capsize=.1,errwidth=1)\n",
    "plot.set(xlabel='HbA1c Group')\n",
    "plot.legend(title='');"
   ]
  },
  {
   "cell_type": "code",
   "execution_count": 8,
   "id": "252aab9e",
   "metadata": {},
   "outputs": [
    {
     "data": {
      "image/png": "[encoded data removed]",
      "text/plain": [
       "<Figure size 432x288 with 1 Axes>"
      ]
     },
     "metadata": {},
     "output_type": "display_data"
    }
   ],
   "source": [
    "plot = sns.barplot(x='a1c_group',y='tir_diff',data=df,capsize=.1,errwidth=1)\n",
    "plot.set(xlabel='HbA1c Group',ylabel='Day vs. Night TIR Difference');"
   ]
  },
  {
   "cell_type": "markdown",
   "id": "bbd097a5",
   "metadata": {},
   "source": [
    "Error bars indicate 95% confidence interval around the mean."
   ]
  },
  {
   "cell_type": "markdown",
   "id": "48344f97",
   "metadata": {},
   "source": [
    "#### Means"
   ]
  },
  {
   "cell_type": "code",
   "execution_count": 9,
   "id": "28203bc5",
   "metadata": {},
   "outputs": [
    {
     "data": {
      "text/html": [
       "<div>\n",
       "<style scoped>\n",
       "    .dataframe tbody tr th:only-of-type {\n",
       "        vertical-align: middle;\n",
       "    }\n",
       "\n",
       "    .dataframe tbody tr th {\n",
       "        vertical-align: top;\n",
       "    }\n",
       "\n",
       "    .dataframe thead th {\n",
       "        text-align: right;\n",
       "    }\n",
       "</style>\n",
       "<table border=\"1\" class=\"dataframe\">\n",
       "  <thead>\n",
       "    <tr style=\"text-align: right;\">\n",
       "      <th></th>\n",
       "      <th>Mean Day TIR</th>\n",
       "      <th>Mean Night TIR</th>\n",
       "      <th>Mean Day vs. Night TIR Difference</th>\n",
       "    </tr>\n",
       "    <tr>\n",
       "      <th>a1c_group</th>\n",
       "      <th></th>\n",
       "      <th></th>\n",
       "      <th></th>\n",
       "    </tr>\n",
       "  </thead>\n",
       "  <tbody>\n",
       "    <tr>\n",
       "      <th>(4.899, 6.2]</th>\n",
       "      <td>79.845783</td>\n",
       "      <td>78.377183</td>\n",
       "      <td>1.468600</td>\n",
       "    </tr>\n",
       "    <tr>\n",
       "      <th>(6.2, 6.7]</th>\n",
       "      <td>71.287413</td>\n",
       "      <td>68.885929</td>\n",
       "      <td>2.401484</td>\n",
       "    </tr>\n",
       "    <tr>\n",
       "      <th>(6.7, 7.3]</th>\n",
       "      <td>59.013201</td>\n",
       "      <td>56.663401</td>\n",
       "      <td>2.349800</td>\n",
       "    </tr>\n",
       "    <tr>\n",
       "      <th>(7.3, 8.0]</th>\n",
       "      <td>52.797887</td>\n",
       "      <td>49.532942</td>\n",
       "      <td>3.264945</td>\n",
       "    </tr>\n",
       "    <tr>\n",
       "      <th>(8.0, 13.5]</th>\n",
       "      <td>36.228310</td>\n",
       "      <td>34.668662</td>\n",
       "      <td>1.559649</td>\n",
       "    </tr>\n",
       "  </tbody>\n",
       "</table>\n",
       "</div>"
      ],
      "text/plain": [
       "              Mean Day TIR  Mean Night TIR  Mean Day vs. Night TIR Difference\n",
       "a1c_group                                                                    \n",
       "(4.899, 6.2]     79.845783       78.377183                           1.468600\n",
       "(6.2, 6.7]       71.287413       68.885929                           2.401484\n",
       "(6.7, 7.3]       59.013201       56.663401                           2.349800\n",
       "(7.3, 8.0]       52.797887       49.532942                           3.264945\n",
       "(8.0, 13.5]      36.228310       34.668662                           1.559649"
      ]
     },
     "execution_count": 9,
     "metadata": {},
     "output_type": "execute_result"
    }
   ],
   "source": [
    "means = df.groupby(['a1c_group']).mean().drop('a1c', axis=1)\n",
    "means.columns = ['Mean Day TIR','Mean Night TIR','Mean Day vs. Night TIR Difference']\n",
    "sem = df.groupby(['a1c_group']).sem().drop('a1c', axis=1)\n",
    "sem.columns = ['SE Day TIR','SE Night TIR','SE Day vs. Night TIR Difference']\n",
    "means"
   ]
  },
  {
   "cell_type": "markdown",
   "id": "7ab9acc7",
   "metadata": {},
   "source": [
    "#### Standard Errors"
   ]
  },
  {
   "cell_type": "code",
   "execution_count": 10,
   "id": "6efce966",
   "metadata": {},
   "outputs": [
    {
     "data": {
      "text/html": [
       "<div>\n",
       "<style scoped>\n",
       "    .dataframe tbody tr th:only-of-type {\n",
       "        vertical-align: middle;\n",
       "    }\n",
       "\n",
       "    .dataframe tbody tr th {\n",
       "        vertical-align: top;\n",
       "    }\n",
       "\n",
       "    .dataframe thead th {\n",
       "        text-align: right;\n",
       "    }\n",
       "</style>\n",
       "<table border=\"1\" class=\"dataframe\">\n",
       "  <thead>\n",
       "    <tr style=\"text-align: right;\">\n",
       "      <th></th>\n",
       "      <th>SE Day TIR</th>\n",
       "      <th>SE Night TIR</th>\n",
       "      <th>SE Day vs. Night TIR Difference</th>\n",
       "    </tr>\n",
       "    <tr>\n",
       "      <th>a1c_group</th>\n",
       "      <th></th>\n",
       "      <th></th>\n",
       "      <th></th>\n",
       "    </tr>\n",
       "  </thead>\n",
       "  <tbody>\n",
       "    <tr>\n",
       "      <th>(4.899, 6.2]</th>\n",
       "      <td>1.150486</td>\n",
       "      <td>1.491957</td>\n",
       "      <td>1.000227</td>\n",
       "    </tr>\n",
       "    <tr>\n",
       "      <th>(6.2, 6.7]</th>\n",
       "      <td>1.400028</td>\n",
       "      <td>1.978346</td>\n",
       "      <td>1.856595</td>\n",
       "    </tr>\n",
       "    <tr>\n",
       "      <th>(6.7, 7.3]</th>\n",
       "      <td>1.438321</td>\n",
       "      <td>2.046857</td>\n",
       "      <td>1.716620</td>\n",
       "    </tr>\n",
       "    <tr>\n",
       "      <th>(7.3, 8.0]</th>\n",
       "      <td>1.347229</td>\n",
       "      <td>2.411797</td>\n",
       "      <td>1.948089</td>\n",
       "    </tr>\n",
       "    <tr>\n",
       "      <th>(8.0, 13.5]</th>\n",
       "      <td>1.882273</td>\n",
       "      <td>2.017976</td>\n",
       "      <td>1.838249</td>\n",
       "    </tr>\n",
       "  </tbody>\n",
       "</table>\n",
       "</div>"
      ],
      "text/plain": [
       "              SE Day TIR  SE Night TIR  SE Day vs. Night TIR Difference\n",
       "a1c_group                                                              \n",
       "(4.899, 6.2]    1.150486      1.491957                         1.000227\n",
       "(6.2, 6.7]      1.400028      1.978346                         1.856595\n",
       "(6.7, 7.3]      1.438321      2.046857                         1.716620\n",
       "(7.3, 8.0]      1.347229      2.411797                         1.948089\n",
       "(8.0, 13.5]     1.882273      2.017976                         1.838249"
      ]
     },
     "execution_count": 10,
     "metadata": {},
     "output_type": "execute_result"
    }
   ],
   "source": [
    "sem"
   ]
  },
  {
   "cell_type": "markdown",
   "id": "e0656dc2",
   "metadata": {},
   "source": [
    "There were significant differences in day TIR and night TIR by HbA1c quintile (p < 0.001 for both). However, the difference between day and night TIR was not different between HbA1c quintiles (p = 0.95)."
   ]
  },
  {
   "cell_type": "markdown",
   "id": "1ef0ca3d",
   "metadata": {},
   "source": [
    "## Correlation between HbA1c and TIR"
   ]
  },
  {
   "cell_type": "markdown",
   "id": "80d283bb",
   "metadata": {},
   "source": [
    "### Full Cohort"
   ]
  },
  {
   "cell_type": "code",
   "execution_count": 11,
   "id": "fa8f6f2a",
   "metadata": {},
   "outputs": [
    {
     "data": {
      "image/png": "[encoded data removed]",
      "text/plain": [
       "<Figure size 432x288 with 2 Axes>"
      ]
     },
     "metadata": {},
     "output_type": "display_data"
    }
   ],
   "source": [
    "corr_mat = df\n",
    "corr_mat.columns = ['HbA1c','Day TIR','Night TIR','HbA1c Group','Day vs. Night TIR Difference']\n",
    "c_full = corr_mat.corr()\n",
    "sns.heatmap(c_full,annot=True,cmap=\"coolwarm\");"
   ]
  },
  {
   "cell_type": "markdown",
   "id": "ee0c33fb",
   "metadata": {},
   "source": [
    "### By HbA1c Quintile"
   ]
  },
  {
   "cell_type": "code",
   "execution_count": 12,
   "id": "bb64dc4f",
   "metadata": {},
   "outputs": [
    {
     "data": {
      "image/png": "[encoded data removed]",
      "text/plain": [
       "<Figure size 1080x720 with 10 Axes>"
      ]
     },
     "metadata": {},
     "output_type": "display_data"
    }
   ],
   "source": [
    "g = sns.FacetGrid(corr_mat, col='HbA1c Group')\n",
    "g.fig.set_figwidth(15)\n",
    "g.fig.set_figheight(10)\n",
    "g.map_dataframe(lambda data, color: sns.heatmap(data.corr(),cmap=\"coolwarm\"));"
   ]
  },
  {
   "cell_type": "code",
   "execution_count": 13,
   "id": "5db1287c",
   "metadata": {},
   "outputs": [
    {
     "data": {
      "text/html": [
       "<div>\n",
       "<style scoped>\n",
       "    .dataframe tbody tr th:only-of-type {\n",
       "        vertical-align: middle;\n",
       "    }\n",
       "\n",
       "    .dataframe tbody tr th {\n",
       "        vertical-align: top;\n",
       "    }\n",
       "\n",
       "    .dataframe thead th {\n",
       "        text-align: right;\n",
       "    }\n",
       "</style>\n",
       "<table border=\"1\" class=\"dataframe\">\n",
       "  <thead>\n",
       "    <tr style=\"text-align: right;\">\n",
       "      <th></th>\n",
       "      <th></th>\n",
       "      <th>HbA1c</th>\n",
       "      <th>Day TIR</th>\n",
       "      <th>Night TIR</th>\n",
       "      <th>Day vs. Night TIR Difference</th>\n",
       "    </tr>\n",
       "    <tr>\n",
       "      <th>HbA1c Group</th>\n",
       "      <th></th>\n",
       "      <th></th>\n",
       "      <th></th>\n",
       "      <th></th>\n",
       "      <th></th>\n",
       "    </tr>\n",
       "  </thead>\n",
       "  <tbody>\n",
       "    <tr>\n",
       "      <th rowspan=\"4\" valign=\"top\">(4.899, 6.2]</th>\n",
       "      <th>HbA1c</th>\n",
       "      <td>1.000000</td>\n",
       "      <td>-0.419184</td>\n",
       "      <td>-0.342278</td>\n",
       "      <td>0.028392</td>\n",
       "    </tr>\n",
       "    <tr>\n",
       "      <th>Day TIR</th>\n",
       "      <td>-0.419184</td>\n",
       "      <td>1.000000</td>\n",
       "      <td>0.742539</td>\n",
       "      <td>0.042641</td>\n",
       "    </tr>\n",
       "    <tr>\n",
       "      <th>Night TIR</th>\n",
       "      <td>-0.342278</td>\n",
       "      <td>0.742539</td>\n",
       "      <td>1.000000</td>\n",
       "      <td>-0.637531</td>\n",
       "    </tr>\n",
       "    <tr>\n",
       "      <th>Day vs. Night TIR Difference</th>\n",
       "      <td>0.028392</td>\n",
       "      <td>0.042641</td>\n",
       "      <td>-0.637531</td>\n",
       "      <td>1.000000</td>\n",
       "    </tr>\n",
       "    <tr>\n",
       "      <th rowspan=\"4\" valign=\"top\">(6.2, 6.7]</th>\n",
       "      <th>HbA1c</th>\n",
       "      <td>1.000000</td>\n",
       "      <td>-0.275166</td>\n",
       "      <td>-0.237927</td>\n",
       "      <td>0.046031</td>\n",
       "    </tr>\n",
       "    <tr>\n",
       "      <th>Day TIR</th>\n",
       "      <td>-0.275166</td>\n",
       "      <td>1.000000</td>\n",
       "      <td>0.438125</td>\n",
       "      <td>0.287227</td>\n",
       "    </tr>\n",
       "    <tr>\n",
       "      <th>Night TIR</th>\n",
       "      <td>-0.237927</td>\n",
       "      <td>0.438125</td>\n",
       "      <td>1.000000</td>\n",
       "      <td>-0.735194</td>\n",
       "    </tr>\n",
       "    <tr>\n",
       "      <th>Day vs. Night TIR Difference</th>\n",
       "      <td>0.046031</td>\n",
       "      <td>0.287227</td>\n",
       "      <td>-0.735194</td>\n",
       "      <td>1.000000</td>\n",
       "    </tr>\n",
       "    <tr>\n",
       "      <th rowspan=\"4\" valign=\"top\">(6.7, 7.3]</th>\n",
       "      <th>HbA1c</th>\n",
       "      <td>1.000000</td>\n",
       "      <td>0.042071</td>\n",
       "      <td>-0.282767</td>\n",
       "      <td>0.372415</td>\n",
       "    </tr>\n",
       "    <tr>\n",
       "      <th>Day TIR</th>\n",
       "      <td>0.042071</td>\n",
       "      <td>1.000000</td>\n",
       "      <td>0.562426</td>\n",
       "      <td>0.167256</td>\n",
       "    </tr>\n",
       "    <tr>\n",
       "      <th>Night TIR</th>\n",
       "      <td>-0.282767</td>\n",
       "      <td>0.562426</td>\n",
       "      <td>1.000000</td>\n",
       "      <td>-0.721131</td>\n",
       "    </tr>\n",
       "    <tr>\n",
       "      <th>Day vs. Night TIR Difference</th>\n",
       "      <td>0.372415</td>\n",
       "      <td>0.167256</td>\n",
       "      <td>-0.721131</td>\n",
       "      <td>1.000000</td>\n",
       "    </tr>\n",
       "    <tr>\n",
       "      <th rowspan=\"4\" valign=\"top\">(7.3, 8.0]</th>\n",
       "      <th>HbA1c</th>\n",
       "      <td>1.000000</td>\n",
       "      <td>-0.283288</td>\n",
       "      <td>-0.162617</td>\n",
       "      <td>0.005413</td>\n",
       "    </tr>\n",
       "    <tr>\n",
       "      <th>Day TIR</th>\n",
       "      <td>-0.283288</td>\n",
       "      <td>1.000000</td>\n",
       "      <td>0.590405</td>\n",
       "      <td>-0.039376</td>\n",
       "    </tr>\n",
       "    <tr>\n",
       "      <th>Night TIR</th>\n",
       "      <td>-0.162617</td>\n",
       "      <td>0.590405</td>\n",
       "      <td>1.000000</td>\n",
       "      <td>-0.829729</td>\n",
       "    </tr>\n",
       "    <tr>\n",
       "      <th>Day vs. Night TIR Difference</th>\n",
       "      <td>0.005413</td>\n",
       "      <td>-0.039376</td>\n",
       "      <td>-0.829729</td>\n",
       "      <td>1.000000</td>\n",
       "    </tr>\n",
       "    <tr>\n",
       "      <th rowspan=\"4\" valign=\"top\">(8.0, 13.5]</th>\n",
       "      <th>HbA1c</th>\n",
       "      <td>1.000000</td>\n",
       "      <td>-0.636129</td>\n",
       "      <td>-0.436907</td>\n",
       "      <td>-0.171740</td>\n",
       "    </tr>\n",
       "    <tr>\n",
       "      <th>Day TIR</th>\n",
       "      <td>-0.636129</td>\n",
       "      <td>1.000000</td>\n",
       "      <td>0.557609</td>\n",
       "      <td>0.411822</td>\n",
       "    </tr>\n",
       "    <tr>\n",
       "      <th>Night TIR</th>\n",
       "      <td>-0.436907</td>\n",
       "      <td>0.557609</td>\n",
       "      <td>1.000000</td>\n",
       "      <td>-0.526808</td>\n",
       "    </tr>\n",
       "    <tr>\n",
       "      <th>Day vs. Night TIR Difference</th>\n",
       "      <td>-0.171740</td>\n",
       "      <td>0.411822</td>\n",
       "      <td>-0.526808</td>\n",
       "      <td>1.000000</td>\n",
       "    </tr>\n",
       "  </tbody>\n",
       "</table>\n",
       "</div>"
      ],
      "text/plain": [
       "                                              HbA1c   Day TIR  Night TIR  \\\n",
       "HbA1c Group                                                                \n",
       "(4.899, 6.2] HbA1c                         1.000000 -0.419184  -0.342278   \n",
       "             Day TIR                      -0.419184  1.000000   0.742539   \n",
       "             Night TIR                    -0.342278  0.742539   1.000000   \n",
       "             Day vs. Night TIR Difference  0.028392  0.042641  -0.637531   \n",
       "(6.2, 6.7]   HbA1c                         1.000000 -0.275166  -0.237927   \n",
       "             Day TIR                      -0.275166  1.000000   0.438125   \n",
       "             Night TIR                    -0.237927  0.438125   1.000000   \n",
       "             Day vs. Night TIR Difference  0.046031  0.287227  -0.735194   \n",
       "(6.7, 7.3]   HbA1c                         1.000000  0.042071  -0.282767   \n",
       "             Day TIR                       0.042071  1.000000   0.562426   \n",
       "             Night TIR                    -0.282767  0.562426   1.000000   \n",
       "             Day vs. Night TIR Difference  0.372415  0.167256  -0.721131   \n",
       "(7.3, 8.0]   HbA1c                         1.000000 -0.283288  -0.162617   \n",
       "             Day TIR                      -0.283288  1.000000   0.590405   \n",
       "             Night TIR                    -0.162617  0.590405   1.000000   \n",
       "             Day vs. Night TIR Difference  0.005413 -0.039376  -0.829729   \n",
       "(8.0, 13.5]  HbA1c                         1.000000 -0.636129  -0.436907   \n",
       "             Day TIR                      -0.636129  1.000000   0.557609   \n",
       "             Night TIR                    -0.436907  0.557609   1.000000   \n",
       "             Day vs. Night TIR Difference -0.171740  0.411822  -0.526808   \n",
       "\n",
       "                                           Day vs. Night TIR Difference  \n",
       "HbA1c Group                                                              \n",
       "(4.899, 6.2] HbA1c                                             0.028392  \n",
       "             Day TIR                                           0.042641  \n",
       "             Night TIR                                        -0.637531  \n",
       "             Day vs. Night TIR Difference                      1.000000  \n",
       "(6.2, 6.7]   HbA1c                                             0.046031  \n",
       "             Day TIR                                           0.287227  \n",
       "             Night TIR                                        -0.735194  \n",
       "             Day vs. Night TIR Difference                      1.000000  \n",
       "(6.7, 7.3]   HbA1c                                             0.372415  \n",
       "             Day TIR                                           0.167256  \n",
       "             Night TIR                                        -0.721131  \n",
       "             Day vs. Night TIR Difference                      1.000000  \n",
       "(7.3, 8.0]   HbA1c                                             0.005413  \n",
       "             Day TIR                                          -0.039376  \n",
       "             Night TIR                                        -0.829729  \n",
       "             Day vs. Night TIR Difference                      1.000000  \n",
       "(8.0, 13.5]  HbA1c                                            -0.171740  \n",
       "             Day TIR                                           0.411822  \n",
       "             Night TIR                                        -0.526808  \n",
       "             Day vs. Night TIR Difference                      1.000000  "
      ]
     },
     "execution_count": 13,
     "metadata": {},
     "output_type": "execute_result"
    }
   ],
   "source": [
    "corr_mat.groupby('HbA1c Group').corr()"
   ]
  }
 ],
 "metadata": {
  "kernelspec": {
   "display_name": "Python 3 (ipykernel)",
   "language": "python",
   "name": "python3"
  },
  "language_info": {
   "codemirror_mode": {
    "name": "ipython",
    "version": 3
   },
   "file_extension": ".py",
   "mimetype": "text/x-python",
   "name": "python",
   "nbconvert_exporter": "python",
   "pygments_lexer": "ipython3",
   "version": "3.9.9"
  }
 },
 "nbformat": 4,
 "nbformat_minor": 5
}
