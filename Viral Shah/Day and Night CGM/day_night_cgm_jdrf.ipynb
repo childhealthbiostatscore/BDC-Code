{
 "cells": [
  {
   "cell_type": "code",
   "execution_count": 86,
   "id": "4f31f47e",
   "metadata": {},
   "outputs": [],
   "source": [
    "import warnings\n",
    "warnings.filterwarnings('ignore')\n",
    "import pandas as pd\n",
    "import numpy as np\n",
    "import seaborn as sns\n",
    "import statsmodels.formula.api as smf\n",
    "import statsmodels.api as sm\n",
    "from patsy import dmatrices\n",
    "from tableone import TableOne\n",
    "wd = '/Volumes/PEDS/RI Biostatistics Core/Shared/Shared Projects/Laura/BDC/Projects/Viral Shah/Day and Night CGM/'\n",
    "sns.set_theme(style=\"whitegrid\")\n",
    "sns.set_palette(\"coolwarm\")"
   ]
  },
  {
   "cell_type": "code",
   "execution_count": 87,
   "id": "3860f644",
   "metadata": {},
   "outputs": [],
   "source": [
    "# Import data\n",
    "df = pd.read_csv(wd+'Data_Clean/analysis_data.csv',usecols=['ID','Age','HbA1c',\n",
    "\"14 Day Mean\",\"14 Day TIR 70 - 140\",\"14 Day TIR 70 - 180\",\"14 Day TIR Over 180\",\n",
    "\"14 Night Mean\",\"14 Night TIR 70 - 140\",\"14 Night TIR 70 - 180\",\"14 Night TIR Over 180\"])\n",
    "df.columns = ['id','age','a1c','day_mbg','day_tir_70_140','day_tir_70_180','day_tir_over_180',\n",
    "'night_mbg',\"night_tir_70_140\",\"night_tir_70_180\",\"night_tir_over_180\"]\n",
    "# Get row with most sensor values for each person in JDRF data\n",
    "jdrf = pd.read_csv(wd+'Data_Clean/analysis_data_jdrf.csv')\n",
    "idx = jdrf.groupby('id',sort=False)['sensor_readings'].transform(max) == jdrf['sensor_readings']\n",
    "jdrf = jdrf[idx]\n",
    "idx = jdrf[\"sensor_readings\"] >= 2822 # 70% cutoff for 2 weeks of data\n",
    "jdrf = jdrf[idx]\n",
    "# Combine\n",
    "jdrf = jdrf[['id','age','a1c','day_mbg','day_tir_70_140','day_tir_70_180','day_tir_over_180',\n",
    "'night_mbg',\"night_tir_70_140\",\"night_tir_70_180\",\"night_tir_over_180\"]]\n",
    "df = pd.concat([df,jdrf])\n",
    "df.reset_index(inplace=True,drop=True)"
   ]
  },
  {
   "cell_type": "code",
   "execution_count": 88,
   "id": "fe8022b5",
   "metadata": {},
   "outputs": [],
   "source": [
    "# Demographics\n",
    "kaan_demo = pd.read_csv(wd+\"Data_Clean/demographics.csv\",\n",
    "                        usecols=[\"FirstName\",\"LastName\",\"Age\",\"Gender\",\n",
    "                                 \"DiabetesDuration_MostRecentVisitDate\",\n",
    "                                 \"BMI\",\"Hemoglobin_Value\",\"MCV_Value\",\"eGFR_Value\",\n",
    "                                 \"Retinopathy_OD\",\"Retinopathy_OS\",\n",
    "                                 \"Hypothyroidism_YesNo\",\"Hyperthyroidism_YesNo\",\t\n",
    "                                 \"GravesDisease_YesNo\",\"CeliacDisease_YesNo\",\n",
    "                                 \"AddisonsDisease_YesNo\"])\n",
    "kaan_demo[\"id\"] = pd.Series([n.lower() for n in kaan_demo[\"FirstName\"]])\\\n",
    "    + \"_\" + pd.Series([n.lower() for n in kaan_demo[\"LastName\"]])\n",
    "# Manually fixed some names:\n",
    "# tomas_delong\n",
    "# carrie_kroll\n",
    "# ryan_bennett2\n",
    "# joshua_shelton\n",
    "# cortney _fernandez de castro\n",
    "# conner_mckern\n",
    "# josh_kamin\n",
    "# kaelen_davis\n",
    "# cathy_krendl\n",
    "# kelli_kinkaid\n",
    "# charlie_bevis\n",
    "# susan michelle_clay\n",
    "# lynell_rice-brinkworth\n",
    "# ed_wiley\n",
    "# Variables:\n",
    "# age, sex, diabetes duration, BMI, mean A1c, mean HB, mean egfr, mean eGFR, \n",
    "# % of patients with retinopathy (any type, categorical variable), \n",
    "# % of patients with autoimmune disease (combine hypothyroidism, \n",
    "# hyperthyroidism, Graves, Celiac and Addison-If yes, autoimmune disease present)\n",
    "# Sort out data\n",
    "# Combine categorical variables\n",
    "kaan_demo[\"Autoimmune Disease?\"] = \\\n",
    "    kaan_demo[[\"Hypothyroidism_YesNo\",\"Hyperthyroidism_YesNo\",\t\n",
    "               \"GravesDisease_YesNo\",\"CeliacDisease_YesNo\",\n",
    "               \"AddisonsDisease_YesNo\"]].replace([\"No\",\"Yes\"],[0,1])\\\n",
    "        .sum(axis=1).replace([0,1,2],[\"No\",\"Yes\",\"Yes\"])\n",
    "# Retinopathy in either eye?\n",
    "kaan_demo[\"Retinopathy_OD\"] = kaan_demo[\"Retinopathy_OD\"].str.strip() \n",
    "kaan_demo[\"Retinopathy_OS\"] = kaan_demo[\"Retinopathy_OS\"].str.strip() \n",
    "ret_values = kaan_demo[\"Retinopathy_OD\"].tolist() + kaan_demo[\"Retinopathy_OS\"].tolist()\n",
    "ret_values = list(set([v for v in ret_values if str(v) != \"nan\"]))\n",
    "ret_values = dict.fromkeys(ret_values,1)\n",
    "ret_values[\"No Retinopathy\"] = 0\n",
    "kaan_demo[\"Retinopathy?\"] = kaan_demo[[\"Retinopathy_OD\",\"Retinopathy_OS\"]]\\\n",
    "    .replace(ret_values).sum(axis=1,skipna=False).replace({0:\"No\",1:\"Yes\",2:\"Yes\"})\n"
   ]
  },
  {
   "cell_type": "code",
   "execution_count": 89,
   "metadata": {},
   "outputs": [],
   "source": [
    "# JDRF demographics - manually changed column names to match Kaan's data\n",
    "jdrf_demo = pd.read_csv(wd+\"Data_Clean/jdrf_demographics.csv\",\n",
    "                        usecols=[\"id\",\"FirstName\",\"LastName\",\"MRN\",\"Age\",\"Gender\",\n",
    "                                 \"DiabetesDuration_MostRecentVisitDate\",\n",
    "                                 \"BMI\",\"Retinopathy_OD\",\"Retinopathy_OS\",\n",
    "                                 \"Hypothyroidism_YesNo\",\"Hyperthyroidism_YesNo\",\t\n",
    "                                 \"GravesDisease_YesNo\",\"CeliacDisease_YesNo\",\n",
    "                                 \"AddisonsDisease_YesNo\"])\n",
    "# JDRF labs\n",
    "jdrf_mcv = pd.read_excel(wd + \"Data_Clean/jdrf_labs.xlsx\",sheet_name='MCV')\n",
    "jdrf_hb = pd.read_excel(wd + \"Data_Clean/jdrf_labs.xlsx\",sheet_name='Hemoglobin')\n",
    "jdrf_egfr = pd.read_excel(wd + \"Data_Clean/jdrf_labs.xlsx\",sheet_name='eGFR')\n",
    "# Get most recent values\n",
    "jdrf_hb['Time'] = abs(jdrf_hb['ResultDate'] - jdrf_hb['Date of eye exam'])\n",
    "jdrf_hb = jdrf_hb.groupby('MRN').apply(lambda x: x[x['Time'] == x['Time'].min()])\n",
    "jdrf_hb = jdrf_hb[['MRN','OrderValue']]\n",
    "jdrf_hb.columns = ['MRN','Hemoglobin_Value']\n",
    "jdrf_hb = jdrf_hb.reset_index(drop = True).drop_duplicates()\n",
    "jdrf_mcv['Time'] = abs(jdrf_mcv['ResultDate'] - jdrf_mcv['Date of eye exam'])\n",
    "jdrf_mcv = jdrf_mcv.groupby('MRN').apply(lambda x: x[x['Time'] == x['Time'].min()])\n",
    "jdrf_mcv = jdrf_mcv[['MRN','OrderValue']]\n",
    "jdrf_mcv.columns = ['MRN','MCV_Value']\n",
    "jdrf_mcv = jdrf_mcv.reset_index(drop = True).drop_duplicates()\n",
    "jdrf_egfr['Time'] = abs(jdrf_egfr['ResultDate'] - jdrf_egfr['Date of eye exam'])\n",
    "jdrf_egfr = jdrf_egfr.groupby('MRN').apply(lambda x: x[x['Time'] == x['Time'].min()])\n",
    "jdrf_egfr = jdrf_egfr[jdrf_egfr['LabComponent'].isin(['EGFR NON-AFR. AMERICAN','EGFR IF NONAFRICN AM'])]\n",
    "jdrf_egfr = jdrf_egfr[['MRN','OrderValue']]\n",
    "jdrf_egfr.columns = ['MRN','eGFR_Value']\n",
    "jdrf_egfr = jdrf_egfr.reset_index(drop = True).drop_duplicates()\n",
    "# Merge with demographics\n",
    "jdrf_demo = pd.merge(jdrf_demo,jdrf_hb,on='MRN',how='outer')\n",
    "jdrf_demo = pd.merge(jdrf_demo,jdrf_mcv,on='MRN',how='outer')\n",
    "jdrf_demo = pd.merge(jdrf_demo,jdrf_egfr,on='MRN',how='outer')\n",
    "# Combine categorical variables\n",
    "jdrf_demo[\"Autoimmune Disease?\"] = \\\n",
    "    jdrf_demo[[\"Hypothyroidism_YesNo\",\"Hyperthyroidism_YesNo\",\t\n",
    "           \"GravesDisease_YesNo\",\"CeliacDisease_YesNo\",\n",
    "           \"AddisonsDisease_YesNo\"]].replace([\"No\",\"Yes\"],[0,1])\\\n",
    "               .sum(axis=1).replace([0,1,2],[\"No\",\"Yes\",\"Yes\"])\n",
    "# Retinopathy in either eye?\n",
    "jdrf_demo[\"Retinopathy_OD\"] = jdrf_demo[\"Retinopathy_OD\"].str.strip() \n",
    "jdrf_demo[\"Retinopathy_OS\"] = jdrf_demo[\"Retinopathy_OS\"].str.strip() \n",
    "ret_values = jdrf_demo[\"Retinopathy_OD\"].tolist() + jdrf_demo[\"Retinopathy_OS\"].tolist()\n",
    "ret_values = list(set([v for v in ret_values if str(v) != \"nan\"]))\n",
    "ret_values = dict.fromkeys(ret_values,1)\n",
    "ret_values[\"No Retinopathy\"] = 0\n",
    "jdrf_demo[\"Retinopathy?\"] = jdrf_demo[[\"Retinopathy_OD\",\"Retinopathy_OS\"]]\\\n",
    "    .replace(ret_values).sum(axis=1,skipna=False).replace({0:\"No\",1:\"Yes\",2:\"Yes\"})\n",
    "# Put everything together\n",
    "demo = pd.concat([jdrf_demo,kaan_demo])\n",
    "df = pd.merge(df,demo,how='left',on='id')\n",
    "# As numeric\n",
    "df['Hemoglobin_Value'] = pd.to_numeric(df['Hemoglobin_Value'],errors='coerce')\n",
    "df['MCV_Value'] = pd.to_numeric(df['MCV_Value'],errors='coerce')\n",
    "df['eGFR_Value'] = pd.to_numeric(df['eGFR_Value'],errors='coerce')"
   ]
  },
  {
   "cell_type": "markdown",
   "id": "2526fe69",
   "metadata": {},
   "source": [
    "# Data Characteristics\n",
    "- TIR was calculated using 2 weeks of CGM data prior to an office visit.\n",
    "- For participants with multiple HbA1c measures, the CGM wear with the largest number of sensor readings was used. This was done to prevent auto-correlation between measures within a subject.\n",
    "- CGM with < 70% wear were excluded."
   ]
  },
  {
   "cell_type": "code",
   "execution_count": 90,
   "id": "7a430848",
   "metadata": {},
   "outputs": [],
   "source": [
    "# Split into HbA1c groups\n",
    "df['a1c_group'] = pd.cut(df['a1c'],[0,7,8,9,10,float('inf')],labels = [\"<7%\",\"[7.0%, 8.0%)\",\"[8.0%, 9.0%)\",\"[9.0%, 10.0%)\",\">10%\"],right=False)\n",
    "# Difference between day and night\n",
    "df['tir_70_140_diff'] = df['day_tir_70_140'] - df['night_tir_70_140']\n",
    "df['tir_70_180_diff'] = df['day_tir_70_180'] - df['night_tir_70_180']\n",
    "df['tir_over_180_diff'] = df['day_tir_over_180'] - df['night_tir_over_180']\n",
    "df['mbg_diff'] = df['day_mbg'] - df['night_mbg']"
   ]
  },
  {
   "cell_type": "markdown",
   "id": "54160642",
   "metadata": {},
   "source": [
    "# Participant Characteristics"
   ]
  },
  {
   "cell_type": "code",
   "execution_count": 91,
   "id": "ff55ed9f",
   "metadata": {},
   "outputs": [
    {
     "data": {
      "text/html": [
       "<div>\n",
       "<style scoped>\n",
       "    .dataframe tbody tr th:only-of-type {\n",
       "        vertical-align: middle;\n",
       "    }\n",
       "\n",
       "    .dataframe tbody tr th {\n",
       "        vertical-align: top;\n",
       "    }\n",
       "\n",
       "    .dataframe thead tr th {\n",
       "        text-align: left;\n",
       "    }\n",
       "</style>\n",
       "<table border=\"1\" class=\"dataframe\">\n",
       "  <thead>\n",
       "    <tr>\n",
       "      <th></th>\n",
       "      <th></th>\n",
       "      <th colspan=\"7\" halign=\"left\">Grouped by a1c_group</th>\n",
       "    </tr>\n",
       "    <tr>\n",
       "      <th></th>\n",
       "      <th></th>\n",
       "      <th>Missing</th>\n",
       "      <th>Overall</th>\n",
       "      <th>&lt;7%</th>\n",
       "      <th>[7.0%, 8.0%)</th>\n",
       "      <th>[8.0%, 9.0%)</th>\n",
       "      <th>[9.0%, 10.0%)</th>\n",
       "      <th>&gt;10%</th>\n",
       "    </tr>\n",
       "  </thead>\n",
       "  <tbody>\n",
       "    <tr>\n",
       "      <th>n</th>\n",
       "      <th></th>\n",
       "      <td></td>\n",
       "      <td>407</td>\n",
       "      <td>190</td>\n",
       "      <td>124</td>\n",
       "      <td>48</td>\n",
       "      <td>26</td>\n",
       "      <td>19</td>\n",
       "    </tr>\n",
       "    <tr>\n",
       "      <th>a1c, mean (SD)</th>\n",
       "      <th></th>\n",
       "      <td>0</td>\n",
       "      <td>7.3 (1.4)</td>\n",
       "      <td>6.3 (0.5)</td>\n",
       "      <td>7.4 (0.3)</td>\n",
       "      <td>8.3 (0.3)</td>\n",
       "      <td>9.4 (0.3)</td>\n",
       "      <td>11.4 (0.9)</td>\n",
       "    </tr>\n",
       "    <tr>\n",
       "      <th>Age, mean (SD)</th>\n",
       "      <th></th>\n",
       "      <td>60</td>\n",
       "      <td>38.7 (14.6)</td>\n",
       "      <td>40.4 (13.0)</td>\n",
       "      <td>40.8 (15.1)</td>\n",
       "      <td>33.9 (15.9)</td>\n",
       "      <td>35.1 (16.0)</td>\n",
       "      <td>25.6 (11.9)</td>\n",
       "    </tr>\n",
       "    <tr>\n",
       "      <th rowspan=\"2\" valign=\"top\">Gender, n (%)</th>\n",
       "      <th>F</th>\n",
       "      <td>60</td>\n",
       "      <td>192 (55.3)</td>\n",
       "      <td>91 (55.8)</td>\n",
       "      <td>52 (49.5)</td>\n",
       "      <td>28 (68.3)</td>\n",
       "      <td>12 (60.0)</td>\n",
       "      <td>9 (50.0)</td>\n",
       "    </tr>\n",
       "    <tr>\n",
       "      <th>M</th>\n",
       "      <td></td>\n",
       "      <td>155 (44.7)</td>\n",
       "      <td>72 (44.2)</td>\n",
       "      <td>53 (50.5)</td>\n",
       "      <td>13 (31.7)</td>\n",
       "      <td>8 (40.0)</td>\n",
       "      <td>9 (50.0)</td>\n",
       "    </tr>\n",
       "    <tr>\n",
       "      <th>BMI, mean (SD)</th>\n",
       "      <th></th>\n",
       "      <td>73</td>\n",
       "      <td>26.7 (4.7)</td>\n",
       "      <td>26.6 (4.5)</td>\n",
       "      <td>27.8 (5.2)</td>\n",
       "      <td>25.5 (3.9)</td>\n",
       "      <td>25.2 (3.7)</td>\n",
       "      <td>24.0 (4.9)</td>\n",
       "    </tr>\n",
       "    <tr>\n",
       "      <th>DiabetesDuration_MostRecentVisitDate, mean (SD)</th>\n",
       "      <th></th>\n",
       "      <td>62</td>\n",
       "      <td>19.7 (13.0)</td>\n",
       "      <td>20.2 (13.2)</td>\n",
       "      <td>20.5 (13.2)</td>\n",
       "      <td>19.1 (12.6)</td>\n",
       "      <td>19.2 (13.7)</td>\n",
       "      <td>12.7 (8.0)</td>\n",
       "    </tr>\n",
       "    <tr>\n",
       "      <th>Hemoglobin_Value, mean (SD)</th>\n",
       "      <th></th>\n",
       "      <td>134</td>\n",
       "      <td>15.0 (1.5)</td>\n",
       "      <td>14.9 (1.5)</td>\n",
       "      <td>15.0 (1.6)</td>\n",
       "      <td>14.9 (1.1)</td>\n",
       "      <td>15.2 (1.4)</td>\n",
       "      <td>15.6 (1.6)</td>\n",
       "    </tr>\n",
       "    <tr>\n",
       "      <th>MCV_Value, mean (SD)</th>\n",
       "      <th></th>\n",
       "      <td>174</td>\n",
       "      <td>90.5 (4.5)</td>\n",
       "      <td>90.8 (4.7)</td>\n",
       "      <td>90.0 (4.3)</td>\n",
       "      <td>90.8 (5.1)</td>\n",
       "      <td>89.2 (2.4)</td>\n",
       "      <td>92.3 (4.1)</td>\n",
       "    </tr>\n",
       "    <tr>\n",
       "      <th>eGFR_Value, mean (SD)</th>\n",
       "      <th></th>\n",
       "      <td>131</td>\n",
       "      <td>97.7 (18.6)</td>\n",
       "      <td>97.0 (18.8)</td>\n",
       "      <td>95.6 (17.8)</td>\n",
       "      <td>97.5 (19.1)</td>\n",
       "      <td>111.6 (12.1)</td>\n",
       "      <td>107.1 (20.7)</td>\n",
       "    </tr>\n",
       "    <tr>\n",
       "      <th rowspan=\"2\" valign=\"top\">Autoimmune Disease?, n (%)</th>\n",
       "      <th>No</th>\n",
       "      <td>60</td>\n",
       "      <td>270 (77.8)</td>\n",
       "      <td>130 (79.8)</td>\n",
       "      <td>81 (77.1)</td>\n",
       "      <td>31 (75.6)</td>\n",
       "      <td>14 (70.0)</td>\n",
       "      <td>14 (77.8)</td>\n",
       "    </tr>\n",
       "    <tr>\n",
       "      <th>Yes</th>\n",
       "      <td></td>\n",
       "      <td>77 (22.2)</td>\n",
       "      <td>33 (20.2)</td>\n",
       "      <td>24 (22.9)</td>\n",
       "      <td>10 (24.4)</td>\n",
       "      <td>6 (30.0)</td>\n",
       "      <td>4 (22.2)</td>\n",
       "    </tr>\n",
       "    <tr>\n",
       "      <th rowspan=\"2\" valign=\"top\">Retinopathy?, n (%)</th>\n",
       "      <th>No</th>\n",
       "      <td>119</td>\n",
       "      <td>108 (37.5)</td>\n",
       "      <td>58 (43.9)</td>\n",
       "      <td>31 (34.4)</td>\n",
       "      <td>9 (24.3)</td>\n",
       "      <td>6 (40.0)</td>\n",
       "      <td>4 (28.6)</td>\n",
       "    </tr>\n",
       "    <tr>\n",
       "      <th>Yes</th>\n",
       "      <td></td>\n",
       "      <td>180 (62.5)</td>\n",
       "      <td>74 (56.1)</td>\n",
       "      <td>59 (65.6)</td>\n",
       "      <td>28 (75.7)</td>\n",
       "      <td>9 (60.0)</td>\n",
       "      <td>10 (71.4)</td>\n",
       "    </tr>\n",
       "  </tbody>\n",
       "</table>\n",
       "</div><br />"
      ],
      "text/plain": [
       "                                                    Grouped by a1c_group                                                                                \n",
       "                                                                 Missing      Overall          <7% [7.0%, 8.0%) [8.0%, 9.0%) [9.0%, 10.0%)          >10%\n",
       "n                                                                                 407          190          124           48            26            19\n",
       "a1c, mean (SD)                                                         0    7.3 (1.4)    6.3 (0.5)    7.4 (0.3)    8.3 (0.3)     9.4 (0.3)    11.4 (0.9)\n",
       "Age, mean (SD)                                                        60  38.7 (14.6)  40.4 (13.0)  40.8 (15.1)  33.9 (15.9)   35.1 (16.0)   25.6 (11.9)\n",
       "Gender, n (%)                                   F                     60   192 (55.3)    91 (55.8)    52 (49.5)    28 (68.3)     12 (60.0)      9 (50.0)\n",
       "                                                M                          155 (44.7)    72 (44.2)    53 (50.5)    13 (31.7)      8 (40.0)      9 (50.0)\n",
       "BMI, mean (SD)                                                        73   26.7 (4.7)   26.6 (4.5)   27.8 (5.2)   25.5 (3.9)    25.2 (3.7)    24.0 (4.9)\n",
       "DiabetesDuration_MostRecentVisitDate, mean (SD)                       62  19.7 (13.0)  20.2 (13.2)  20.5 (13.2)  19.1 (12.6)   19.2 (13.7)    12.7 (8.0)\n",
       "Hemoglobin_Value, mean (SD)                                          134   15.0 (1.5)   14.9 (1.5)   15.0 (1.6)   14.9 (1.1)    15.2 (1.4)    15.6 (1.6)\n",
       "MCV_Value, mean (SD)                                                 174   90.5 (4.5)   90.8 (4.7)   90.0 (4.3)   90.8 (5.1)    89.2 (2.4)    92.3 (4.1)\n",
       "eGFR_Value, mean (SD)                                                131  97.7 (18.6)  97.0 (18.8)  95.6 (17.8)  97.5 (19.1)  111.6 (12.1)  107.1 (20.7)\n",
       "Autoimmune Disease?, n (%)                      No                    60   270 (77.8)   130 (79.8)    81 (77.1)    31 (75.6)     14 (70.0)     14 (77.8)\n",
       "                                                Yes                         77 (22.2)    33 (20.2)    24 (22.9)    10 (24.4)      6 (30.0)      4 (22.2)\n",
       "Retinopathy?, n (%)                             No                   119   108 (37.5)    58 (43.9)    31 (34.4)     9 (24.3)      6 (40.0)      4 (28.6)\n",
       "                                                Yes                        180 (62.5)    74 (56.1)    59 (65.6)    28 (75.7)      9 (60.0)     10 (71.4)"
      ]
     },
     "execution_count": 91,
     "metadata": {},
     "output_type": "execute_result"
    }
   ],
   "source": [
    "columns = ['a1c','Age','Gender', 'BMI', 'DiabetesDuration_MostRecentVisitDate','Hemoglobin_Value','MCV_Value', 'eGFR_Value', 'Autoimmune Disease?', 'Retinopathy?']\n",
    "categorical = ['Gender','Autoimmune Disease?', 'Retinopathy?']\n",
    "group = ['a1c_group']\n",
    "TableOne(df, columns, categorical,groupby = group)"
   ]
  },
  {
   "cell_type": "markdown",
   "id": "7bebdef5",
   "metadata": {},
   "source": [
    "## Summary Table and Variable Distributions"
   ]
  },
  {
   "cell_type": "code",
   "execution_count": 92,
   "id": "faeecc80",
   "metadata": {},
   "outputs": [
    {
     "data": {
      "text/html": [
       "<div>\n",
       "<style scoped>\n",
       "    .dataframe tbody tr th:only-of-type {\n",
       "        vertical-align: middle;\n",
       "    }\n",
       "\n",
       "    .dataframe tbody tr th {\n",
       "        vertical-align: top;\n",
       "    }\n",
       "\n",
       "    .dataframe thead tr th {\n",
       "        text-align: left;\n",
       "    }\n",
       "</style>\n",
       "<table border=\"1\" class=\"dataframe\">\n",
       "  <thead>\n",
       "    <tr>\n",
       "      <th></th>\n",
       "      <th></th>\n",
       "      <th colspan=\"7\" halign=\"left\">Grouped by a1c_group</th>\n",
       "    </tr>\n",
       "    <tr>\n",
       "      <th></th>\n",
       "      <th></th>\n",
       "      <th>Missing</th>\n",
       "      <th>Overall</th>\n",
       "      <th>&lt;7%</th>\n",
       "      <th>[7.0%, 8.0%)</th>\n",
       "      <th>[8.0%, 9.0%)</th>\n",
       "      <th>[9.0%, 10.0%)</th>\n",
       "      <th>&gt;10%</th>\n",
       "    </tr>\n",
       "  </thead>\n",
       "  <tbody>\n",
       "    <tr>\n",
       "      <th>n</th>\n",
       "      <th></th>\n",
       "      <td></td>\n",
       "      <td>407</td>\n",
       "      <td>190</td>\n",
       "      <td>124</td>\n",
       "      <td>48</td>\n",
       "      <td>26</td>\n",
       "      <td>19</td>\n",
       "    </tr>\n",
       "    <tr>\n",
       "      <th>age, mean (SD)</th>\n",
       "      <th></th>\n",
       "      <td>0</td>\n",
       "      <td>38.7 (15.0)</td>\n",
       "      <td>40.7 (13.5)</td>\n",
       "      <td>41.5 (15.5)</td>\n",
       "      <td>32.7 (15.3)</td>\n",
       "      <td>32.0 (15.3)</td>\n",
       "      <td>24.7 (12.0)</td>\n",
       "    </tr>\n",
       "    <tr>\n",
       "      <th>a1c, mean (SD)</th>\n",
       "      <th></th>\n",
       "      <td>0</td>\n",
       "      <td>7.3 (1.4)</td>\n",
       "      <td>6.3 (0.5)</td>\n",
       "      <td>7.4 (0.3)</td>\n",
       "      <td>8.3 (0.3)</td>\n",
       "      <td>9.4 (0.3)</td>\n",
       "      <td>11.4 (0.9)</td>\n",
       "    </tr>\n",
       "    <tr>\n",
       "      <th>day_mbg, mean (SD)</th>\n",
       "      <th></th>\n",
       "      <td>0</td>\n",
       "      <td>167.0 (35.6)</td>\n",
       "      <td>143.2 (22.7)</td>\n",
       "      <td>171.4 (17.3)</td>\n",
       "      <td>193.4 (19.4)</td>\n",
       "      <td>214.9 (28.8)</td>\n",
       "      <td>244.0 (39.0)</td>\n",
       "    </tr>\n",
       "    <tr>\n",
       "      <th>day_tir_70_140, mean (SD)</th>\n",
       "      <th></th>\n",
       "      <td>0</td>\n",
       "      <td>38.9 (17.4)</td>\n",
       "      <td>51.1 (14.7)</td>\n",
       "      <td>33.8 (9.8)</td>\n",
       "      <td>24.7 (8.0)</td>\n",
       "      <td>18.9 (9.2)</td>\n",
       "      <td>13.2 (9.2)</td>\n",
       "    </tr>\n",
       "    <tr>\n",
       "      <th>day_tir_70_180, mean (SD)</th>\n",
       "      <th></th>\n",
       "      <td>0</td>\n",
       "      <td>60.5 (19.0)</td>\n",
       "      <td>73.5 (12.6)</td>\n",
       "      <td>57.4 (11.3)</td>\n",
       "      <td>45.7 (10.6)</td>\n",
       "      <td>35.0 (14.3)</td>\n",
       "      <td>23.5 (13.6)</td>\n",
       "    </tr>\n",
       "    <tr>\n",
       "      <th>day_tir_over_180, mean (SD)</th>\n",
       "      <th></th>\n",
       "      <td>0</td>\n",
       "      <td>36.4 (20.4)</td>\n",
       "      <td>22.2 (13.8)</td>\n",
       "      <td>40.3 (11.7)</td>\n",
       "      <td>52.7 (11.0)</td>\n",
       "      <td>63.8 (14.6)</td>\n",
       "      <td>75.3 (14.7)</td>\n",
       "    </tr>\n",
       "    <tr>\n",
       "      <th>night_mbg, mean (SD)</th>\n",
       "      <th></th>\n",
       "      <td>0</td>\n",
       "      <td>168.7 (40.4)</td>\n",
       "      <td>143.6 (25.0)</td>\n",
       "      <td>175.3 (28.8)</td>\n",
       "      <td>195.3 (29.5)</td>\n",
       "      <td>219.7 (36.1)</td>\n",
       "      <td>239.9 (50.9)</td>\n",
       "    </tr>\n",
       "    <tr>\n",
       "      <th>night_tir_70_140, mean (SD)</th>\n",
       "      <th></th>\n",
       "      <td>0</td>\n",
       "      <td>39.0 (20.0)</td>\n",
       "      <td>51.1 (17.2)</td>\n",
       "      <td>33.5 (15.7)</td>\n",
       "      <td>25.5 (13.2)</td>\n",
       "      <td>19.1 (13.3)</td>\n",
       "      <td>14.9 (10.1)</td>\n",
       "    </tr>\n",
       "    <tr>\n",
       "      <th>night_tir_70_180, mean (SD)</th>\n",
       "      <th></th>\n",
       "      <td>0</td>\n",
       "      <td>59.1 (21.8)</td>\n",
       "      <td>72.5 (15.0)</td>\n",
       "      <td>54.9 (18.4)</td>\n",
       "      <td>43.3 (16.1)</td>\n",
       "      <td>34.0 (17.7)</td>\n",
       "      <td>27.6 (16.8)</td>\n",
       "    </tr>\n",
       "    <tr>\n",
       "      <th>night_tir_over_180, mean (SD)</th>\n",
       "      <th></th>\n",
       "      <td>0</td>\n",
       "      <td>37.5 (23.2)</td>\n",
       "      <td>22.7 (15.8)</td>\n",
       "      <td>42.6 (19.2)</td>\n",
       "      <td>54.9 (16.4)</td>\n",
       "      <td>64.2 (18.3)</td>\n",
       "      <td>70.4 (18.5)</td>\n",
       "    </tr>\n",
       "  </tbody>\n",
       "</table>\n",
       "</div><br />"
      ],
      "text/plain": [
       "                               Grouped by a1c_group                                                                                    \n",
       "                                            Missing       Overall           <7%  [7.0%, 8.0%)  [8.0%, 9.0%) [9.0%, 10.0%)          >10%\n",
       "n                                                             407           190           124            48            26            19\n",
       "age, mean (SD)                                    0   38.7 (15.0)   40.7 (13.5)   41.5 (15.5)   32.7 (15.3)   32.0 (15.3)   24.7 (12.0)\n",
       "a1c, mean (SD)                                    0     7.3 (1.4)     6.3 (0.5)     7.4 (0.3)     8.3 (0.3)     9.4 (0.3)    11.4 (0.9)\n",
       "day_mbg, mean (SD)                                0  167.0 (35.6)  143.2 (22.7)  171.4 (17.3)  193.4 (19.4)  214.9 (28.8)  244.0 (39.0)\n",
       "day_tir_70_140, mean (SD)                         0   38.9 (17.4)   51.1 (14.7)    33.8 (9.8)    24.7 (8.0)    18.9 (9.2)    13.2 (9.2)\n",
       "day_tir_70_180, mean (SD)                         0   60.5 (19.0)   73.5 (12.6)   57.4 (11.3)   45.7 (10.6)   35.0 (14.3)   23.5 (13.6)\n",
       "day_tir_over_180, mean (SD)                       0   36.4 (20.4)   22.2 (13.8)   40.3 (11.7)   52.7 (11.0)   63.8 (14.6)   75.3 (14.7)\n",
       "night_mbg, mean (SD)                              0  168.7 (40.4)  143.6 (25.0)  175.3 (28.8)  195.3 (29.5)  219.7 (36.1)  239.9 (50.9)\n",
       "night_tir_70_140, mean (SD)                       0   39.0 (20.0)   51.1 (17.2)   33.5 (15.7)   25.5 (13.2)   19.1 (13.3)   14.9 (10.1)\n",
       "night_tir_70_180, mean (SD)                       0   59.1 (21.8)   72.5 (15.0)   54.9 (18.4)   43.3 (16.1)   34.0 (17.7)   27.6 (16.8)\n",
       "night_tir_over_180, mean (SD)                     0   37.5 (23.2)   22.7 (15.8)   42.6 (19.2)   54.9 (16.4)   64.2 (18.3)   70.4 (18.5)"
      ]
     },
     "execution_count": 92,
     "metadata": {},
     "output_type": "execute_result"
    }
   ],
   "source": [
    "columns = ['age','a1c','day_mbg','day_tir_70_140','day_tir_70_180','day_tir_over_180',\n",
    "'night_mbg',\"night_tir_70_140\",\"night_tir_70_180\",\"night_tir_over_180\"]\n",
    "group = ['a1c_group']\n",
    "TableOne(df, columns, groupby = group)"
   ]
  },
  {
   "cell_type": "markdown",
   "id": "792c765b",
   "metadata": {},
   "source": [
    "## Mean Day and Night TIR"
   ]
  },
  {
   "cell_type": "markdown",
   "id": "36e169c5",
   "metadata": {},
   "source": [
    "### By HbA1c Group"
   ]
  },
  {
   "cell_type": "markdown",
   "id": "50dd9e13",
   "metadata": {},
   "source": [
    "#### TIR"
   ]
  },
  {
   "cell_type": "code",
   "execution_count": 93,
   "id": "be5f489f",
   "metadata": {},
   "outputs": [
    {
     "data": {
      "image/png": "[encoded data removed]",
      "text/plain": [
       "<Figure size 432x288 with 1 Axes>"
      ]
     },
     "metadata": {},
     "output_type": "display_data"
    }
   ],
   "source": [
    "# Wide to long\n",
    "plot_df = df.melt(id_vars=['a1c','a1c_group'],value_vars=['day_tir_70_140','day_tir_70_180','day_tir_over_180',\n",
    "\"night_tir_70_140\",\"night_tir_70_180\",\"night_tir_over_180\"], value_name='TIR')\n",
    "plot_df['variable'].replace({'day_tir':'Day','night_tir':'Night'},inplace=True)\n",
    "# Plot\n",
    "plot = sns.boxplot(x='a1c_group',y='TIR',hue='variable',data=plot_df)\n",
    "plot.set(xlabel='HbA1c Group',ylabel='% Time in Range (70-140 mg/dL)')\n",
    "plot.legend(title='');"
   ]
  },
  {
   "cell_type": "code",
   "execution_count": 94,
   "id": "2cb69f82",
   "metadata": {},
   "outputs": [
    {
     "data": {
      "image/png": "[encoded data removed]",
      "text/plain": [
       "<Figure size 432x288 with 1 Axes>"
      ]
     },
     "metadata": {},
     "output_type": "display_data"
    }
   ],
   "source": [
    "plot = sns.boxplot(x='a1c_group',y='tir_70_140_diff',data=df)\n",
    "plot.set(xlabel='HbA1c Group',ylabel='Day vs. Night TIR 70 - 140 Difference');"
   ]
  },
  {
   "cell_type": "code",
   "execution_count": 95,
   "id": "4d840e2a",
   "metadata": {},
   "outputs": [
    {
     "data": {
      "image/png": "[encoded data removed]",
      "text/plain": [
       "<Figure size 432x288 with 1 Axes>"
      ]
     },
     "metadata": {},
     "output_type": "display_data"
    }
   ],
   "source": [
    "plot = sns.boxplot(x='a1c_group',y='tir_70_180_diff',data=df)\n",
    "plot.set(xlabel='HbA1c Group',ylabel='Day vs. Night TIR 70 - 180 Difference');"
   ]
  },
  {
   "cell_type": "code",
   "execution_count": 96,
   "id": "01cf6006",
   "metadata": {},
   "outputs": [
    {
     "data": {
      "image/png": "[encoded data removed]",
      "text/plain": [
       "<Figure size 432x288 with 1 Axes>"
      ]
     },
     "metadata": {},
     "output_type": "display_data"
    }
   ],
   "source": [
    "plot = sns.boxplot(x='a1c_group',y='tir_over_180_diff',data=df)\n",
    "plot.set(xlabel='HbA1c Group',ylabel='Day vs. Night TIR Over 180 Difference');"
   ]
  },
  {
   "cell_type": "markdown",
   "id": "f6cd27bb",
   "metadata": {},
   "source": [
    "#### Mean Sensor Glucose"
   ]
  },
  {
   "cell_type": "code",
   "execution_count": 97,
   "id": "f0c2da80",
   "metadata": {},
   "outputs": [
    {
     "data": {
      "image/png": "[encoded data removed]",
      "text/plain": [
       "<Figure size 432x288 with 1 Axes>"
      ]
     },
     "metadata": {},
     "output_type": "display_data"
    }
   ],
   "source": [
    "# Wide to long\n",
    "plot_df = df.melt(id_vars=['a1c','a1c_group'],value_vars=['day_mbg','night_mbg'], value_name='MSG')\n",
    "plot_df['variable'].replace({'day_mbg':'Day','night_mbg':'Night'},inplace=True)\n",
    "# Plot\n",
    "plot = sns.boxplot(x='a1c_group',y='MSG',hue='variable',data=plot_df)\n",
    "plot.set(xlabel='HbA1c Group',ylabel='Mean Sensor Glucose (mg/dL)')\n",
    "plot.legend(title='');"
   ]
  },
  {
   "cell_type": "code",
   "execution_count": 98,
   "id": "78034b98",
   "metadata": {},
   "outputs": [
    {
     "data": {
      "image/png": "[encoded data removed]",
      "text/plain": [
       "<Figure size 432x288 with 1 Axes>"
      ]
     },
     "metadata": {},
     "output_type": "display_data"
    }
   ],
   "source": [
    "plot = sns.boxplot(x='a1c_group',y='mbg_diff',data=df)\n",
    "plot.set(xlabel='HbA1c Group',ylabel='Day vs. Night SG Difference');"
   ]
  },
  {
   "cell_type": "markdown",
   "id": "f99c6626",
   "metadata": {},
   "source": [
    "Error bars indicate 95% confidence interval around the mean."
   ]
  },
  {
   "cell_type": "code",
   "execution_count": 99,
   "id": "5fa1a601",
   "metadata": {},
   "outputs": [
    {
     "data": {
      "text/html": [
       "<div>\n",
       "<style scoped>\n",
       "    .dataframe tbody tr th:only-of-type {\n",
       "        vertical-align: middle;\n",
       "    }\n",
       "\n",
       "    .dataframe tbody tr th {\n",
       "        vertical-align: top;\n",
       "    }\n",
       "\n",
       "    .dataframe thead th {\n",
       "        text-align: right;\n",
       "    }\n",
       "</style>\n",
       "<table border=\"1\" class=\"dataframe\">\n",
       "  <thead>\n",
       "    <tr style=\"text-align: right;\">\n",
       "      <th></th>\n",
       "      <th>sum_sq</th>\n",
       "      <th>df</th>\n",
       "      <th>F</th>\n",
       "      <th>PR(&gt;F)</th>\n",
       "    </tr>\n",
       "  </thead>\n",
       "  <tbody>\n",
       "    <tr>\n",
       "      <th>a1c_group</th>\n",
       "      <td>315884.310721</td>\n",
       "      <td>4.0</td>\n",
       "      <td>158.82489</td>\n",
       "      <td>2.220638e-81</td>\n",
       "    </tr>\n",
       "    <tr>\n",
       "      <th>Residual</th>\n",
       "      <td>199882.859587</td>\n",
       "      <td>402.0</td>\n",
       "      <td>NaN</td>\n",
       "      <td>NaN</td>\n",
       "    </tr>\n",
       "  </tbody>\n",
       "</table>\n",
       "</div>"
      ],
      "text/plain": [
       "                  sum_sq     df          F        PR(>F)\n",
       "a1c_group  315884.310721    4.0  158.82489  2.220638e-81\n",
       "Residual   199882.859587  402.0        NaN           NaN"
      ]
     },
     "execution_count": 99,
     "metadata": {},
     "output_type": "execute_result"
    }
   ],
   "source": [
    "# Tests\n",
    "lm = smf.ols('day_mbg ~ a1c_group',data=df).fit()\n",
    "sm.stats.anova_lm(lm, typ=2)\n"
   ]
  },
  {
   "cell_type": "markdown",
   "id": "5eab91f9",
   "metadata": {},
   "source": [
    "There were significant differences in day time mean sensor glucose between HbA1c group (p < 0.001)."
   ]
  },
  {
   "cell_type": "code",
   "execution_count": 100,
   "id": "fb9c8bcf",
   "metadata": {},
   "outputs": [
    {
     "data": {
      "text/html": [
       "<div>\n",
       "<style scoped>\n",
       "    .dataframe tbody tr th:only-of-type {\n",
       "        vertical-align: middle;\n",
       "    }\n",
       "\n",
       "    .dataframe tbody tr th {\n",
       "        vertical-align: top;\n",
       "    }\n",
       "\n",
       "    .dataframe thead th {\n",
       "        text-align: right;\n",
       "    }\n",
       "</style>\n",
       "<table border=\"1\" class=\"dataframe\">\n",
       "  <thead>\n",
       "    <tr style=\"text-align: right;\">\n",
       "      <th></th>\n",
       "      <th>sum_sq</th>\n",
       "      <th>df</th>\n",
       "      <th>F</th>\n",
       "      <th>PR(&gt;F)</th>\n",
       "    </tr>\n",
       "  </thead>\n",
       "  <tbody>\n",
       "    <tr>\n",
       "      <th>a1c_group</th>\n",
       "      <td>323099.683925</td>\n",
       "      <td>4.0</td>\n",
       "      <td>95.613638</td>\n",
       "      <td>4.334397e-57</td>\n",
       "    </tr>\n",
       "    <tr>\n",
       "      <th>Residual</th>\n",
       "      <td>339611.784013</td>\n",
       "      <td>402.0</td>\n",
       "      <td>NaN</td>\n",
       "      <td>NaN</td>\n",
       "    </tr>\n",
       "  </tbody>\n",
       "</table>\n",
       "</div>"
      ],
      "text/plain": [
       "                  sum_sq     df          F        PR(>F)\n",
       "a1c_group  323099.683925    4.0  95.613638  4.334397e-57\n",
       "Residual   339611.784013  402.0        NaN           NaN"
      ]
     },
     "execution_count": 100,
     "metadata": {},
     "output_type": "execute_result"
    }
   ],
   "source": [
    "lm = smf.ols('night_mbg ~ a1c_group',data=df).fit()\n",
    "sm.stats.anova_lm(lm, typ=2)"
   ]
  },
  {
   "cell_type": "markdown",
   "id": "7532e26e",
   "metadata": {},
   "source": [
    "There were significant differences in night time mean sensor glucose between HbA1c group (p < 0.001)."
   ]
  },
  {
   "cell_type": "code",
   "execution_count": 101,
   "id": "9506abb0",
   "metadata": {},
   "outputs": [
    {
     "data": {
      "text/html": [
       "<div>\n",
       "<style scoped>\n",
       "    .dataframe tbody tr th:only-of-type {\n",
       "        vertical-align: middle;\n",
       "    }\n",
       "\n",
       "    .dataframe tbody tr th {\n",
       "        vertical-align: top;\n",
       "    }\n",
       "\n",
       "    .dataframe thead th {\n",
       "        text-align: right;\n",
       "    }\n",
       "</style>\n",
       "<table border=\"1\" class=\"dataframe\">\n",
       "  <thead>\n",
       "    <tr style=\"text-align: right;\">\n",
       "      <th></th>\n",
       "      <th>sum_sq</th>\n",
       "      <th>df</th>\n",
       "      <th>F</th>\n",
       "      <th>PR(&gt;F)</th>\n",
       "    </tr>\n",
       "  </thead>\n",
       "  <tbody>\n",
       "    <tr>\n",
       "      <th>a1c_group</th>\n",
       "      <td>63886.650626</td>\n",
       "      <td>4.0</td>\n",
       "      <td>107.845559</td>\n",
       "      <td>2.404988e-62</td>\n",
       "    </tr>\n",
       "    <tr>\n",
       "      <th>Residual</th>\n",
       "      <td>59535.213461</td>\n",
       "      <td>402.0</td>\n",
       "      <td>NaN</td>\n",
       "      <td>NaN</td>\n",
       "    </tr>\n",
       "  </tbody>\n",
       "</table>\n",
       "</div>"
      ],
      "text/plain": [
       "                 sum_sq     df           F        PR(>F)\n",
       "a1c_group  63886.650626    4.0  107.845559  2.404988e-62\n",
       "Residual   59535.213461  402.0         NaN           NaN"
      ]
     },
     "execution_count": 101,
     "metadata": {},
     "output_type": "execute_result"
    }
   ],
   "source": [
    "lm = smf.ols('day_tir_70_140 ~ a1c_group',data=df).fit()\n",
    "sm.stats.anova_lm(lm, typ=2)"
   ]
  },
  {
   "cell_type": "markdown",
   "id": "ae8279eb",
   "metadata": {},
   "source": [
    "There were significant differences in day time TIR 70 - 140 between HbA1c group (p < 0.001)."
   ]
  },
  {
   "cell_type": "code",
   "execution_count": 102,
   "id": "dfd232fd",
   "metadata": {},
   "outputs": [
    {
     "data": {
      "text/html": [
       "<div>\n",
       "<style scoped>\n",
       "    .dataframe tbody tr th:only-of-type {\n",
       "        vertical-align: middle;\n",
       "    }\n",
       "\n",
       "    .dataframe tbody tr th {\n",
       "        vertical-align: top;\n",
       "    }\n",
       "\n",
       "    .dataframe thead th {\n",
       "        text-align: right;\n",
       "    }\n",
       "</style>\n",
       "<table border=\"1\" class=\"dataframe\">\n",
       "  <thead>\n",
       "    <tr style=\"text-align: right;\">\n",
       "      <th></th>\n",
       "      <th>sum_sq</th>\n",
       "      <th>df</th>\n",
       "      <th>F</th>\n",
       "      <th>PR(&gt;F)</th>\n",
       "    </tr>\n",
       "  </thead>\n",
       "  <tbody>\n",
       "    <tr>\n",
       "      <th>a1c_group</th>\n",
       "      <td>86886.499376</td>\n",
       "      <td>4.0</td>\n",
       "      <td>146.638569</td>\n",
       "      <td>3.423437e-77</td>\n",
       "    </tr>\n",
       "    <tr>\n",
       "      <th>Residual</th>\n",
       "      <td>59548.406903</td>\n",
       "      <td>402.0</td>\n",
       "      <td>NaN</td>\n",
       "      <td>NaN</td>\n",
       "    </tr>\n",
       "  </tbody>\n",
       "</table>\n",
       "</div>"
      ],
      "text/plain": [
       "                 sum_sq     df           F        PR(>F)\n",
       "a1c_group  86886.499376    4.0  146.638569  3.423437e-77\n",
       "Residual   59548.406903  402.0         NaN           NaN"
      ]
     },
     "execution_count": 102,
     "metadata": {},
     "output_type": "execute_result"
    }
   ],
   "source": [
    "lm = smf.ols('day_tir_70_180 ~ a1c_group',data=df).fit()\n",
    "sm.stats.anova_lm(lm, typ=2)"
   ]
  },
  {
   "cell_type": "markdown",
   "id": "1a4cd724",
   "metadata": {},
   "source": [
    "There were significant differences in day time TIR 70 - 180 between HbA1c group (p < 0.001)."
   ]
  },
  {
   "cell_type": "code",
   "execution_count": 103,
   "id": "8f36fb6a",
   "metadata": {},
   "outputs": [
    {
     "data": {
      "text/html": [
       "<div>\n",
       "<style scoped>\n",
       "    .dataframe tbody tr th:only-of-type {\n",
       "        vertical-align: middle;\n",
       "    }\n",
       "\n",
       "    .dataframe tbody tr th {\n",
       "        vertical-align: top;\n",
       "    }\n",
       "\n",
       "    .dataframe thead th {\n",
       "        text-align: right;\n",
       "    }\n",
       "</style>\n",
       "<table border=\"1\" class=\"dataframe\">\n",
       "  <thead>\n",
       "    <tr style=\"text-align: right;\">\n",
       "      <th></th>\n",
       "      <th>sum_sq</th>\n",
       "      <th>df</th>\n",
       "      <th>F</th>\n",
       "      <th>PR(&gt;F)</th>\n",
       "    </tr>\n",
       "  </thead>\n",
       "  <tbody>\n",
       "    <tr>\n",
       "      <th>a1c_group</th>\n",
       "      <td>101470.144177</td>\n",
       "      <td>4.0</td>\n",
       "      <td>150.463857</td>\n",
       "      <td>1.578109e-78</td>\n",
       "    </tr>\n",
       "    <tr>\n",
       "      <th>Residual</th>\n",
       "      <td>67775.409128</td>\n",
       "      <td>402.0</td>\n",
       "      <td>NaN</td>\n",
       "      <td>NaN</td>\n",
       "    </tr>\n",
       "  </tbody>\n",
       "</table>\n",
       "</div>"
      ],
      "text/plain": [
       "                  sum_sq     df           F        PR(>F)\n",
       "a1c_group  101470.144177    4.0  150.463857  1.578109e-78\n",
       "Residual    67775.409128  402.0         NaN           NaN"
      ]
     },
     "execution_count": 103,
     "metadata": {},
     "output_type": "execute_result"
    }
   ],
   "source": [
    "lm = smf.ols('day_tir_over_180 ~ a1c_group',data=df).fit()\n",
    "sm.stats.anova_lm(lm, typ=2)"
   ]
  },
  {
   "cell_type": "markdown",
   "id": "6d6c9c5b",
   "metadata": {},
   "source": [
    "There were significant differences in day time TIR over 180 between HbA1c group (p < 0.001)."
   ]
  },
  {
   "cell_type": "code",
   "execution_count": 104,
   "id": "2d18fa3f",
   "metadata": {},
   "outputs": [
    {
     "data": {
      "text/html": [
       "<div>\n",
       "<style scoped>\n",
       "    .dataframe tbody tr th:only-of-type {\n",
       "        vertical-align: middle;\n",
       "    }\n",
       "\n",
       "    .dataframe tbody tr th {\n",
       "        vertical-align: top;\n",
       "    }\n",
       "\n",
       "    .dataframe thead th {\n",
       "        text-align: right;\n",
       "    }\n",
       "</style>\n",
       "<table border=\"1\" class=\"dataframe\">\n",
       "  <thead>\n",
       "    <tr style=\"text-align: right;\">\n",
       "      <th></th>\n",
       "      <th>sum_sq</th>\n",
       "      <th>df</th>\n",
       "      <th>F</th>\n",
       "      <th>PR(&gt;F)</th>\n",
       "    </tr>\n",
       "  </thead>\n",
       "  <tbody>\n",
       "    <tr>\n",
       "      <th>a1c_group</th>\n",
       "      <td>61683.936090</td>\n",
       "      <td>4.0</td>\n",
       "      <td>61.434908</td>\n",
       "      <td>1.761453e-40</td>\n",
       "    </tr>\n",
       "    <tr>\n",
       "      <th>Residual</th>\n",
       "      <td>100907.379481</td>\n",
       "      <td>402.0</td>\n",
       "      <td>NaN</td>\n",
       "      <td>NaN</td>\n",
       "    </tr>\n",
       "  </tbody>\n",
       "</table>\n",
       "</div>"
      ],
      "text/plain": [
       "                  sum_sq     df          F        PR(>F)\n",
       "a1c_group   61683.936090    4.0  61.434908  1.761453e-40\n",
       "Residual   100907.379481  402.0        NaN           NaN"
      ]
     },
     "execution_count": 104,
     "metadata": {},
     "output_type": "execute_result"
    }
   ],
   "source": [
    "lm = smf.ols('night_tir_70_140 ~ a1c_group',data=df).fit()\n",
    "sm.stats.anova_lm(lm, typ=2)"
   ]
  },
  {
   "cell_type": "markdown",
   "id": "f05a1c26",
   "metadata": {},
   "source": [
    "There were significant differences in night time TIR 70 - 140 between HbA1c group (p < 0.001)."
   ]
  },
  {
   "cell_type": "code",
   "execution_count": 105,
   "id": "3ee1f845",
   "metadata": {},
   "outputs": [
    {
     "data": {
      "text/html": [
       "<div>\n",
       "<style scoped>\n",
       "    .dataframe tbody tr th:only-of-type {\n",
       "        vertical-align: middle;\n",
       "    }\n",
       "\n",
       "    .dataframe tbody tr th {\n",
       "        vertical-align: top;\n",
       "    }\n",
       "\n",
       "    .dataframe thead th {\n",
       "        text-align: right;\n",
       "    }\n",
       "</style>\n",
       "<table border=\"1\" class=\"dataframe\">\n",
       "  <thead>\n",
       "    <tr style=\"text-align: right;\">\n",
       "      <th></th>\n",
       "      <th>sum_sq</th>\n",
       "      <th>df</th>\n",
       "      <th>F</th>\n",
       "      <th>PR(&gt;F)</th>\n",
       "    </tr>\n",
       "  </thead>\n",
       "  <tbody>\n",
       "    <tr>\n",
       "      <th>a1c_group</th>\n",
       "      <td>83610.519313</td>\n",
       "      <td>4.0</td>\n",
       "      <td>76.658721</td>\n",
       "      <td>2.876527e-48</td>\n",
       "    </tr>\n",
       "    <tr>\n",
       "      <th>Residual</th>\n",
       "      <td>109613.845092</td>\n",
       "      <td>402.0</td>\n",
       "      <td>NaN</td>\n",
       "      <td>NaN</td>\n",
       "    </tr>\n",
       "  </tbody>\n",
       "</table>\n",
       "</div>"
      ],
      "text/plain": [
       "                  sum_sq     df          F        PR(>F)\n",
       "a1c_group   83610.519313    4.0  76.658721  2.876527e-48\n",
       "Residual   109613.845092  402.0        NaN           NaN"
      ]
     },
     "execution_count": 105,
     "metadata": {},
     "output_type": "execute_result"
    }
   ],
   "source": [
    "lm = smf.ols('night_tir_70_180 ~ a1c_group',data=df).fit()\n",
    "sm.stats.anova_lm(lm, typ=2)"
   ]
  },
  {
   "cell_type": "markdown",
   "id": "bef81d04",
   "metadata": {},
   "source": [
    "There were significant differences in night time TIR 70 - 180 between HbA1c group (p < 0.001)."
   ]
  },
  {
   "cell_type": "code",
   "execution_count": 106,
   "id": "f7bf975a",
   "metadata": {},
   "outputs": [
    {
     "data": {
      "text/html": [
       "<div>\n",
       "<style scoped>\n",
       "    .dataframe tbody tr th:only-of-type {\n",
       "        vertical-align: middle;\n",
       "    }\n",
       "\n",
       "    .dataframe tbody tr th {\n",
       "        vertical-align: top;\n",
       "    }\n",
       "\n",
       "    .dataframe thead th {\n",
       "        text-align: right;\n",
       "    }\n",
       "</style>\n",
       "<table border=\"1\" class=\"dataframe\">\n",
       "  <thead>\n",
       "    <tr style=\"text-align: right;\">\n",
       "      <th></th>\n",
       "      <th>sum_sq</th>\n",
       "      <th>df</th>\n",
       "      <th>F</th>\n",
       "      <th>PR(&gt;F)</th>\n",
       "    </tr>\n",
       "  </thead>\n",
       "  <tbody>\n",
       "    <tr>\n",
       "      <th>a1c_group</th>\n",
       "      <td>98261.462699</td>\n",
       "      <td>4.0</td>\n",
       "      <td>82.4009</td>\n",
       "      <td>4.916724e-51</td>\n",
       "    </tr>\n",
       "    <tr>\n",
       "      <th>Residual</th>\n",
       "      <td>119844.285437</td>\n",
       "      <td>402.0</td>\n",
       "      <td>NaN</td>\n",
       "      <td>NaN</td>\n",
       "    </tr>\n",
       "  </tbody>\n",
       "</table>\n",
       "</div>"
      ],
      "text/plain": [
       "                  sum_sq     df        F        PR(>F)\n",
       "a1c_group   98261.462699    4.0  82.4009  4.916724e-51\n",
       "Residual   119844.285437  402.0      NaN           NaN"
      ]
     },
     "execution_count": 106,
     "metadata": {},
     "output_type": "execute_result"
    }
   ],
   "source": [
    "lm = smf.ols('night_tir_over_180 ~ a1c_group',data=df).fit()\n",
    "sm.stats.anova_lm(lm, typ=2)"
   ]
  },
  {
   "cell_type": "markdown",
   "id": "411568d5",
   "metadata": {},
   "source": [
    "There were significant differences in night time TIR over 180 between HbA1c group (p < 0.001)."
   ]
  },
  {
   "cell_type": "code",
   "execution_count": 107,
   "id": "8a5e29c7",
   "metadata": {},
   "outputs": [
    {
     "data": {
      "text/html": [
       "<div>\n",
       "<style scoped>\n",
       "    .dataframe tbody tr th:only-of-type {\n",
       "        vertical-align: middle;\n",
       "    }\n",
       "\n",
       "    .dataframe tbody tr th {\n",
       "        vertical-align: top;\n",
       "    }\n",
       "\n",
       "    .dataframe thead th {\n",
       "        text-align: right;\n",
       "    }\n",
       "</style>\n",
       "<table border=\"1\" class=\"dataframe\">\n",
       "  <thead>\n",
       "    <tr style=\"text-align: right;\">\n",
       "      <th></th>\n",
       "      <th>df</th>\n",
       "      <th>sum_sq</th>\n",
       "      <th>mean_sq</th>\n",
       "      <th>F</th>\n",
       "      <th>PR(&gt;F)</th>\n",
       "    </tr>\n",
       "  </thead>\n",
       "  <tbody>\n",
       "    <tr>\n",
       "      <th>a1c_group</th>\n",
       "      <td>4.0</td>\n",
       "      <td>1784.493140</td>\n",
       "      <td>446.123285</td>\n",
       "      <td>0.880513</td>\n",
       "      <td>0.475538</td>\n",
       "    </tr>\n",
       "    <tr>\n",
       "      <th>Residual</th>\n",
       "      <td>402.0</td>\n",
       "      <td>203678.522865</td>\n",
       "      <td>506.662992</td>\n",
       "      <td>NaN</td>\n",
       "      <td>NaN</td>\n",
       "    </tr>\n",
       "  </tbody>\n",
       "</table>\n",
       "</div>"
      ],
      "text/plain": [
       "              df         sum_sq     mean_sq         F    PR(>F)\n",
       "a1c_group    4.0    1784.493140  446.123285  0.880513  0.475538\n",
       "Residual   402.0  203678.522865  506.662992       NaN       NaN"
      ]
     },
     "execution_count": 107,
     "metadata": {},
     "output_type": "execute_result"
    }
   ],
   "source": [
    "lm = smf.ols('mbg_diff ~ a1c_group',data=df).fit()\n",
    "sm.stats.anova_lm(lm)"
   ]
  },
  {
   "cell_type": "markdown",
   "id": "8a67f9fb",
   "metadata": {},
   "source": [
    "The difference between day and night MSG was not different between HbA1c groups (p = 0.48)."
   ]
  },
  {
   "cell_type": "code",
   "execution_count": 108,
   "id": "f73cc16e",
   "metadata": {},
   "outputs": [
    {
     "data": {
      "text/html": [
       "<div>\n",
       "<style scoped>\n",
       "    .dataframe tbody tr th:only-of-type {\n",
       "        vertical-align: middle;\n",
       "    }\n",
       "\n",
       "    .dataframe tbody tr th {\n",
       "        vertical-align: top;\n",
       "    }\n",
       "\n",
       "    .dataframe thead th {\n",
       "        text-align: right;\n",
       "    }\n",
       "</style>\n",
       "<table border=\"1\" class=\"dataframe\">\n",
       "  <thead>\n",
       "    <tr style=\"text-align: right;\">\n",
       "      <th></th>\n",
       "      <th>df</th>\n",
       "      <th>sum_sq</th>\n",
       "      <th>mean_sq</th>\n",
       "      <th>F</th>\n",
       "      <th>PR(&gt;F)</th>\n",
       "    </tr>\n",
       "  </thead>\n",
       "  <tbody>\n",
       "    <tr>\n",
       "      <th>a1c_group</th>\n",
       "      <td>4.0</td>\n",
       "      <td>97.066521</td>\n",
       "      <td>24.266630</td>\n",
       "      <td>0.147425</td>\n",
       "      <td>0.964088</td>\n",
       "    </tr>\n",
       "    <tr>\n",
       "      <th>Residual</th>\n",
       "      <td>402.0</td>\n",
       "      <td>66170.425656</td>\n",
       "      <td>164.603049</td>\n",
       "      <td>NaN</td>\n",
       "      <td>NaN</td>\n",
       "    </tr>\n",
       "  </tbody>\n",
       "</table>\n",
       "</div>"
      ],
      "text/plain": [
       "              df        sum_sq     mean_sq         F    PR(>F)\n",
       "a1c_group    4.0     97.066521   24.266630  0.147425  0.964088\n",
       "Residual   402.0  66170.425656  164.603049       NaN       NaN"
      ]
     },
     "execution_count": 108,
     "metadata": {},
     "output_type": "execute_result"
    }
   ],
   "source": [
    "lm = smf.ols('tir_70_140_diff ~ a1c_group',data=df).fit()\n",
    "sm.stats.anova_lm(lm)"
   ]
  },
  {
   "cell_type": "markdown",
   "id": "db8aa6e6",
   "metadata": {},
   "source": [
    "The difference between day and night TIR 70 - 140 was not different between HbA1c groups (p = 0.96)."
   ]
  },
  {
   "cell_type": "code",
   "execution_count": 109,
   "id": "446ac9fe",
   "metadata": {},
   "outputs": [
    {
     "data": {
      "text/html": [
       "<div>\n",
       "<style scoped>\n",
       "    .dataframe tbody tr th:only-of-type {\n",
       "        vertical-align: middle;\n",
       "    }\n",
       "\n",
       "    .dataframe tbody tr th {\n",
       "        vertical-align: top;\n",
       "    }\n",
       "\n",
       "    .dataframe thead th {\n",
       "        text-align: right;\n",
       "    }\n",
       "</style>\n",
       "<table border=\"1\" class=\"dataframe\">\n",
       "  <thead>\n",
       "    <tr style=\"text-align: right;\">\n",
       "      <th></th>\n",
       "      <th>df</th>\n",
       "      <th>sum_sq</th>\n",
       "      <th>mean_sq</th>\n",
       "      <th>F</th>\n",
       "      <th>PR(&gt;F)</th>\n",
       "    </tr>\n",
       "  </thead>\n",
       "  <tbody>\n",
       "    <tr>\n",
       "      <th>a1c_group</th>\n",
       "      <td>4.0</td>\n",
       "      <td>805.531964</td>\n",
       "      <td>201.382991</td>\n",
       "      <td>1.118377</td>\n",
       "      <td>0.347336</td>\n",
       "    </tr>\n",
       "    <tr>\n",
       "      <th>Residual</th>\n",
       "      <td>402.0</td>\n",
       "      <td>72386.995488</td>\n",
       "      <td>180.067153</td>\n",
       "      <td>NaN</td>\n",
       "      <td>NaN</td>\n",
       "    </tr>\n",
       "  </tbody>\n",
       "</table>\n",
       "</div>"
      ],
      "text/plain": [
       "              df        sum_sq     mean_sq         F    PR(>F)\n",
       "a1c_group    4.0    805.531964  201.382991  1.118377  0.347336\n",
       "Residual   402.0  72386.995488  180.067153       NaN       NaN"
      ]
     },
     "execution_count": 109,
     "metadata": {},
     "output_type": "execute_result"
    }
   ],
   "source": [
    "lm = smf.ols('tir_70_180_diff ~ a1c_group',data=df).fit()\n",
    "sm.stats.anova_lm(lm)"
   ]
  },
  {
   "cell_type": "markdown",
   "id": "99a8af84",
   "metadata": {},
   "source": [
    "The difference between day and night TIR 70 - 180 was not different between HbA1c groups (p = 0.35)."
   ]
  },
  {
   "cell_type": "code",
   "execution_count": 110,
   "id": "8b062831",
   "metadata": {},
   "outputs": [
    {
     "data": {
      "text/html": [
       "<div>\n",
       "<style scoped>\n",
       "    .dataframe tbody tr th:only-of-type {\n",
       "        vertical-align: middle;\n",
       "    }\n",
       "\n",
       "    .dataframe tbody tr th {\n",
       "        vertical-align: top;\n",
       "    }\n",
       "\n",
       "    .dataframe thead th {\n",
       "        text-align: right;\n",
       "    }\n",
       "</style>\n",
       "<table border=\"1\" class=\"dataframe\">\n",
       "  <thead>\n",
       "    <tr style=\"text-align: right;\">\n",
       "      <th></th>\n",
       "      <th>df</th>\n",
       "      <th>sum_sq</th>\n",
       "      <th>mean_sq</th>\n",
       "      <th>F</th>\n",
       "      <th>PR(&gt;F)</th>\n",
       "    </tr>\n",
       "  </thead>\n",
       "  <tbody>\n",
       "    <tr>\n",
       "      <th>a1c_group</th>\n",
       "      <td>4.0</td>\n",
       "      <td>1010.480519</td>\n",
       "      <td>252.620130</td>\n",
       "      <td>1.287209</td>\n",
       "      <td>0.274331</td>\n",
       "    </tr>\n",
       "    <tr>\n",
       "      <th>Residual</th>\n",
       "      <td>402.0</td>\n",
       "      <td>78894.159856</td>\n",
       "      <td>196.254129</td>\n",
       "      <td>NaN</td>\n",
       "      <td>NaN</td>\n",
       "    </tr>\n",
       "  </tbody>\n",
       "</table>\n",
       "</div>"
      ],
      "text/plain": [
       "              df        sum_sq     mean_sq         F    PR(>F)\n",
       "a1c_group    4.0   1010.480519  252.620130  1.287209  0.274331\n",
       "Residual   402.0  78894.159856  196.254129       NaN       NaN"
      ]
     },
     "execution_count": 110,
     "metadata": {},
     "output_type": "execute_result"
    }
   ],
   "source": [
    "lm = smf.ols('tir_over_180_diff ~ a1c_group',data=df).fit()\n",
    "sm.stats.anova_lm(lm)"
   ]
  },
  {
   "cell_type": "markdown",
   "id": "a3c62bb6",
   "metadata": {},
   "source": [
    "The difference between day and night TIR over 180 was not different between HbA1c groups (p = 0.27)."
   ]
  },
  {
   "cell_type": "markdown",
   "id": "247a6207",
   "metadata": {},
   "source": [
    "## Correlations Between All Variables"
   ]
  },
  {
   "cell_type": "markdown",
   "id": "73042b69",
   "metadata": {},
   "source": [
    "### Full Cohort"
   ]
  },
  {
   "cell_type": "code",
   "execution_count": 111,
   "id": "415ea761",
   "metadata": {},
   "outputs": [
    {
     "data": {
      "image/png": "[encoded data removed]",
      "text/plain": [
       "<Figure size 432x288 with 2 Axes>"
      ]
     },
     "metadata": {},
     "output_type": "display_data"
    }
   ],
   "source": [
    "corr_mat = df[['age','a1c','a1c_group','day_mbg','day_tir_70_140','day_tir_70_180','day_tir_over_180',\n",
    "'night_mbg',\"night_tir_70_140\",\"night_tir_70_180\",\"night_tir_over_180\"]]\n",
    "c_full = corr_mat.corr()\n",
    "sns.heatmap(c_full,annot=True,cmap=\"coolwarm\");"
   ]
  },
  {
   "cell_type": "code",
   "execution_count": 112,
   "id": "b78975f6",
   "metadata": {},
   "outputs": [
    {
     "data": {
      "text/html": [
       "<div>\n",
       "<style scoped>\n",
       "    .dataframe tbody tr th:only-of-type {\n",
       "        vertical-align: middle;\n",
       "    }\n",
       "\n",
       "    .dataframe tbody tr th {\n",
       "        vertical-align: top;\n",
       "    }\n",
       "\n",
       "    .dataframe thead th {\n",
       "        text-align: right;\n",
       "    }\n",
       "</style>\n",
       "<table border=\"1\" class=\"dataframe\">\n",
       "  <thead>\n",
       "    <tr style=\"text-align: right;\">\n",
       "      <th></th>\n",
       "      <th>age</th>\n",
       "      <th>a1c</th>\n",
       "      <th>day_mbg</th>\n",
       "      <th>day_tir_70_140</th>\n",
       "      <th>day_tir_70_180</th>\n",
       "      <th>day_tir_over_180</th>\n",
       "      <th>night_mbg</th>\n",
       "      <th>night_tir_70_140</th>\n",
       "      <th>night_tir_70_180</th>\n",
       "      <th>night_tir_over_180</th>\n",
       "    </tr>\n",
       "  </thead>\n",
       "  <tbody>\n",
       "    <tr>\n",
       "      <th>age</th>\n",
       "      <td>1.000000</td>\n",
       "      <td>-0.261915</td>\n",
       "      <td>-0.284652</td>\n",
       "      <td>0.202789</td>\n",
       "      <td>0.288505</td>\n",
       "      <td>-0.275325</td>\n",
       "      <td>-0.253977</td>\n",
       "      <td>0.192688</td>\n",
       "      <td>0.256533</td>\n",
       "      <td>-0.238161</td>\n",
       "    </tr>\n",
       "    <tr>\n",
       "      <th>a1c</th>\n",
       "      <td>-0.261915</td>\n",
       "      <td>1.000000</td>\n",
       "      <td>0.827341</td>\n",
       "      <td>-0.750321</td>\n",
       "      <td>-0.799465</td>\n",
       "      <td>0.809046</td>\n",
       "      <td>0.734826</td>\n",
       "      <td>-0.637071</td>\n",
       "      <td>-0.671141</td>\n",
       "      <td>0.687698</td>\n",
       "    </tr>\n",
       "    <tr>\n",
       "      <th>day_mbg</th>\n",
       "      <td>-0.284652</td>\n",
       "      <td>0.827341</td>\n",
       "      <td>1.000000</td>\n",
       "      <td>-0.926318</td>\n",
       "      <td>-0.950582</td>\n",
       "      <td>0.976228</td>\n",
       "      <td>0.832148</td>\n",
       "      <td>-0.724022</td>\n",
       "      <td>-0.755324</td>\n",
       "      <td>0.781545</td>\n",
       "    </tr>\n",
       "    <tr>\n",
       "      <th>day_tir_70_140</th>\n",
       "      <td>0.202789</td>\n",
       "      <td>-0.750321</td>\n",
       "      <td>-0.926318</td>\n",
       "      <td>1.000000</td>\n",
       "      <td>0.935428</td>\n",
       "      <td>-0.953732</td>\n",
       "      <td>-0.787201</td>\n",
       "      <td>0.775614</td>\n",
       "      <td>0.754807</td>\n",
       "      <td>-0.784098</td>\n",
       "    </tr>\n",
       "    <tr>\n",
       "      <th>day_tir_70_180</th>\n",
       "      <td>0.288505</td>\n",
       "      <td>-0.799465</td>\n",
       "      <td>-0.950582</td>\n",
       "      <td>0.935428</td>\n",
       "      <td>1.000000</td>\n",
       "      <td>-0.984785</td>\n",
       "      <td>-0.802856</td>\n",
       "      <td>0.738704</td>\n",
       "      <td>0.792063</td>\n",
       "      <td>-0.793977</td>\n",
       "    </tr>\n",
       "    <tr>\n",
       "      <th>day_tir_over_180</th>\n",
       "      <td>-0.275325</td>\n",
       "      <td>0.809046</td>\n",
       "      <td>0.976228</td>\n",
       "      <td>-0.953732</td>\n",
       "      <td>-0.984785</td>\n",
       "      <td>1.000000</td>\n",
       "      <td>0.815149</td>\n",
       "      <td>-0.744730</td>\n",
       "      <td>-0.779417</td>\n",
       "      <td>0.800106</td>\n",
       "    </tr>\n",
       "    <tr>\n",
       "      <th>night_mbg</th>\n",
       "      <td>-0.253977</td>\n",
       "      <td>0.734826</td>\n",
       "      <td>0.832148</td>\n",
       "      <td>-0.787201</td>\n",
       "      <td>-0.802856</td>\n",
       "      <td>0.815149</td>\n",
       "      <td>1.000000</td>\n",
       "      <td>-0.901678</td>\n",
       "      <td>-0.930683</td>\n",
       "      <td>0.961302</td>\n",
       "    </tr>\n",
       "    <tr>\n",
       "      <th>night_tir_70_140</th>\n",
       "      <td>0.192688</td>\n",
       "      <td>-0.637071</td>\n",
       "      <td>-0.724022</td>\n",
       "      <td>0.775614</td>\n",
       "      <td>0.738704</td>\n",
       "      <td>-0.744730</td>\n",
       "      <td>-0.901678</td>\n",
       "      <td>1.000000</td>\n",
       "      <td>0.926898</td>\n",
       "      <td>-0.934558</td>\n",
       "    </tr>\n",
       "    <tr>\n",
       "      <th>night_tir_70_180</th>\n",
       "      <td>0.256533</td>\n",
       "      <td>-0.671141</td>\n",
       "      <td>-0.755324</td>\n",
       "      <td>0.754807</td>\n",
       "      <td>0.792063</td>\n",
       "      <td>-0.779417</td>\n",
       "      <td>-0.930683</td>\n",
       "      <td>0.926898</td>\n",
       "      <td>1.000000</td>\n",
       "      <td>-0.981853</td>\n",
       "    </tr>\n",
       "    <tr>\n",
       "      <th>night_tir_over_180</th>\n",
       "      <td>-0.238161</td>\n",
       "      <td>0.687698</td>\n",
       "      <td>0.781545</td>\n",
       "      <td>-0.784098</td>\n",
       "      <td>-0.793977</td>\n",
       "      <td>0.800106</td>\n",
       "      <td>0.961302</td>\n",
       "      <td>-0.934558</td>\n",
       "      <td>-0.981853</td>\n",
       "      <td>1.000000</td>\n",
       "    </tr>\n",
       "  </tbody>\n",
       "</table>\n",
       "</div>"
      ],
      "text/plain": [
       "                         age       a1c   day_mbg  day_tir_70_140  \\\n",
       "age                 1.000000 -0.261915 -0.284652        0.202789   \n",
       "a1c                -0.261915  1.000000  0.827341       -0.750321   \n",
       "day_mbg            -0.284652  0.827341  1.000000       -0.926318   \n",
       "day_tir_70_140      0.202789 -0.750321 -0.926318        1.000000   \n",
       "day_tir_70_180      0.288505 -0.799465 -0.950582        0.935428   \n",
       "day_tir_over_180   -0.275325  0.809046  0.976228       -0.953732   \n",
       "night_mbg          -0.253977  0.734826  0.832148       -0.787201   \n",
       "night_tir_70_140    0.192688 -0.637071 -0.724022        0.775614   \n",
       "night_tir_70_180    0.256533 -0.671141 -0.755324        0.754807   \n",
       "night_tir_over_180 -0.238161  0.687698  0.781545       -0.784098   \n",
       "\n",
       "                    day_tir_70_180  day_tir_over_180  night_mbg  \\\n",
       "age                       0.288505         -0.275325  -0.253977   \n",
       "a1c                      -0.799465          0.809046   0.734826   \n",
       "day_mbg                  -0.950582          0.976228   0.832148   \n",
       "day_tir_70_140            0.935428         -0.953732  -0.787201   \n",
       "day_tir_70_180            1.000000         -0.984785  -0.802856   \n",
       "day_tir_over_180         -0.984785          1.000000   0.815149   \n",
       "night_mbg                -0.802856          0.815149   1.000000   \n",
       "night_tir_70_140          0.738704         -0.744730  -0.901678   \n",
       "night_tir_70_180          0.792063         -0.779417  -0.930683   \n",
       "night_tir_over_180       -0.793977          0.800106   0.961302   \n",
       "\n",
       "                    night_tir_70_140  night_tir_70_180  night_tir_over_180  \n",
       "age                         0.192688          0.256533           -0.238161  \n",
       "a1c                        -0.637071         -0.671141            0.687698  \n",
       "day_mbg                    -0.724022         -0.755324            0.781545  \n",
       "day_tir_70_140              0.775614          0.754807           -0.784098  \n",
       "day_tir_70_180              0.738704          0.792063           -0.793977  \n",
       "day_tir_over_180           -0.744730         -0.779417            0.800106  \n",
       "night_mbg                  -0.901678         -0.930683            0.961302  \n",
       "night_tir_70_140            1.000000          0.926898           -0.934558  \n",
       "night_tir_70_180            0.926898          1.000000           -0.981853  \n",
       "night_tir_over_180         -0.934558         -0.981853            1.000000  "
      ]
     },
     "execution_count": 112,
     "metadata": {},
     "output_type": "execute_result"
    }
   ],
   "source": [
    "corr_mat.corr()"
   ]
  }
 ],
 "metadata": {
  "kernelspec": {
   "display_name": "Python 3 (Spyder)",
   "language": "python3",
   "name": "python3"
  },
  "language_info": {
   "codemirror_mode": {
    "name": "ipython",
    "version": 3
   },
   "file_extension": ".py",
   "mimetype": "text/x-python",
   "name": "python",
   "nbconvert_exporter": "python",
   "pygments_lexer": "ipython3",
   "version": "3.9.10"
  }
 },
 "nbformat": 4,
 "nbformat_minor": 5
}
