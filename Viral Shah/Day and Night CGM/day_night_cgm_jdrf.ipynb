{
 "cells": [
  {
   "cell_type": "code",
   "execution_count": 80,
   "id": "bf2bd68a-a697-4fec-bee1-f2e793406fd7",
   "metadata": {},
   "outputs": [],
   "source": [
    "import pandas as pd\n",
    "import seaborn as sns\n",
    "from scipy.stats import pearsonr\n",
    "wd = '/Users/timvigers/Dropbox/Work/Viral Shah/Day and Night CGM/'"
   ]
  },
  {
   "cell_type": "code",
   "execution_count": 64,
   "id": "455ae080-ab47-484b-b6d3-a47f02889b6f",
   "metadata": {},
   "outputs": [],
   "source": [
    "# Import data\n",
    "df = pd.read_csv(wd+'Data_Clean/analysis_data.csv',usecols=['HbA1c','14 Day TIR','14 Night TIR'])\n",
    "df.columns = ['a1c','day_tir','night_tir']\n",
    "# Get row with most sensor values for each person in JDRF data\n",
    "jdrf = pd.read_csv(wd+'Data_Clean/analysis_data_jdrf.csv')\n",
    "idx = jdrf.groupby('id',sort=False)['sensor_readings'].transform(max) == jdrf['sensor_readings']\n",
    "jdrf = jdrf[idx]\n",
    "idx = jdrf[\"sensor_readings\"] >= 2822 # 70% cutoff for 2 weeks of data\n",
    "jdrf = jdrf[idx]\n",
    "# Combine\n",
    "jdrf = jdrf[['a1c','day_tir','night_tir']]\n",
    "df = pd.concat([df,jdrf])"
   ]
  },
  {
   "cell_type": "markdown",
   "id": "5decfc07-64d5-433a-994d-b7d17aad621d",
   "metadata": {},
   "source": [
    "# Data Characteristics\n",
    "- TIR was calculated using 2 weeks of CGM data prior to an office visit.\n",
    "- For participants with multiple HbA1c measures, the CGM wear with the largest number of sensor readings was used. This was done to prevent auto-correlation between measures within a subject.\n",
    "- CGM with < 70% wear were excluded.\n",
    "- HbA1c was split into the following quintiles: (4.899, 6.2] < (6.2, 6.7] < (6.7, 7.3] < (7.3, 8.0] < (8.0, 13.5]"
   ]
  },
  {
   "cell_type": "code",
   "execution_count": 65,
   "id": "a61a7a94-31b1-40b4-88fa-e9de47d6faa9",
   "metadata": {},
   "outputs": [],
   "source": [
    "# Split into quintiles\n",
    "df['a1c_group'] = pd.qcut(df['a1c'],5)\n",
    "# Difference between day and night TIR\n",
    "df['tir_diff'] = df['day_tir'] - df['night_tir']"
   ]
  },
  {
   "cell_type": "markdown",
   "id": "a6c9d2c5",
   "metadata": {},
   "source": [
    "## Mean Day and Night TIR by HbA1c Quintile"
   ]
  },
  {
   "cell_type": "code",
   "execution_count": 92,
   "id": "62583d38",
   "metadata": {},
   "outputs": [
    {
     "data": {
      "image/png": "[encoded data removed]",
      "text/plain": [
       "<Figure size 432x288 with 1 Axes>"
      ]
     },
     "metadata": {},
     "output_type": "display_data"
    }
   ],
   "source": [
    "# Wide to long\n",
    "plot_df = df.melt(id_vars=['a1c','a1c_group'],value_vars=['day_tir','night_tir'], value_name='TIR')\n",
    "plot_df['variable'].replace({'day_tir':'Day','night_tir':'Night'},inplace=True)\n",
    "# Plot\n",
    "sns.set_theme(style=\"whitegrid\")\n",
    "plot = sns.barplot(x='a1c_group',y='TIR',hue='variable',data=plot_df,capsize=.1,errwidth=1)\n",
    "plot.set(xlabel='HbA1c Group')\n",
    "plot.legend(title='');"
   ]
  },
  {
   "cell_type": "code",
   "execution_count": 104,
   "id": "22e9300d",
   "metadata": {},
   "outputs": [
    {
     "data": {
      "image/png": "[encoded data removed]",
      "text/plain": [
       "<Figure size 432x288 with 1 Axes>"
      ]
     },
     "metadata": {},
     "output_type": "display_data"
    }
   ],
   "source": [
    "plot = sns.barplot(x='a1c_group',y='tir_diff',data=df,capsize=.1,errwidth=1)\n",
    "plot.set(xlabel='HbA1c Group',ylabel='Day vs. Night TIR Difference');"
   ]
  },
  {
   "cell_type": "markdown",
   "id": "391c6dcd",
   "metadata": {},
   "source": [
    "Error bars indicate 95% confidence interval around the mean."
   ]
  },
  {
   "cell_type": "code",
   "execution_count": 102,
   "id": "7ae9e16b",
   "metadata": {},
   "outputs": [
    {
     "data": {
      "text/html": [
       "<div>\n",
       "<style scoped>\n",
       "    .dataframe tbody tr th:only-of-type {\n",
       "        vertical-align: middle;\n",
       "    }\n",
       "\n",
       "    .dataframe tbody tr th {\n",
       "        vertical-align: top;\n",
       "    }\n",
       "\n",
       "    .dataframe thead th {\n",
       "        text-align: right;\n",
       "    }\n",
       "</style>\n",
       "<table border=\"1\" class=\"dataframe\">\n",
       "  <thead>\n",
       "    <tr style=\"text-align: right;\">\n",
       "      <th></th>\n",
       "      <th>Mean Day TIR</th>\n",
       "      <th>Mean Night TIR</th>\n",
       "      <th>Mean Day vs. Night TIR Difference</th>\n",
       "    </tr>\n",
       "    <tr>\n",
       "      <th>a1c_group</th>\n",
       "      <th></th>\n",
       "      <th></th>\n",
       "      <th></th>\n",
       "    </tr>\n",
       "  </thead>\n",
       "  <tbody>\n",
       "    <tr>\n",
       "      <th>(4.899, 6.2]</th>\n",
       "      <td>79.845783</td>\n",
       "      <td>78.377183</td>\n",
       "      <td>1.468600</td>\n",
       "    </tr>\n",
       "    <tr>\n",
       "      <th>(6.2, 6.7]</th>\n",
       "      <td>71.287413</td>\n",
       "      <td>68.885929</td>\n",
       "      <td>2.401484</td>\n",
       "    </tr>\n",
       "    <tr>\n",
       "      <th>(6.7, 7.3]</th>\n",
       "      <td>59.013201</td>\n",
       "      <td>56.663401</td>\n",
       "      <td>2.349800</td>\n",
       "    </tr>\n",
       "    <tr>\n",
       "      <th>(7.3, 8.0]</th>\n",
       "      <td>52.797887</td>\n",
       "      <td>49.532942</td>\n",
       "      <td>3.264945</td>\n",
       "    </tr>\n",
       "    <tr>\n",
       "      <th>(8.0, 13.5]</th>\n",
       "      <td>36.228310</td>\n",
       "      <td>34.668662</td>\n",
       "      <td>1.559649</td>\n",
       "    </tr>\n",
       "  </tbody>\n",
       "</table>\n",
       "</div>"
      ],
      "text/plain": [
       "              Mean Day TIR  Mean Night TIR  Mean Day vs. Night TIR Difference\n",
       "a1c_group                                                                    \n",
       "(4.899, 6.2]     79.845783       78.377183                           1.468600\n",
       "(6.2, 6.7]       71.287413       68.885929                           2.401484\n",
       "(6.7, 7.3]       59.013201       56.663401                           2.349800\n",
       "(7.3, 8.0]       52.797887       49.532942                           3.264945\n",
       "(8.0, 13.5]      36.228310       34.668662                           1.559649"
      ]
     },
     "execution_count": 102,
     "metadata": {},
     "output_type": "execute_result"
    }
   ],
   "source": [
    "means = df.groupby(['a1c_group']).mean().drop('a1c', axis=1)\n",
    "means.columns = ['Mean Day TIR','Mean Night TIR','Mean Day vs. Night TIR Difference']\n",
    "means"
   ]
  },
  {
   "cell_type": "markdown",
   "id": "1ef0ca3d",
   "metadata": {},
   "source": [
    "## Correlation between HbA1c and TIR"
   ]
  },
  {
   "cell_type": "code",
   "execution_count": 105,
   "id": "bb64dc4f",
   "metadata": {},
   "outputs": [
    {
     "data": {
      "text/plain": [
       "(-0.8085808210403687, 5.275902781685542e-78)"
      ]
     },
     "execution_count": 105,
     "metadata": {},
     "output_type": "execute_result"
    }
   ],
   "source": [
    "pearsonr(df['day_tir'],df['a1c'])"
   ]
  },
  {
   "cell_type": "code",
   "execution_count": 85,
   "id": "edf79010",
   "metadata": {},
   "outputs": [
    {
     "data": {
      "text/plain": [
       "SpearmanrResult(correlation=-0.8113612721983665, pvalue=6.058889572549373e-79)"
      ]
     },
     "execution_count": 85,
     "metadata": {},
     "output_type": "execute_result"
    }
   ],
   "source": [
    "from scipy.stats import spearmanr\n",
    "spearmanr(df['day_tir'],df['a1c'])\n"
   ]
  },
  {
   "cell_type": "code",
   "execution_count": null,
   "id": "ebab507a",
   "metadata": {},
   "outputs": [],
   "source": []
  }
 ],
 "metadata": {
  "kernelspec": {
   "display_name": "Python 3 (ipykernel)",
   "language": "python",
   "name": "python3"
  },
  "language_info": {
   "codemirror_mode": {
    "name": "ipython",
    "version": 3
   },
   "file_extension": ".py",
   "mimetype": "text/x-python",
   "name": "python",
   "nbconvert_exporter": "python",
   "pygments_lexer": "ipython3",
   "version": "3.10.1"
  }
 },
 "nbformat": 4,
 "nbformat_minor": 5
}
