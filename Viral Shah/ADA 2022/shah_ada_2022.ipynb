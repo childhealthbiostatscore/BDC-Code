{
 "cells": [
  {
   "cell_type": "code",
   "execution_count": 174,
   "id": "4042cd4d-d353-4c54-8277-a673f9c111de",
   "metadata": {},
   "outputs": [],
   "source": [
    "import os\n",
    "import glob\n",
    "import parsedatetime\n",
    "import pandas as pd\n",
    "from datetime import datetime\n",
    "from statistics import mode\n",
    "wd = \"/Volumes/som/PEDS/RI Biostatistics Core/Shared/Shared Projects/Laura/BDC/Projects/Viral Shah/JDRF TIR/3. Data Collection/Cleaned Final Data/\"\n",
    "cal = parsedatetime.Calendar()"
   ]
  },
  {
   "cell_type": "code",
   "execution_count": null,
   "id": "5f098707-209e-425e-8216-42bd46a38748",
   "metadata": {},
   "outputs": [],
   "source": [
    "# Dict for storing data\n",
    "df = {\"id\":[],\"timepoint\":[],\"tir\":[]}\n",
    "# Calculate CGM values, etc. for each person\n",
    "folders = os.listdir(wd + \"Cases_T1D+DR\")\n",
    "folders = [f for f in folders if \"DS_Store\" not in f]\n",
    "for fol in folders:\n",
    "    # Get ID\n",
    "    subject_id = [int(i) for i in fol.split() if i.isdigit()][0]\n",
    "    # Calculate CGM metrics for each CSV file\n",
    "    files = os.listdir(wd + \"Cases_T1D+DR/\" + fol)\n",
    "    csvs = [f for f in files if \".csv\" in f]\n",
    "    for c in csvs:\n",
    "        vis = c.split(\"_\")[0]\n",
    "        vis = [int(i) for i in vis.split() if i.isdigit()][0]\n",
    "        cgm = pd.read_csv(wd + \"Cases_T1D+DR/\" + fol + \"/\" + c)\n",
    "        # Get timestamp and glucose columns, format\n",
    "        if \"Timestamp (YYYY-MM-DDThh:mm:ss)\" in cgm.columns:\n",
    "            cgm = cgm[[\"Timestamp (YYYY-MM-DDThh:mm:ss)\",\"Glucose Value (mg/dL)\"]]\n",
    "        elif cgm.shape[1] > 40:\n",
    "            start = cgm.loc[cgm['Unnamed: 2'] == \"Sensor\"].index[0]\n",
    "            cgm.columns = cgm.iloc[start+1,:]\n",
    "            cgm = cgm.iloc[start+2:,:]\n",
    "            cgm.reset_index(inplace = True)\n",
    "            cgm[\"timestamp\"] = cgm[\"Date\"] + \" \" + cgm[\"Time\"]\n",
    "            cgm = cgm[[\"timestamp\",\"Sensor Glucose (mg/dL)\"]]\n",
    "        cgm.columns = [\"timestamp\",\"glucose\"]\n",
    "        cgm.dropna(inplace = True)\n",
    "        # Glucose to numeric replace \"high\" and \"low\" with limits of detection\n",
    "        cgm[\"glucose\"].replace(\"High\",400,inplace = True)\n",
    "        cgm[\"glucose\"].replace(\"Low\",40,inplace = True)\n",
    "        cgm[\"glucose\"] = [float(g) for g in cgm[\"glucose\"]]\n",
    "        cgm[\"timestamp\"] = [t.replace(\"T\", \" \") for t in cgm[\"timestamp\"]]\n",
    "        cgm[\"timestamp\"] = [cal.parse(t)[0] for t in cgm[\"timestamp\"]]\n",
    "        cgm[\"timestamp\"] = [datetime(*t[:6]) for t in cgm[\"timestamp\"]]\n",
    "        # Find sampling interval\n",
    "        s = abs(mode(cgm[\"timestamp\"].diff()).total_seconds())\n",
    "        # Re-index and expand to every 5 minutes\n",
    "        cgm.set_index(\"timestamp\",inplace = True)\n",
    "        cgm = cgm[~cgm.index.duplicated(keep='first')]\n",
    "        cgm = cgm.resample(str(s / 60) + \"T\").ffill()\n",
    "        total_r = cgm[\"glucose\"].notna().sum()\n",
    "        # TIR\n",
    "        tir = [g for g in cgm[\"glucose\"] if g >= 70 and g <= 180]\n",
    "        # Append to results dict\n",
    "        df[\"id\"].append(subject_id)\n",
    "        df[\"timepoint\"].append(vis)\n",
    "        df[\"tir\"].append(round(len(tir) / total_r * 100,2))"
   ]
  },
  {
   "cell_type": "code",
   "execution_count": null,
   "id": "8c3f314e-cf41-46c9-97b5-072baf8db600",
   "metadata": {},
   "outputs": [],
   "source": [
    "wd + \"Cases_T1D+DR/\" + fol + \"/\" + c"
   ]
  },
  {
   "cell_type": "code",
   "execution_count": null,
   "id": "1bf9d1eb-54ad-46f7-86c1-e0b17abdf341",
   "metadata": {},
   "outputs": [],
   "source": []
  }
 ],
 "metadata": {
  "kernelspec": {
   "display_name": "shah_ada2022",
   "language": "python",
   "name": "shah_ada2022"
  },
  "language_info": {
   "codemirror_mode": {
    "name": "ipython",
    "version": 3
   },
   "file_extension": ".py",
   "mimetype": "text/x-python",
   "name": "python",
   "nbconvert_exporter": "python",
   "pygments_lexer": "ipython3",
   "version": "3.10.0"
  }
 },
 "nbformat": 4,
 "nbformat_minor": 5
}
