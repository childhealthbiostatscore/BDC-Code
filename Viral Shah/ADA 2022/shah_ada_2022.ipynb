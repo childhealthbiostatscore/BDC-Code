{
 "cells": [
  {
   "cell_type": "code",
   "execution_count": 1,
   "id": "4042cd4d-d353-4c54-8277-a673f9c111de",
   "metadata": {},
   "outputs": [],
   "source": [
    "import os\n",
    "import glob\n",
    "import parsedatetime\n",
    "import pandas as pd\n",
    "import numpy as np\n",
    "from datetime import datetime\n",
    "from statistics import mode\n",
    "wd = \"/Volumes/som/PEDS/RI Biostatistics Core/Shared/Shared Projects/Laura/BDC/Projects/Viral Shah/JDRF TIR/3. Data Collection/Cleaned Final Data/\"\n",
    "cal = parsedatetime.Calendar()"
   ]
  },
  {
   "cell_type": "code",
   "execution_count": 2,
   "id": "5f098707-209e-425e-8216-42bd46a38748",
   "metadata": {},
   "outputs": [
    {
     "ename": "IndexError",
     "evalue": "index 0 is out of bounds for axis 0 with size 0",
     "output_type": "error",
     "traceback": [
      "\u001b[0;31m---------------------------------------------------------------------------\u001b[0m",
      "\u001b[0;31mIndexError\u001b[0m                                Traceback (most recent call last)",
      "\u001b[0;32m/var/folders/s7/q_bh1znj667bc46nkrl71lqw0000gn/T/ipykernel_3890/3262157347.py\u001b[0m in \u001b[0;36m<module>\u001b[0;34m\u001b[0m\n\u001b[1;32m     67\u001b[0m         \u001b[0mv\u001b[0m \u001b[0;34m=\u001b[0m \u001b[0md\u001b[0m\u001b[0;34m[\u001b[0m\u001b[0;34m\"visit\"\u001b[0m\u001b[0;34m]\u001b[0m\u001b[0;34m.\u001b[0m\u001b[0miloc\u001b[0m\u001b[0;34m[\u001b[0m\u001b[0;36m0\u001b[0m\u001b[0;34m]\u001b[0m\u001b[0;34m\u001b[0m\u001b[0;34m\u001b[0m\u001b[0m\n\u001b[1;32m     68\u001b[0m         \u001b[0mdate\u001b[0m \u001b[0;34m=\u001b[0m \u001b[0msummary\u001b[0m\u001b[0;34m.\u001b[0m\u001b[0mloc\u001b[0m\u001b[0;34m[\u001b[0m\u001b[0msummary\u001b[0m\u001b[0;34m.\u001b[0m\u001b[0miloc\u001b[0m\u001b[0;34m[\u001b[0m\u001b[0;34m:\u001b[0m\u001b[0;34m,\u001b[0m\u001b[0;36m1\u001b[0m\u001b[0;34m]\u001b[0m \u001b[0;34m==\u001b[0m \u001b[0mv\u001b[0m\u001b[0;34m]\u001b[0m\u001b[0;34m[\u001b[0m\u001b[0;34m\"Office Visit Date\"\u001b[0m\u001b[0;34m]\u001b[0m\u001b[0;34m\u001b[0m\u001b[0;34m\u001b[0m\u001b[0m\n\u001b[0;32m---> 69\u001b[0;31m         \u001b[0mdate\u001b[0m \u001b[0;34m=\u001b[0m \u001b[0mstr\u001b[0m\u001b[0;34m(\u001b[0m\u001b[0mdate\u001b[0m\u001b[0;34m.\u001b[0m\u001b[0mvalues\u001b[0m\u001b[0;34m[\u001b[0m\u001b[0;36m0\u001b[0m\u001b[0;34m]\u001b[0m\u001b[0;34m)\u001b[0m\u001b[0;34m[\u001b[0m\u001b[0;34m:\u001b[0m\u001b[0;36m10\u001b[0m\u001b[0;34m]\u001b[0m\u001b[0;34m\u001b[0m\u001b[0;34m\u001b[0m\u001b[0m\n\u001b[0m\u001b[1;32m     70\u001b[0m         \u001b[0ma1c\u001b[0m \u001b[0;34m=\u001b[0m \u001b[0mfloat\u001b[0m\u001b[0;34m(\u001b[0m\u001b[0msummary\u001b[0m\u001b[0;34m.\u001b[0m\u001b[0mloc\u001b[0m\u001b[0;34m[\u001b[0m\u001b[0msummary\u001b[0m\u001b[0;34m.\u001b[0m\u001b[0miloc\u001b[0m\u001b[0;34m[\u001b[0m\u001b[0;34m:\u001b[0m\u001b[0;34m,\u001b[0m\u001b[0;36m1\u001b[0m\u001b[0;34m]\u001b[0m \u001b[0;34m==\u001b[0m \u001b[0mv\u001b[0m\u001b[0;34m]\u001b[0m\u001b[0;34m[\u001b[0m\u001b[0;34m\"A1c\"\u001b[0m\u001b[0;34m]\u001b[0m\u001b[0;34m)\u001b[0m\u001b[0;34m\u001b[0m\u001b[0;34m\u001b[0m\u001b[0m\n\u001b[1;32m     71\u001b[0m         \u001b[0mtotal_r\u001b[0m \u001b[0;34m=\u001b[0m \u001b[0md\u001b[0m\u001b[0;34m[\u001b[0m\u001b[0;34m\"glucose\"\u001b[0m\u001b[0;34m]\u001b[0m\u001b[0;34m.\u001b[0m\u001b[0mnotna\u001b[0m\u001b[0;34m(\u001b[0m\u001b[0;34m)\u001b[0m\u001b[0;34m.\u001b[0m\u001b[0msum\u001b[0m\u001b[0;34m(\u001b[0m\u001b[0;34m)\u001b[0m\u001b[0;34m\u001b[0m\u001b[0;34m\u001b[0m\u001b[0m\n",
      "\u001b[0;31mIndexError\u001b[0m: index 0 is out of bounds for axis 0 with size 0"
     ]
    }
   ],
   "source": [
    "# Results dict for storing data\n",
    "results = {\"id\":[],\"visit\":[],\"date\":[],\"tir\":[],\"a1c\":[]}\n",
    "# Calculate CGM values, etc. for each person\n",
    "folders = os.listdir(wd + \"Cases_T1D+DR\")\n",
    "folders = [f for f in folders if \"DS_Store\" not in f]\n",
    "for fol in folders:\n",
    "    # Get ID\n",
    "    subject_id = [int(i) for i in fol.split() if i.isdigit()][0]\n",
    "    # Find summary and CSV files\n",
    "    files = os.listdir(wd + \"Cases_T1D+DR/\" + fol)\n",
    "    csvs = [f for f in files if \".csv\" in f]\n",
    "    summary = [f for f in files if \"summary\" in f.lower()][0]\n",
    "    summary = pd.read_excel(wd + \"Cases_T1D+DR/\" + fol + \"/\" + summary)\n",
    "    # Combine all CSV files\n",
    "    all_data = []\n",
    "    for c in csvs:\n",
    "        vis = c.split(\"_\")[0]\n",
    "        vis = [int(i) for i in vis if i.isdigit()][0]\n",
    "        cgm = pd.read_csv(wd + \"Cases_T1D+DR/\" + fol + \"/\" + c,low_memory = False)\n",
    "        # Get timestamp and glucose columns, format\n",
    "        if \"Timestamp (YYYY-MM-DDThh:mm:ss)\" in cgm.columns:\n",
    "            cgm = cgm[[\"Timestamp (YYYY-MM-DDThh:mm:ss)\",\"Glucose Value (mg/dL)\"]]\n",
    "        elif cgm.shape[1] == 19:\n",
    "            start = cgm.loc[cgm.iloc[:,2] == \"Device Timestamp\"].index[0]\n",
    "            cgm.columns = cgm.iloc[start,:]\n",
    "            cgm = cgm.iloc[start+1:,:]\n",
    "            cgm = cgm[[\"Device Timestamp\",\"Historic Glucose mg/dL\"]]\n",
    "        elif cgm.shape[1] > 40:\n",
    "            start = cgm.loc[cgm['Unnamed: 2'] == \"Sensor\"].index[0]\n",
    "            cgm.columns = cgm.iloc[start+1,:]\n",
    "            cgm = cgm.iloc[start+2:,:]\n",
    "            cgm.reset_index(inplace = True)\n",
    "            cgm[\"timestamp\"] = cgm[\"Date\"] + \" \" + cgm[\"Time\"]\n",
    "            cgm = cgm[[\"timestamp\",\"Sensor Glucose (mg/dL)\"]]\n",
    "        cgm.columns = [\"timestamp\",\"glucose\"]\n",
    "        cgm.dropna(inplace = True)\n",
    "        # Glucose to numeric replace \"high\" and \"low\" with limits of detection\n",
    "        cgm[\"glucose\"].replace(\"High\",400,inplace = True)\n",
    "        cgm[\"glucose\"].replace(\"Low\",40,inplace = True)\n",
    "        cgm[\"glucose\"] = pd.to_numeric(cgm[\"glucose\"],errors='coerce')\n",
    "        cgm[\"timestamp\"] = [t.replace(\"T\", \" \") for t in cgm[\"timestamp\"]]\n",
    "        cgm[\"timestamp\"] = [cal.parse(t)[0] for t in cgm[\"timestamp\"]]\n",
    "        cgm[\"timestamp\"] = [datetime(*t[:6]) for t in cgm[\"timestamp\"]]\n",
    "        cgm.dropna(inplace = True)\n",
    "        # Find sampling interval\n",
    "        s = abs(mode(cgm[\"timestamp\"].diff()).total_seconds())\n",
    "        # Re-index and expand to every 5 minutes\n",
    "        cgm.set_index(\"timestamp\",inplace = True)\n",
    "        cgm = cgm[~cgm.index.duplicated(keep='first')]\n",
    "        cgm = cgm.resample(str(s / 60) + \"T\").ffill()\n",
    "        # Add to list of DFs\n",
    "        all_data.append(cgm)\n",
    "    all_data = pd.concat(all_data)\n",
    "    all_data.reset_index(inplace = True)\n",
    "    # Split by visit\n",
    "    dates = [d for d in summary[\"Office Visit Date\"]]\n",
    "    dates.append(pd.to_datetime(\"1-1-2100\"))\n",
    "    dates.append(pd.to_datetime(\"1-1-1900\"))\n",
    "    dates.sort()\n",
    "    visits = [r for r in range(1,len(dates))]\n",
    "    visits.sort(reverse = True)\n",
    "    all_data[\"visit\"] = pd.cut(all_data[\"timestamp\"],bins = dates,labels = visits)\n",
    "    # Calculate metrics by visit\n",
    "    df_list = [d for _, d in all_data.groupby(['visit'])]\n",
    "    df_list = [df for df in df_list if df.shape[0] > 0]\n",
    "    for d in df_list:\n",
    "        v = d[\"visit\"].iloc[0]\n",
    "        date = summary.loc[summary.iloc[:,1] == v][\"Office Visit Date\"]\n",
    "        date = str(date.values[0])[:10]\n",
    "        a1c = float(summary.loc[summary.iloc[:,1] == v][\"A1c\"])\n",
    "        total_r = d[\"glucose\"].notna().sum()\n",
    "        tir = [g for g in d[\"glucose\"] if g >= 70 and g <= 180]\n",
    "        # Put in results dict\n",
    "        results[\"id\"].append(subject_id)\n",
    "        results[\"visit\"].append(v)\n",
    "        results[\"date\"].append(date)\n",
    "        results[\"tir\"].append(round(len(tir) / total_r * 100,2))\n",
    "        results[\"a1c\"].append(a1c)"
   ]
  },
  {
   "cell_type": "code",
   "execution_count": 3,
   "id": "7d76aad5-b04d-44fc-8b14-37cc2395b930",
   "metadata": {},
   "outputs": [
    {
     "data": {
      "text/plain": [
       "'/Volumes/som/PEDS/RI Biostatistics Core/Shared/Shared Projects/Laura/BDC/Projects/Viral Shah/JDRF TIR/3. Data Collection/Cleaned Final Data/Cases_T1D+DR/Case 074/Visit 2_08-16-2018 to 11-13-2018.csv'"
      ]
     },
     "execution_count": 3,
     "metadata": {},
     "output_type": "execute_result"
    }
   ],
   "source": [
    "wd + \"Cases_T1D+DR/\" + fol + \"/\" + c"
   ]
  },
  {
   "cell_type": "code",
   "execution_count": 4,
   "id": "0ba270ca-fbc4-431b-97c8-f9be58e6f702",
   "metadata": {},
   "outputs": [
    {
     "data": {
      "text/plain": [
       "Series([], Name: Office Visit Date, dtype: datetime64[ns])"
      ]
     },
     "execution_count": 4,
     "metadata": {},
     "output_type": "execute_result"
    }
   ],
   "source": [
    "summary.loc[summary.iloc[:,1] == v][\"Office Visit Date\"]"
   ]
  },
  {
   "cell_type": "code",
   "execution_count": 5,
   "id": "f7c8473d-8441-48fd-a26e-bc013f6955dd",
   "metadata": {},
   "outputs": [
    {
     "data": {
      "text/html": [
       "<div>\n",
       "<style scoped>\n",
       "    .dataframe tbody tr th:only-of-type {\n",
       "        vertical-align: middle;\n",
       "    }\n",
       "\n",
       "    .dataframe tbody tr th {\n",
       "        vertical-align: top;\n",
       "    }\n",
       "\n",
       "    .dataframe thead th {\n",
       "        text-align: right;\n",
       "    }\n",
       "</style>\n",
       "<table border=\"1\" class=\"dataframe\">\n",
       "  <thead>\n",
       "    <tr style=\"text-align: right;\">\n",
       "      <th></th>\n",
       "      <th>DOB</th>\n",
       "      <th>Visit No.</th>\n",
       "      <th>Office Visit Date</th>\n",
       "      <th>A1c</th>\n",
       "      <th>CGM type at visit</th>\n",
       "      <th>Unnamed: 5</th>\n",
       "    </tr>\n",
       "  </thead>\n",
       "  <tbody>\n",
       "    <tr>\n",
       "      <th>0</th>\n",
       "      <td>1989-11-30</td>\n",
       "      <td>1</td>\n",
       "      <td>2019-07-02</td>\n",
       "      <td>6.4</td>\n",
       "      <td>Dexcom</td>\n",
       "      <td>blank clarity export so PDF used</td>\n",
       "    </tr>\n",
       "    <tr>\n",
       "      <th>1</th>\n",
       "      <td>NaT</td>\n",
       "      <td>2</td>\n",
       "      <td>2018-11-13</td>\n",
       "      <td>6.4</td>\n",
       "      <td>Dexcom</td>\n",
       "      <td>NaN</td>\n",
       "    </tr>\n",
       "    <tr>\n",
       "      <th>2</th>\n",
       "      <td>NaT</td>\n",
       "      <td>3</td>\n",
       "      <td>2018-04-27</td>\n",
       "      <td>7.2</td>\n",
       "      <td>Dexcom</td>\n",
       "      <td>patient's first visit to BDC</td>\n",
       "    </tr>\n",
       "  </tbody>\n",
       "</table>\n",
       "</div>"
      ],
      "text/plain": [
       "         DOB  Visit No. Office Visit Date  A1c CGM type at visit  \\\n",
       "0 1989-11-30          1        2019-07-02  6.4            Dexcom   \n",
       "1        NaT          2        2018-11-13  6.4            Dexcom   \n",
       "2        NaT          3        2018-04-27  7.2            Dexcom   \n",
       "\n",
       "                         Unnamed: 5  \n",
       "0  blank clarity export so PDF used  \n",
       "1                               NaN  \n",
       "2      patient's first visit to BDC  "
      ]
     },
     "execution_count": 5,
     "metadata": {},
     "output_type": "execute_result"
    }
   ],
   "source": [
    "summary"
   ]
  },
  {
   "cell_type": "code",
   "execution_count": 6,
   "id": "3c10fe91-c270-41e9-a251-5733c29e9023",
   "metadata": {},
   "outputs": [
    {
     "data": {
      "text/plain": [
       "4"
      ]
     },
     "execution_count": 6,
     "metadata": {},
     "output_type": "execute_result"
    }
   ],
   "source": [
    "v"
   ]
  },
  {
   "cell_type": "code",
   "execution_count": 8,
   "id": "be73e46b-1cc1-44f2-a796-94919e019c16",
   "metadata": {},
   "outputs": [
    {
     "data": {
      "text/plain": [
       "0        4\n",
       "1        4\n",
       "2        4\n",
       "3        4\n",
       "4        4\n",
       "        ..\n",
       "33832    3\n",
       "33833    3\n",
       "33834    3\n",
       "33835    3\n",
       "33836    3\n",
       "Name: timestamp, Length: 33837, dtype: category\n",
       "Categories (4, int64): [4 < 3 < 2 < 1]"
      ]
     },
     "execution_count": 8,
     "metadata": {},
     "output_type": "execute_result"
    }
   ],
   "source": [
    "pd.cut(all_data[\"timestamp\"],bins = dates,labels = visits)"
   ]
  },
  {
   "cell_type": "code",
   "execution_count": 9,
   "id": "a7a94332-fd09-4b95-98f5-f107fb218d3e",
   "metadata": {},
   "outputs": [
    {
     "data": {
      "text/plain": [
       "[Timestamp('1900-01-01 00:00:00'),\n",
       " Timestamp('2018-04-27 00:00:00'),\n",
       " Timestamp('2018-11-13 00:00:00'),\n",
       " Timestamp('2019-07-02 00:00:00'),\n",
       " Timestamp('2100-01-01 00:00:00')]"
      ]
     },
     "execution_count": 9,
     "metadata": {},
     "output_type": "execute_result"
    }
   ],
   "source": [
    "dates"
   ]
  },
  {
   "cell_type": "code",
   "execution_count": null,
   "id": "e0362c5d-0f86-42b4-89f3-b84214bd8d04",
   "metadata": {},
   "outputs": [],
   "source": []
  }
 ],
 "metadata": {
  "kernelspec": {
   "display_name": "shah_ada2022",
   "language": "python",
   "name": "shah_ada2022"
  },
  "language_info": {
   "codemirror_mode": {
    "name": "ipython",
    "version": 3
   },
   "file_extension": ".py",
   "mimetype": "text/x-python",
   "name": "python",
   "nbconvert_exporter": "python",
   "pygments_lexer": "ipython3",
   "version": "3.10.0"
  }
 },
 "nbformat": 4,
 "nbformat_minor": 5
}
