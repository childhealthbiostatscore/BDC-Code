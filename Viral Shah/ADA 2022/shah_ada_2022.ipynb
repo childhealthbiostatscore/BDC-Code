{
 "cells": [
  {
   "cell_type": "code",
   "execution_count": 45,
   "id": "d13b2c7a-b900-4ef6-b6db-f123aaef0737",
   "metadata": {},
   "outputs": [],
   "source": [
    "import pandas as pd\n",
    "import seaborn as sns\n",
    "import matplotlib.pyplot as plt\n",
    "from statsmodels.api import OLS\n",
    "from patsy import dmatrices\n",
    "wd = \"/Users/timvigers/Documents/Work/Viral Shah/ADA 2022/\""
   ]
  },
  {
   "cell_type": "code",
   "execution_count": 11,
   "id": "5bff7e88-fe78-4bad-a409-c18dc65ab64f",
   "metadata": {},
   "outputs": [],
   "source": [
    "# Import Kaan's data\n",
    "df = pd.read_csv(wd + \"Data_Clean/analysis_data.csv\",usecols=[\"14 Day Mean\",\"HbA1c\"])\n",
    "# Only HbA1c < 6.5\n",
    "df = df[df[\"HbA1c\"] < 6.5]\n",
    "df.columns = [\"HbA1c\",\"MBG\"]\n",
    "df = df[[\"MBG\",\"HbA1c\"]]\n",
    "df[\"MBG\"] = [round(m,2) for m in df[\"MBG\"]]\n",
    "# Add JAEB data\n",
    "jaeb_cgm = pd.read_csv(wd + \"Data_Raw/CGMND/NonDiabDeviceCGM.csv\")\n",
    "jaeb_cgm = jaeb_cgm[jaeb_cgm[\"RecordType\"] == \"CGM\"]\n",
    "# Split by ID\n",
    "dataframes = []\n",
    "for _, d in jaeb_cgm.groupby([\"PtID\"]):\n",
    "    dataframes.append(d)\n",
    "# Calculate mean glucose for each participant\n",
    "mean_bgs = {\"PtID\":[],\"MBG\":[]}\n",
    "for d in dataframes:\n",
    "    mean_bgs[\"PtID\"].append(d[\"PtID\"].iloc[0])\n",
    "    mean_bgs[\"MBG\"].append(round(d[\"Value\"].mean(),2))\n",
    "mean_bgs = pd.DataFrame(mean_bgs)\n",
    "# Add HbA1c\n",
    "jaeb_a1c = pd.read_csv(wd + \"Data_Raw/CGMND/NonDiabScreening.csv\",usecols=[\"PtID\",\"HbA1c\"])\n",
    "jaeb_a1c[\"PtID\"] = [str(p) for p in jaeb_a1c[\"PtID\"]]\n",
    "mean_bgs[\"PtID\"] = [str(p) for p in mean_bgs[\"PtID\"]]\n",
    "mean_bgs = mean_bgs.merge(jaeb_a1c,on = \"PtID\",how=\"left\")\n",
    "mean_bgs = mean_bgs[[\"MBG\",\"HbA1c\"]]\n",
    "# Combine\n",
    "df = pd.concat([df,mean_bgs])\n",
    "# Calculate GMI\n",
    "df[\"GMI\"] = [3.31 + 0.02392*m for m in df[\"MBG\"]]\n",
    "df[\"Diff\"] = df[\"HbA1c\"] - df[\"GMI\"]"
   ]
  },
  {
   "cell_type": "markdown",
   "id": "2609dcb6-7354-4406-abef-9d2ce47cfed4",
   "metadata": {
    "tags": []
   },
   "source": [
    "# Mean Glucose and HbA1c\n",
    "Red line indicates GMI regression line."
   ]
  },
  {
   "cell_type": "code",
   "execution_count": 33,
   "id": "986a2b51-1ea7-4eab-99d1-f0ec894c585d",
   "metadata": {},
   "outputs": [
    {
     "data": {
      "image/png": "[encoded data removed]",
      "text/plain": [
       "<Figure size 432x432 with 3 Axes>"
      ]
     },
     "metadata": {
      "needs_background": "light"
     },
     "output_type": "display_data"
    }
   ],
   "source": [
    "grid = sns.JointGrid(x=df[\"MBG\"],y=df[\"HbA1c\"])\n",
    "grid.plot_joint(plt.scatter)\n",
    "plt.plot([80,175],[5.2236,7.496], linewidth=2, color = \"r\");"
   ]
  },
  {
   "cell_type": "markdown",
   "id": "0ffac0ec-d94d-4f7c-9d03-646b4c176e01",
   "metadata": {},
   "source": [
    "# Regression Results"
   ]
  },
  {
   "cell_type": "code",
   "execution_count": 46,
   "id": "b007a934-b979-47ce-8c6a-15ec9360a8c6",
   "metadata": {},
   "outputs": [],
   "source": [
    "outcome, predictors = dmatrices(\"HbA1c ~ MBG\", df)\n",
    "reg = OLS(outcome,predictors).fit()"
   ]
  },
  {
   "cell_type": "code",
   "execution_count": 49,
   "id": "4c3c6036-1ffb-4bf9-b370-96ecf562ea53",
   "metadata": {},
   "outputs": [
    {
     "data": {
      "text/html": [
       "<table class=\"simpletable\">\n",
       "<caption>OLS Regression Results</caption>\n",
       "<tr>\n",
       "  <th>Dep. Variable:</th>          <td>HbA1c</td>      <th>  R-squared:         </th> <td>   0.604</td>\n",
       "</tr>\n",
       "<tr>\n",
       "  <th>Model:</th>                   <td>OLS</td>       <th>  Adj. R-squared:    </th> <td>   0.603</td>\n",
       "</tr>\n",
       "<tr>\n",
       "  <th>Method:</th>             <td>Least Squares</td>  <th>  F-statistic:       </th> <td>   397.2</td>\n",
       "</tr>\n",
       "<tr>\n",
       "  <th>Date:</th>             <td>Tue, 07 Dec 2021</td> <th>  Prob (F-statistic):</th> <td>2.80e-54</td>\n",
       "</tr>\n",
       "<tr>\n",
       "  <th>Time:</th>                 <td>15:19:16</td>     <th>  Log-Likelihood:    </th> <td> -44.591</td>\n",
       "</tr>\n",
       "<tr>\n",
       "  <th>No. Observations:</th>      <td>   262</td>      <th>  AIC:               </th> <td>   93.18</td>\n",
       "</tr>\n",
       "<tr>\n",
       "  <th>Df Residuals:</th>          <td>   260</td>      <th>  BIC:               </th> <td>   100.3</td>\n",
       "</tr>\n",
       "<tr>\n",
       "  <th>Df Model:</th>              <td>     1</td>      <th>                     </th>     <td> </td>   \n",
       "</tr>\n",
       "<tr>\n",
       "  <th>Covariance Type:</th>      <td>nonrobust</td>    <th>                     </th>     <td> </td>   \n",
       "</tr>\n",
       "</table>\n",
       "<table class=\"simpletable\">\n",
       "<tr>\n",
       "      <td></td>         <th>coef</th>     <th>std err</th>      <th>t</th>      <th>P>|t|</th>  <th>[0.025</th>    <th>0.975]</th>  \n",
       "</tr>\n",
       "<tr>\n",
       "  <th>Intercept</th> <td>    3.4551</td> <td>    0.102</td> <td>   33.854</td> <td> 0.000</td> <td>    3.254</td> <td>    3.656</td>\n",
       "</tr>\n",
       "<tr>\n",
       "  <th>MBG</th>       <td>    0.0180</td> <td>    0.001</td> <td>   19.930</td> <td> 0.000</td> <td>    0.016</td> <td>    0.020</td>\n",
       "</tr>\n",
       "</table>\n",
       "<table class=\"simpletable\">\n",
       "<tr>\n",
       "  <th>Omnibus:</th>       <td>19.822</td> <th>  Durbin-Watson:     </th> <td>   1.644</td>\n",
       "</tr>\n",
       "<tr>\n",
       "  <th>Prob(Omnibus):</th> <td> 0.000</td> <th>  Jarque-Bera (JB):  </th> <td>  25.189</td>\n",
       "</tr>\n",
       "<tr>\n",
       "  <th>Skew:</th>          <td>-0.564</td> <th>  Prob(JB):          </th> <td>3.39e-06</td>\n",
       "</tr>\n",
       "<tr>\n",
       "  <th>Kurtosis:</th>      <td> 4.017</td> <th>  Cond. No.          </th> <td>    647.</td>\n",
       "</tr>\n",
       "</table><br/><br/>Notes:<br/>[1] Standard Errors assume that the covariance matrix of the errors is correctly specified."
      ],
      "text/plain": [
       "<class 'statsmodels.iolib.summary.Summary'>\n",
       "\"\"\"\n",
       "                            OLS Regression Results                            \n",
       "==============================================================================\n",
       "Dep. Variable:                  HbA1c   R-squared:                       0.604\n",
       "Model:                            OLS   Adj. R-squared:                  0.603\n",
       "Method:                 Least Squares   F-statistic:                     397.2\n",
       "Date:                Tue, 07 Dec 2021   Prob (F-statistic):           2.80e-54\n",
       "Time:                        15:19:16   Log-Likelihood:                -44.591\n",
       "No. Observations:                 262   AIC:                             93.18\n",
       "Df Residuals:                     260   BIC:                             100.3\n",
       "Df Model:                           1                                         \n",
       "Covariance Type:            nonrobust                                         \n",
       "==============================================================================\n",
       "                 coef    std err          t      P>|t|      [0.025      0.975]\n",
       "------------------------------------------------------------------------------\n",
       "Intercept      3.4551      0.102     33.854      0.000       3.254       3.656\n",
       "MBG            0.0180      0.001     19.930      0.000       0.016       0.020\n",
       "==============================================================================\n",
       "Omnibus:                       19.822   Durbin-Watson:                   1.644\n",
       "Prob(Omnibus):                  0.000   Jarque-Bera (JB):               25.189\n",
       "Skew:                          -0.564   Prob(JB):                     3.39e-06\n",
       "Kurtosis:                       4.017   Cond. No.                         647.\n",
       "==============================================================================\n",
       "\n",
       "Notes:\n",
       "[1] Standard Errors assume that the covariance matrix of the errors is correctly specified.\n",
       "\"\"\""
      ]
     },
     "execution_count": 49,
     "metadata": {},
     "output_type": "execute_result"
    }
   ],
   "source": [
    "reg.summary()"
   ]
  },
  {
   "cell_type": "markdown",
   "id": "70a3648d-3071-4c67-b951-e4e4f341fd71",
   "metadata": {},
   "source": [
    "Based on this dataset, the regression equation for GMI would be:\n",
    "\n",
    "GMI = 3.4551 + 0.0180 * MBG"
   ]
  },
  {
   "cell_type": "code",
   "execution_count": 54,
   "id": "9cb7fd0f-cb31-4b41-8448-1ce03b8b7818",
   "metadata": {},
   "outputs": [
    {
     "data": {
      "image/png": "[encoded data removed]",
      "text/plain": [
       "<Figure size 360x360 with 1 Axes>"
      ]
     },
     "metadata": {
      "needs_background": "light"
     },
     "output_type": "display_data"
    }
   ],
   "source": [
    "sns.lmplot(x=\"MBG\",y=\"HbA1c\",data=df,ci=None);"
   ]
  },
  {
   "cell_type": "code",
   "execution_count": null,
   "id": "babcf1fc-4dd7-416e-95f6-1cab2a9c2402",
   "metadata": {},
   "outputs": [],
   "source": []
  }
 ],
 "metadata": {
  "kernelspec": {
   "display_name": "shah_ada2022",
   "language": "python",
   "name": "shah_ada2022"
  },
  "language_info": {
   "codemirror_mode": {
    "name": "ipython",
    "version": 3
   },
   "file_extension": ".py",
   "mimetype": "text/x-python",
   "name": "python",
   "nbconvert_exporter": "python",
   "pygments_lexer": "ipython3",
   "version": "3.10.0"
  }
 },
 "nbformat": 4,
 "nbformat_minor": 5
}
