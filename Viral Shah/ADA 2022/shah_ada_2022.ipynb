{
 "cells": [
  {
   "cell_type": "code",
   "execution_count": 18,
   "id": "d13b2c7a-b900-4ef6-b6db-f123aaef0737",
   "metadata": {},
   "outputs": [],
   "source": [
    "import pandas as pd\n",
    "import numpy as np\n",
    "import seaborn as sns\n",
    "import matplotlib.pyplot as plt\n",
    "from tableone import TableOne\n",
    "from statsmodels.api import OLS\n",
    "from statsmodels.stats import proportion\n",
    "from patsy import dmatrices\n",
    "from scipy.stats import ttest_1samp\n",
    "wd = \"/Users/timvigers/Dropbox/Work/Viral Shah/ADA 2022/\""
   ]
  },
  {
   "cell_type": "markdown",
   "id": "e4101215-3114-4a01-b746-153773c27bc8",
   "metadata": {},
   "source": [
    "## Data\n",
    "- Participants with HbA1c >= 6.5 were excluded from Kaan's CGM dataset. The remaining participants were combined with publicly available data on non-diabetics from the JAEB (https://public.jaeb.org/datasets/diabetes).\n",
    "- For each participant, mean blood glucose was calculated from CGM data, and GMI calculated according to the standard equation (3.31 + 0.02392 * MBG). \n",
    "- GMI was compared to lab HbA1c, and a new GMI regression equation was estimated for this population. "
   ]
  },
  {
   "cell_type": "code",
   "execution_count": 19,
   "id": "5bff7e88-fe78-4bad-a409-c18dc65ab64f",
   "metadata": {},
   "outputs": [],
   "source": [
    "# Import Kaan's data\n",
    "df = pd.read_csv(wd + \"Data_Clean/analysis_data.csv\",usecols=[\"14 Day Mean\",\"HbA1c\"])\n",
    "# Only HbA1c < 6.5\n",
    "df = df[df[\"HbA1c\"] < 6.5]\n",
    "df.columns = [\"HbA1c\",\"MBG\"]\n",
    "df = df[[\"MBG\",\"HbA1c\"]]\n",
    "df[\"MBG\"] = [round(m,2) for m in df[\"MBG\"]]\n",
    "# Add JAEB data\n",
    "jaeb_cgm = pd.read_csv(wd + \"Data_Raw/CGMND/NonDiabDeviceCGM.csv\")\n",
    "jaeb_cgm = jaeb_cgm[jaeb_cgm[\"RecordType\"] == \"CGM\"]\n",
    "# Split by ID\n",
    "dataframes = []\n",
    "for _, d in jaeb_cgm.groupby([\"PtID\"]):\n",
    "    dataframes.append(d)\n",
    "# Calculate mean glucose for each participant\n",
    "mean_bgs = {\"PtID\":[],\"MBG\":[]}\n",
    "for d in dataframes:\n",
    "    mean_bgs[\"PtID\"].append(d[\"PtID\"].iloc[0])\n",
    "    mean_bgs[\"MBG\"].append(round(d[\"Value\"].mean(),2))\n",
    "mean_bgs = pd.DataFrame(mean_bgs)\n",
    "# Exclude patients (per Stephanie DuBose)\n",
    "exclude = pd.read_csv(wd+\"Data_Raw/List of Excluded Pts.csv\")\n",
    "idx = ~mean_bgs['PtID'].isin(exclude['PtID'])\n",
    "mean_bgs = mean_bgs[idx]\n",
    "# Add HbA1c\n",
    "jaeb_a1c = pd.read_csv(wd + \"Data_Raw/CGMND/NonDiabScreening.csv\",usecols=[\"PtID\",\"HbA1c\"])\n",
    "jaeb_a1c[\"PtID\"] = [str(p) for p in jaeb_a1c[\"PtID\"]]\n",
    "mean_bgs[\"PtID\"] = [str(p) for p in mean_bgs[\"PtID\"]]\n",
    "mean_bgs = mean_bgs.merge(jaeb_a1c,on = \"PtID\")\n",
    "mean_bgs = mean_bgs[[\"MBG\",\"HbA1c\"]]\n",
    "mean_bgs = mean_bgs[mean_bgs[\"HbA1c\"] < 6.5]\n",
    "# Combine\n",
    "df = pd.concat([df,mean_bgs])\n",
    "# Calculate GMI\n",
    "df[\"GMI\"] = [3.31 + 0.02392*m for m in df[\"MBG\"]]\n",
    "df[\"Diff\"] = df[\"HbA1c\"] - df[\"GMI\"]\n",
    "df.reset_index(inplace=True,drop=True)\n",
    "# Write\n",
    "df.to_csv(wd + 'Data_Clean/combined_data.csv',index=False)\n",
    "# Split by HbA1c < 5.7 and 5.7 - 6.5\n",
    "nondiab = df[df['HbA1c'] < 5.7]\n",
    "prediab = df[(df['HbA1c'] >= 5.7) & (df['HbA1c'] < 6.5)]\n",
    "# Reindex\n",
    "nondiab.reset_index(inplace=True,drop=True)\n",
    "prediab.reset_index(inplace=True,drop=True)"
   ]
  },
  {
   "cell_type": "markdown",
   "id": "495c98d2-06b2-4f5a-8326-780cf48a4960",
   "metadata": {},
   "source": [
    "# HbA1c < 5.7"
   ]
  },
  {
   "cell_type": "markdown",
   "id": "2609dcb6-7354-4406-abef-9d2ce47cfed4",
   "metadata": {
    "tags": []
   },
   "source": [
    "## Mean Glucose and HbA1c\n",
    "Red line indicates GMI regression line."
   ]
  },
  {
   "cell_type": "code",
   "execution_count": 20,
   "id": "986a2b51-1ea7-4eab-99d1-f0ec894c585d",
   "metadata": {},
   "outputs": [
    {
     "data": {
      "image/png": "[encoded data removed]",
      "text/plain": [
       "<Figure size 432x432 with 3 Axes>"
      ]
     },
     "metadata": {
      "needs_background": "light"
     },
     "output_type": "display_data"
    }
   ],
   "source": [
    "grid = sns.JointGrid(x=nondiab[\"MBG\"],y=nondiab[\"HbA1c\"])\n",
    "grid.plot_joint(plt.scatter)\n",
    "plt.plot([80,175],[5.2236,7.496], linewidth=2, color = \"r\");"
   ]
  },
  {
   "cell_type": "markdown",
   "id": "6955d555-1426-42f7-9848-dacfe797c867",
   "metadata": {},
   "source": [
    "## Differences between HbA1c and GMI"
   ]
  },
  {
   "cell_type": "code",
   "execution_count": 21,
   "id": "d7487c69-36ef-4cdc-8183-567ee7ffe51f",
   "metadata": {},
   "outputs": [
    {
     "data": {
      "image/png": "[encoded data removed]",
      "text/plain": [
       "<Figure size 432x288 with 1 Axes>"
      ]
     },
     "metadata": {
      "needs_background": "light"
     },
     "output_type": "display_data"
    }
   ],
   "source": [
    "sns.histplot(data=nondiab, x=\"Diff\")\n",
    "plt.xlabel(\"HbA1c - GMI\");"
   ]
  },
  {
   "cell_type": "code",
   "execution_count": 22,
   "id": "649a4476",
   "metadata": {},
   "outputs": [
    {
     "data": {
      "text/plain": [
       "<Figure size 432x288 with 0 Axes>"
      ]
     },
     "metadata": {},
     "output_type": "display_data"
    }
   ],
   "source": [
    "plt.savefig(wd + \"Reports/figure_under_5.7.png\")"
   ]
  },
  {
   "cell_type": "code",
   "execution_count": 5,
   "id": "dd58d508-39e8-4e94-b57f-818c9824a469",
   "metadata": {},
   "outputs": [
    {
     "data": {
      "text/plain": [
       "-0.5204280839779007"
      ]
     },
     "execution_count": 5,
     "metadata": {},
     "output_type": "execute_result"
    }
   ],
   "source": [
    "t = ttest_1samp(nondiab[\"Diff\"],popmean = 0)\n",
    "t.pvalue\n",
    "nondiab[\"Diff\"].mean()"
   ]
  },
  {
   "cell_type": "markdown",
   "id": "0b7a12b4-3663-4af9-b972-9e00b456f305",
   "metadata": {},
   "source": [
    "The differences between HbA1c and GMI were largely negative, suggesting that the standard GMI equation overestimates HbA1c in this cohort. On average, GMI was 0.52% higher, and this was significantly different from 0 (p < 0.0001)."
   ]
  },
  {
   "cell_type": "markdown",
   "id": "0ffac0ec-d94d-4f7c-9d03-646b4c176e01",
   "metadata": {},
   "source": [
    "## Regression Results"
   ]
  },
  {
   "cell_type": "code",
   "execution_count": 6,
   "id": "b007a934-b979-47ce-8c6a-15ec9360a8c6",
   "metadata": {},
   "outputs": [],
   "source": [
    "outcome,predictors = dmatrices(\"HbA1c ~ MBG\",data = nondiab)\n",
    "reg = OLS(outcome,predictors).fit()"
   ]
  },
  {
   "cell_type": "code",
   "execution_count": 7,
   "id": "4c3c6036-1ffb-4bf9-b370-96ecf562ea53",
   "metadata": {},
   "outputs": [
    {
     "data": {
      "text/html": [
       "<table class=\"simpletable\">\n",
       "<caption>OLS Regression Results</caption>\n",
       "<tr>\n",
       "  <th>Dep. Variable:</th>          <td>HbA1c</td>      <th>  R-squared:         </th> <td>   0.087</td>\n",
       "</tr>\n",
       "<tr>\n",
       "  <th>Model:</th>                   <td>OLS</td>       <th>  Adj. R-squared:    </th> <td>   0.082</td>\n",
       "</tr>\n",
       "<tr>\n",
       "  <th>Method:</th>             <td>Least Squares</td>  <th>  F-statistic:       </th> <td>   17.07</td>\n",
       "</tr>\n",
       "<tr>\n",
       "  <th>Date:</th>             <td>Tue, 04 Jan 2022</td> <th>  Prob (F-statistic):</th> <td>5.51e-05</td>\n",
       "</tr>\n",
       "<tr>\n",
       "  <th>Time:</th>                 <td>10:43:39</td>     <th>  Log-Likelihood:    </th> <td>0.031050</td>\n",
       "</tr>\n",
       "<tr>\n",
       "  <th>No. Observations:</th>      <td>   181</td>      <th>  AIC:               </th> <td>   3.938</td>\n",
       "</tr>\n",
       "<tr>\n",
       "  <th>Df Residuals:</th>          <td>   179</td>      <th>  BIC:               </th> <td>   10.33</td>\n",
       "</tr>\n",
       "<tr>\n",
       "  <th>Df Model:</th>              <td>     1</td>      <th>                     </th>     <td> </td>   \n",
       "</tr>\n",
       "<tr>\n",
       "  <th>Covariance Type:</th>      <td>nonrobust</td>    <th>                     </th>     <td> </td>   \n",
       "</tr>\n",
       "</table>\n",
       "<table class=\"simpletable\">\n",
       "<tr>\n",
       "      <td></td>         <th>coef</th>     <th>std err</th>      <th>t</th>      <th>P>|t|</th>  <th>[0.025</th>    <th>0.975]</th>  \n",
       "</tr>\n",
       "<tr>\n",
       "  <th>Intercept</th> <td>    4.5258</td> <td>    0.172</td> <td>   26.272</td> <td> 0.000</td> <td>    4.186</td> <td>    4.866</td>\n",
       "</tr>\n",
       "<tr>\n",
       "  <th>MBG</th>       <td>    0.0069</td> <td>    0.002</td> <td>    4.132</td> <td> 0.000</td> <td>    0.004</td> <td>    0.010</td>\n",
       "</tr>\n",
       "</table>\n",
       "<table class=\"simpletable\">\n",
       "<tr>\n",
       "  <th>Omnibus:</th>       <td>11.445</td> <th>  Durbin-Watson:     </th> <td>   1.571</td>\n",
       "</tr>\n",
       "<tr>\n",
       "  <th>Prob(Omnibus):</th> <td> 0.003</td> <th>  Jarque-Bera (JB):  </th> <td>  12.285</td>\n",
       "</tr>\n",
       "<tr>\n",
       "  <th>Skew:</th>          <td>-0.638</td> <th>  Prob(JB):          </th> <td> 0.00215</td>\n",
       "</tr>\n",
       "<tr>\n",
       "  <th>Kurtosis:</th>      <td> 3.016</td> <th>  Cond. No.          </th> <td>    979.</td>\n",
       "</tr>\n",
       "</table><br/><br/>Notes:<br/>[1] Standard Errors assume that the covariance matrix of the errors is correctly specified."
      ],
      "text/plain": [
       "<class 'statsmodels.iolib.summary.Summary'>\n",
       "\"\"\"\n",
       "                            OLS Regression Results                            \n",
       "==============================================================================\n",
       "Dep. Variable:                  HbA1c   R-squared:                       0.087\n",
       "Model:                            OLS   Adj. R-squared:                  0.082\n",
       "Method:                 Least Squares   F-statistic:                     17.07\n",
       "Date:                Tue, 04 Jan 2022   Prob (F-statistic):           5.51e-05\n",
       "Time:                        10:43:39   Log-Likelihood:               0.031050\n",
       "No. Observations:                 181   AIC:                             3.938\n",
       "Df Residuals:                     179   BIC:                             10.33\n",
       "Df Model:                           1                                         \n",
       "Covariance Type:            nonrobust                                         \n",
       "==============================================================================\n",
       "                 coef    std err          t      P>|t|      [0.025      0.975]\n",
       "------------------------------------------------------------------------------\n",
       "Intercept      4.5258      0.172     26.272      0.000       4.186       4.866\n",
       "MBG            0.0069      0.002      4.132      0.000       0.004       0.010\n",
       "==============================================================================\n",
       "Omnibus:                       11.445   Durbin-Watson:                   1.571\n",
       "Prob(Omnibus):                  0.003   Jarque-Bera (JB):               12.285\n",
       "Skew:                          -0.638   Prob(JB):                      0.00215\n",
       "Kurtosis:                       3.016   Cond. No.                         979.\n",
       "==============================================================================\n",
       "\n",
       "Notes:\n",
       "[1] Standard Errors assume that the covariance matrix of the errors is correctly specified.\n",
       "\"\"\""
      ]
     },
     "execution_count": 7,
     "metadata": {},
     "output_type": "execute_result"
    }
   ],
   "source": [
    "reg.summary()"
   ]
  },
  {
   "cell_type": "markdown",
   "id": "70a3648d-3071-4c67-b951-e4e4f341fd71",
   "metadata": {},
   "source": [
    "Based on this dataset, the regression equation for GMI would be:\n",
    "\n",
    "GMI = 3.4551 + 0.0180 * MBG"
   ]
  },
  {
   "cell_type": "code",
   "execution_count": 8,
   "id": "9cb7fd0f-cb31-4b41-8448-1ce03b8b7818",
   "metadata": {},
   "outputs": [
    {
     "data": {
      "image/png": "[encoded data removed]",
      "text/plain": [
       "<Figure size 360x360 with 1 Axes>"
      ]
     },
     "metadata": {
      "needs_background": "light"
     },
     "output_type": "display_data"
    }
   ],
   "source": [
    "sns.lmplot(x=\"MBG\",y=\"HbA1c\",data=nondiab,ci=None);"
   ]
  },
  {
   "cell_type": "markdown",
   "id": "072fe7d3-0995-4a25-8add-97bd1211100c",
   "metadata": {},
   "source": [
    "# HbA1c 5.7 - 6.5\n",
    "## Mean Glucose and HbA1c\n",
    "Red line indicates GMI regression line."
   ]
  },
  {
   "cell_type": "code",
   "execution_count": 9,
   "id": "b908e2a5-cc9d-454b-a78a-bf2d0ca6fb17",
   "metadata": {},
   "outputs": [
    {
     "data": {
      "image/png": "[encoded data removed]",
      "text/plain": [
       "<Figure size 432x432 with 3 Axes>"
      ]
     },
     "metadata": {
      "needs_background": "light"
     },
     "output_type": "display_data"
    }
   ],
   "source": [
    "grid = sns.JointGrid(x=prediab[\"MBG\"],y=prediab[\"HbA1c\"])\n",
    "grid.plot_joint(plt.scatter)\n",
    "plt.plot([80,175],[5.2236,7.496], linewidth=2, color = \"r\");"
   ]
  },
  {
   "cell_type": "markdown",
   "id": "8a327899-08db-42aa-ba04-426d092cc11e",
   "metadata": {},
   "source": [
    "## Differences between HbA1c and GMI"
   ]
  },
  {
   "cell_type": "code",
   "execution_count": 10,
   "id": "6b4ded72-1bd4-40fd-b4e2-9016c8edd596",
   "metadata": {},
   "outputs": [
    {
     "data": {
      "image/png": "[encoded data removed]",
      "text/plain": [
       "<Figure size 432x288 with 1 Axes>"
      ]
     },
     "metadata": {
      "needs_background": "light"
     },
     "output_type": "display_data"
    }
   ],
   "source": [
    "sns.histplot(data=prediab, x=\"Diff\")\n",
    "plt.xlabel(\"HbA1c - GMI\");"
   ]
  },
  {
   "cell_type": "code",
   "execution_count": null,
   "id": "fd8792e4",
   "metadata": {},
   "outputs": [],
   "source": [
    "plt.savefig(wd + \"figure.png\")"
   ]
  },
  {
   "cell_type": "code",
   "execution_count": 16,
   "id": "5dfce50f-5862-436b-9280-713390c89c16",
   "metadata": {},
   "outputs": [
    {
     "data": {
      "text/plain": [
       "-0.49032615384615386"
      ]
     },
     "execution_count": 16,
     "metadata": {},
     "output_type": "execute_result"
    }
   ],
   "source": [
    "t = ttest_1samp(prediab[\"Diff\"],popmean = 0)\n",
    "t.pvalue\n",
    "prediab[\"Diff\"].mean()"
   ]
  },
  {
   "cell_type": "markdown",
   "id": "ed9f289f-9332-4bb8-8e01-2c6ec50a3adc",
   "metadata": {},
   "source": [
    "The differences between HbA1c and GMI were largely negative, suggesting that the standard GMI equation overestimates HbA1c in this cohort. On average, GMI was 0.5% higher, and this was significantly different from 0 (p < 0.0001)."
   ]
  },
  {
   "cell_type": "markdown",
   "id": "e96f7586-906b-4f13-be81-3e951ba5dee4",
   "metadata": {},
   "source": [
    "## Regression Results"
   ]
  },
  {
   "cell_type": "code",
   "execution_count": 12,
   "id": "890317c7-1a19-4ee6-a904-44104544382c",
   "metadata": {},
   "outputs": [
    {
     "data": {
      "text/html": [
       "<table class=\"simpletable\">\n",
       "<caption>OLS Regression Results</caption>\n",
       "<tr>\n",
       "  <th>Dep. Variable:</th>          <td>HbA1c</td>      <th>  R-squared:         </th> <td>   0.210</td>\n",
       "</tr>\n",
       "<tr>\n",
       "  <th>Model:</th>                   <td>OLS</td>       <th>  Adj. R-squared:    </th> <td>   0.198</td>\n",
       "</tr>\n",
       "<tr>\n",
       "  <th>Method:</th>             <td>Least Squares</td>  <th>  F-statistic:       </th> <td>   16.77</td>\n",
       "</tr>\n",
       "<tr>\n",
       "  <th>Date:</th>             <td>Tue, 04 Jan 2022</td> <th>  Prob (F-statistic):</th> <td>0.000122</td>\n",
       "</tr>\n",
       "<tr>\n",
       "  <th>Time:</th>                 <td>10:43:39</td>     <th>  Log-Likelihood:    </th> <td>  14.701</td>\n",
       "</tr>\n",
       "<tr>\n",
       "  <th>No. Observations:</th>      <td>    65</td>      <th>  AIC:               </th> <td>  -25.40</td>\n",
       "</tr>\n",
       "<tr>\n",
       "  <th>Df Residuals:</th>          <td>    63</td>      <th>  BIC:               </th> <td>  -21.05</td>\n",
       "</tr>\n",
       "<tr>\n",
       "  <th>Df Model:</th>              <td>     1</td>      <th>                     </th>     <td> </td>   \n",
       "</tr>\n",
       "<tr>\n",
       "  <th>Covariance Type:</th>      <td>nonrobust</td>    <th>                     </th>     <td> </td>   \n",
       "</tr>\n",
       "</table>\n",
       "<table class=\"simpletable\">\n",
       "<tr>\n",
       "      <td></td>         <th>coef</th>     <th>std err</th>      <th>t</th>      <th>P>|t|</th>  <th>[0.025</th>    <th>0.975]</th>  \n",
       "</tr>\n",
       "<tr>\n",
       "  <th>Intercept</th> <td>    5.2418</td> <td>    0.217</td> <td>   24.121</td> <td> 0.000</td> <td>    4.808</td> <td>    5.676</td>\n",
       "</tr>\n",
       "<tr>\n",
       "  <th>MBG</th>       <td>    0.0064</td> <td>    0.002</td> <td>    4.095</td> <td> 0.000</td> <td>    0.003</td> <td>    0.010</td>\n",
       "</tr>\n",
       "</table>\n",
       "<table class=\"simpletable\">\n",
       "<tr>\n",
       "  <th>Omnibus:</th>       <td> 9.484</td> <th>  Durbin-Watson:     </th> <td>   1.645</td>\n",
       "</tr>\n",
       "<tr>\n",
       "  <th>Prob(Omnibus):</th> <td> 0.009</td> <th>  Jarque-Bera (JB):  </th> <td>   2.990</td>\n",
       "</tr>\n",
       "<tr>\n",
       "  <th>Skew:</th>          <td> 0.021</td> <th>  Prob(JB):          </th> <td>   0.224</td>\n",
       "</tr>\n",
       "<tr>\n",
       "  <th>Kurtosis:</th>      <td> 1.950</td> <th>  Cond. No.          </th> <td>1.24e+03</td>\n",
       "</tr>\n",
       "</table><br/><br/>Notes:<br/>[1] Standard Errors assume that the covariance matrix of the errors is correctly specified.<br/>[2] The condition number is large, 1.24e+03. This might indicate that there are<br/>strong multicollinearity or other numerical problems."
      ],
      "text/plain": [
       "<class 'statsmodels.iolib.summary.Summary'>\n",
       "\"\"\"\n",
       "                            OLS Regression Results                            \n",
       "==============================================================================\n",
       "Dep. Variable:                  HbA1c   R-squared:                       0.210\n",
       "Model:                            OLS   Adj. R-squared:                  0.198\n",
       "Method:                 Least Squares   F-statistic:                     16.77\n",
       "Date:                Tue, 04 Jan 2022   Prob (F-statistic):           0.000122\n",
       "Time:                        10:43:39   Log-Likelihood:                 14.701\n",
       "No. Observations:                  65   AIC:                            -25.40\n",
       "Df Residuals:                      63   BIC:                            -21.05\n",
       "Df Model:                           1                                         \n",
       "Covariance Type:            nonrobust                                         \n",
       "==============================================================================\n",
       "                 coef    std err          t      P>|t|      [0.025      0.975]\n",
       "------------------------------------------------------------------------------\n",
       "Intercept      5.2418      0.217     24.121      0.000       4.808       5.676\n",
       "MBG            0.0064      0.002      4.095      0.000       0.003       0.010\n",
       "==============================================================================\n",
       "Omnibus:                        9.484   Durbin-Watson:                   1.645\n",
       "Prob(Omnibus):                  0.009   Jarque-Bera (JB):                2.990\n",
       "Skew:                           0.021   Prob(JB):                        0.224\n",
       "Kurtosis:                       1.950   Cond. No.                     1.24e+03\n",
       "==============================================================================\n",
       "\n",
       "Notes:\n",
       "[1] Standard Errors assume that the covariance matrix of the errors is correctly specified.\n",
       "[2] The condition number is large, 1.24e+03. This might indicate that there are\n",
       "strong multicollinearity or other numerical problems.\n",
       "\"\"\""
      ]
     },
     "execution_count": 12,
     "metadata": {},
     "output_type": "execute_result"
    }
   ],
   "source": [
    "outcome,predictors = dmatrices(\"HbA1c ~ MBG\",data = prediab)\n",
    "reg = OLS(outcome,predictors).fit()\n",
    "reg.summary()"
   ]
  },
  {
   "cell_type": "code",
   "execution_count": 13,
   "id": "3b1d29de-ec5c-4cc8-9220-25d7002902ac",
   "metadata": {},
   "outputs": [
    {
     "data": {
      "image/png": "[encoded data removed]",
      "text/plain": [
       "<Figure size 360x360 with 1 Axes>"
      ]
     },
     "metadata": {
      "needs_background": "light"
     },
     "output_type": "display_data"
    }
   ],
   "source": [
    "sns.lmplot(x=\"MBG\",y=\"HbA1c\",data=prediab,ci=None);"
   ]
  }
 ],
 "metadata": {
  "interpreter": {
   "hash": "b0fa6594d8f4cbf19f97940f81e996739fb7646882a419484c72d19e05852a7e"
  },
  "kernelspec": {
   "display_name": "shah_ada2022",
   "language": "python",
   "name": "python3"
  },
  "language_info": {
   "codemirror_mode": {
    "name": "ipython",
    "version": 3
   },
   "file_extension": ".py",
   "mimetype": "text/x-python",
   "name": "python",
   "nbconvert_exporter": "python",
   "pygments_lexer": "ipython3",
   "version": "3.10.1"
  }
 },
 "nbformat": 4,
 "nbformat_minor": 5
}
