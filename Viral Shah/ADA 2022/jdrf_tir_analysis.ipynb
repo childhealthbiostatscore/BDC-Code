{
 "cells": [
  {
   "cell_type": "code",
   "execution_count": 10,
   "id": "4042cd4d-d353-4c54-8277-a673f9c111de",
   "metadata": {},
   "outputs": [],
   "source": [
    "import os\n",
    "import glob\n",
    "import parsedatetime\n",
    "import pandas as pd\n",
    "import numpy as np\n",
    "from datetime import datetime\n",
    "from statistics import mode\n",
    "wd = \"/Users/timvigers/Documents/Work/Viral Shah/JDRF TIR/\"\n",
    "cal = parsedatetime.Calendar()"
   ]
  },
  {
   "cell_type": "code",
   "execution_count": 2,
   "id": "5f098707-209e-425e-8216-42bd46a38748",
   "metadata": {},
   "outputs": [],
   "source": [
    "# Results dict for storing data\n",
    "results = {\"id\":[],\"visit\":[],\"tir\":[],\"a1c\":[]}\n",
    "# Calculate CGM values, etc. for each person\n",
    "folders = os.listdir(wd + \"Data_Raw/3. Data Collection/Cleaned Final Data/Cases_T1D+DR\")\n",
    "folders = [f for f in folders if \"DS_Store\" not in f]\n",
    "for fol in folders:\n",
    "    # Get ID\n",
    "    subject_id = [int(i) for i in fol.split() if i.isdigit()][0]\n",
    "    # Find summary and CSV files\n",
    "    files = os.listdir(wd + \"Cases_T1D+DR/\" + fol)\n",
    "    csvs = [f for f in files if \".csv\" in f]\n",
    "    summary = [f for f in files if \"summary\" in f.lower()][0]\n",
    "    summary = pd.read_excel(wd + \"Cases_T1D+DR/\" + fol + \"/\" + summary)\n",
    "    # Combine all CSV files\n",
    "    all_data = []\n",
    "    for c in csvs:\n",
    "        vis = c.split(\"_\")[0]\n",
    "        vis = [int(i) for i in vis if i.isdigit()][0]\n",
    "        cgm = pd.read_csv(wd + \"Cases_T1D+DR/\" + fol + \"/\" + c,low_memory = False)\n",
    "        # Get timestamp and glucose columns, format\n",
    "        if \"Timestamp (YYYY-MM-DDThh:mm:ss)\" in cgm.columns:\n",
    "            cgm = cgm[[\"Timestamp (YYYY-MM-DDThh:mm:ss)\",\"Glucose Value (mg/dL)\"]]\n",
    "        elif cgm.shape[1] == 19:\n",
    "            start = cgm.loc[cgm.iloc[:,2] == \"Device Timestamp\"].index[0]\n",
    "            cgm.columns = cgm.iloc[start,:]\n",
    "            cgm = cgm.iloc[start+1:,:]\n",
    "            cgm = cgm[[\"Device Timestamp\",\"Historic Glucose mg/dL\"]]\n",
    "        elif cgm.shape[1] > 40:\n",
    "            start = cgm.loc[cgm['Unnamed: 2'] == \"Sensor\"].index[0]\n",
    "            cgm.columns = cgm.iloc[start+1,:]\n",
    "            cgm = cgm.iloc[start+2:,:]\n",
    "            cgm.reset_index(inplace = True)\n",
    "            cgm[\"timestamp\"] = cgm[\"Date\"] + \" \" + cgm[\"Time\"]\n",
    "            cgm = cgm[[\"timestamp\",\"Sensor Glucose (mg/dL)\"]]\n",
    "        cgm.columns = [\"timestamp\",\"glucose\"]\n",
    "        cgm.dropna(inplace = True)\n",
    "        # Glucose to numeric replace \"high\" and \"low\" with limits of detection\n",
    "        cgm[\"glucose\"].replace(\"High\",400,inplace = True)\n",
    "        cgm[\"glucose\"].replace(\"Low\",40,inplace = True)\n",
    "        cgm[\"glucose\"] = pd.to_numeric(cgm[\"glucose\"],errors='coerce')\n",
    "        cgm[\"timestamp\"] = [t.replace(\"T\", \" \") for t in cgm[\"timestamp\"]]\n",
    "        cgm[\"timestamp\"] = [cal.parse(t)[0] for t in cgm[\"timestamp\"]]\n",
    "        cgm[\"timestamp\"] = [datetime(*t[:6]) for t in cgm[\"timestamp\"]]\n",
    "        cgm.dropna(inplace = True)\n",
    "        # Find sampling interval\n",
    "        s = abs(mode(cgm[\"timestamp\"].diff()).total_seconds())\n",
    "        # Re-index and expand to every 5 minutes\n",
    "        cgm.set_index(\"timestamp\",inplace = True)\n",
    "        cgm = cgm[~cgm.index.duplicated(keep='first')]\n",
    "        cgm = cgm.resample(str(s / 60) + \"T\").ffill()\n",
    "        # Calculate/pull variables\n",
    "        total_r = cgm[\"glucose\"].notna().sum()\n",
    "        tir = [g for g in cgm[\"glucose\"] if g >= 70 and g <= 180]\n",
    "        results[\"tir\"].append(round(len(tir) / total_r * 100,2))\n",
    "        a1c = float(summary.loc[summary.iloc[:,1] == vis][\"A1c\"])\n",
    "        results[\"a1c\"].append(a1c)\n",
    "        # ID etc.\n",
    "        results[\"id\"].append(subject_id)\n",
    "        results[\"visit\"].append(vis)\n",
    "results = pd.DataFrame(results)\n",
    "results.sort_values(by = [\"id\",\"visit\"],inplace = True)\n",
    "results.to_csv(wd + \"Data_Clean/analysis_data.csv\",index = False)"
   ]
  },
  {
   "cell_type": "code",
   "execution_count": 3,
   "id": "7d76aad5-b04d-44fc-8b14-37cc2395b930",
   "metadata": {},
   "outputs": [
    {
     "data": {
      "text/plain": [
       "'/Users/timvigers/Documents/Work/Viral Shah/JDRF TIR/3. Data Collection/Cleaned Final Data/Cases_T1D+DR/Case 032/Visit 1_11-10-2019 to 02-07-2020.csv'"
      ]
     },
     "execution_count": 3,
     "metadata": {},
     "output_type": "execute_result"
    }
   ],
   "source": [
    "wd + \"Cases_T1D+DR/\" + fol + \"/\" + c"
   ]
  },
  {
   "cell_type": "code",
   "execution_count": 6,
   "id": "142630cb-9588-48aa-8cdc-1d59ddc140d2",
   "metadata": {},
   "outputs": [],
   "source": [
    "results = pd.DataFrame(results)"
   ]
  },
  {
   "cell_type": "code",
   "execution_count": 16,
   "id": "a7dbef7f-e9f2-4ad7-936c-e3e8e54cb5bf",
   "metadata": {},
   "outputs": [],
   "source": [
    "results.sort_values(by = [\"id\",\"visit\"],inplace = True)\n",
    "results.to_csv(wd + \"Data_Clean/analysis_data.csv\",index = False)"
   ]
  },
  {
   "cell_type": "code",
   "execution_count": 14,
   "id": "23416708-4cac-462e-8f2c-0299131107dc",
   "metadata": {},
   "outputs": [
    {
     "ename": "AttributeError",
     "evalue": "'DataFrame' object has no attribute 'sort'",
     "output_type": "error",
     "traceback": [
      "\u001b[0;31m---------------------------------------------------------------------------\u001b[0m",
      "\u001b[0;31mAttributeError\u001b[0m                            Traceback (most recent call last)",
      "\u001b[0;32m/var/folders/s7/q_bh1znj667bc46nkrl71lqw0000gn/T/ipykernel_5726/4013606493.py\u001b[0m in \u001b[0;36m<module>\u001b[0;34m\u001b[0m\n\u001b[0;32m----> 1\u001b[0;31m \u001b[0mhelp\u001b[0m\u001b[0;34m(\u001b[0m\u001b[0mresults\u001b[0m\u001b[0;34m.\u001b[0m\u001b[0msort\u001b[0m\u001b[0;34m)\u001b[0m\u001b[0;34m\u001b[0m\u001b[0;34m\u001b[0m\u001b[0m\n\u001b[0m",
      "\u001b[0;32m~/venvs/work/shah/ada2022/lib/python3.10/site-packages/pandas/core/generic.py\u001b[0m in \u001b[0;36m__getattr__\u001b[0;34m(self, name)\u001b[0m\n\u001b[1;32m   5485\u001b[0m         ):\n\u001b[1;32m   5486\u001b[0m             \u001b[0;32mreturn\u001b[0m \u001b[0mself\u001b[0m\u001b[0;34m[\u001b[0m\u001b[0mname\u001b[0m\u001b[0;34m]\u001b[0m\u001b[0;34m\u001b[0m\u001b[0;34m\u001b[0m\u001b[0m\n\u001b[0;32m-> 5487\u001b[0;31m         \u001b[0;32mreturn\u001b[0m \u001b[0mobject\u001b[0m\u001b[0;34m.\u001b[0m\u001b[0m__getattribute__\u001b[0m\u001b[0;34m(\u001b[0m\u001b[0mself\u001b[0m\u001b[0;34m,\u001b[0m \u001b[0mname\u001b[0m\u001b[0;34m)\u001b[0m\u001b[0;34m\u001b[0m\u001b[0;34m\u001b[0m\u001b[0m\n\u001b[0m\u001b[1;32m   5488\u001b[0m \u001b[0;34m\u001b[0m\u001b[0m\n\u001b[1;32m   5489\u001b[0m     \u001b[0;32mdef\u001b[0m \u001b[0m__setattr__\u001b[0m\u001b[0;34m(\u001b[0m\u001b[0mself\u001b[0m\u001b[0;34m,\u001b[0m \u001b[0mname\u001b[0m\u001b[0;34m:\u001b[0m \u001b[0mstr\u001b[0m\u001b[0;34m,\u001b[0m \u001b[0mvalue\u001b[0m\u001b[0;34m)\u001b[0m \u001b[0;34m->\u001b[0m \u001b[0;32mNone\u001b[0m\u001b[0;34m:\u001b[0m\u001b[0;34m\u001b[0m\u001b[0;34m\u001b[0m\u001b[0m\n",
      "\u001b[0;31mAttributeError\u001b[0m: 'DataFrame' object has no attribute 'sort'"
     ]
    }
   ],
   "source": [
    "help(results.sort)"
   ]
  },
  {
   "cell_type": "code",
   "execution_count": 15,
   "id": "e4bcccb6-dbdf-4901-8d95-25a55d12226d",
   "metadata": {},
   "outputs": [
    {
     "data": {
      "text/html": [
       "<div>\n",
       "<style scoped>\n",
       "    .dataframe tbody tr th:only-of-type {\n",
       "        vertical-align: middle;\n",
       "    }\n",
       "\n",
       "    .dataframe tbody tr th {\n",
       "        vertical-align: top;\n",
       "    }\n",
       "\n",
       "    .dataframe thead th {\n",
       "        text-align: right;\n",
       "    }\n",
       "</style>\n",
       "<table border=\"1\" class=\"dataframe\">\n",
       "  <thead>\n",
       "    <tr style=\"text-align: right;\">\n",
       "      <th></th>\n",
       "      <th>id</th>\n",
       "      <th>visit</th>\n",
       "      <th>tir</th>\n",
       "      <th>a1c</th>\n",
       "    </tr>\n",
       "  </thead>\n",
       "  <tbody>\n",
       "    <tr>\n",
       "      <th>90</th>\n",
       "      <td>6</td>\n",
       "      <td>1</td>\n",
       "      <td>43.70</td>\n",
       "      <td>8.6</td>\n",
       "    </tr>\n",
       "    <tr>\n",
       "      <th>88</th>\n",
       "      <td>6</td>\n",
       "      <td>2</td>\n",
       "      <td>33.28</td>\n",
       "      <td>8.8</td>\n",
       "    </tr>\n",
       "    <tr>\n",
       "      <th>89</th>\n",
       "      <td>6</td>\n",
       "      <td>3</td>\n",
       "      <td>46.85</td>\n",
       "      <td>8.8</td>\n",
       "    </tr>\n",
       "    <tr>\n",
       "      <th>169</th>\n",
       "      <td>7</td>\n",
       "      <td>2</td>\n",
       "      <td>66.82</td>\n",
       "      <td>6.4</td>\n",
       "    </tr>\n",
       "    <tr>\n",
       "      <th>110</th>\n",
       "      <td>8</td>\n",
       "      <td>3</td>\n",
       "      <td>5.21</td>\n",
       "      <td>9.4</td>\n",
       "    </tr>\n",
       "    <tr>\n",
       "      <th>...</th>\n",
       "      <td>...</td>\n",
       "      <td>...</td>\n",
       "      <td>...</td>\n",
       "      <td>...</td>\n",
       "    </tr>\n",
       "    <tr>\n",
       "      <th>249</th>\n",
       "      <td>86</td>\n",
       "      <td>1</td>\n",
       "      <td>67.92</td>\n",
       "      <td>7.0</td>\n",
       "    </tr>\n",
       "    <tr>\n",
       "      <th>251</th>\n",
       "      <td>86</td>\n",
       "      <td>2</td>\n",
       "      <td>67.63</td>\n",
       "      <td>7.2</td>\n",
       "    </tr>\n",
       "    <tr>\n",
       "      <th>252</th>\n",
       "      <td>86</td>\n",
       "      <td>3</td>\n",
       "      <td>72.18</td>\n",
       "      <td>7.3</td>\n",
       "    </tr>\n",
       "    <tr>\n",
       "      <th>248</th>\n",
       "      <td>86</td>\n",
       "      <td>8</td>\n",
       "      <td>40.81</td>\n",
       "      <td>9.1</td>\n",
       "    </tr>\n",
       "    <tr>\n",
       "      <th>250</th>\n",
       "      <td>86</td>\n",
       "      <td>9</td>\n",
       "      <td>40.81</td>\n",
       "      <td>9.3</td>\n",
       "    </tr>\n",
       "  </tbody>\n",
       "</table>\n",
       "<p>395 rows × 4 columns</p>\n",
       "</div>"
      ],
      "text/plain": [
       "     id  visit    tir  a1c\n",
       "90    6      1  43.70  8.6\n",
       "88    6      2  33.28  8.8\n",
       "89    6      3  46.85  8.8\n",
       "169   7      2  66.82  6.4\n",
       "110   8      3   5.21  9.4\n",
       "..   ..    ...    ...  ...\n",
       "249  86      1  67.92  7.0\n",
       "251  86      2  67.63  7.2\n",
       "252  86      3  72.18  7.3\n",
       "248  86      8  40.81  9.1\n",
       "250  86      9  40.81  9.3\n",
       "\n",
       "[395 rows x 4 columns]"
      ]
     },
     "execution_count": 15,
     "metadata": {},
     "output_type": "execute_result"
    }
   ],
   "source": []
  },
  {
   "cell_type": "code",
   "execution_count": null,
   "id": "ec9e5f59-5a6a-4cd6-bb3c-9067ccb602b6",
   "metadata": {},
   "outputs": [],
   "source": []
  }
 ],
 "metadata": {
  "kernelspec": {
   "display_name": "shah_ada2022",
   "language": "python",
   "name": "shah_ada2022"
  },
  "language_info": {
   "codemirror_mode": {
    "name": "ipython",
    "version": 3
   },
   "file_extension": ".py",
   "mimetype": "text/x-python",
   "name": "python",
   "nbconvert_exporter": "python",
   "pygments_lexer": "ipython3",
   "version": "3.10.0"
  }
 },
 "nbformat": 4,
 "nbformat_minor": 5
}
