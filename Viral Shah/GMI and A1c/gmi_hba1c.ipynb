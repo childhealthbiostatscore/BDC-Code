{
 "cells": [
  {
   "cell_type": "raw",
   "metadata": {},
   "source": [
    "---\n",
    "title: \"Mean Glucose and A1C\"\n",
    "format: \n",
    "  html:\n",
    "    code-fold: true\n",
    "    toc: true\n",
    "    self-contained: true\n",
    "jupyter: python3\n",
    "---"
   ]
  },
  {
   "cell_type": "code",
   "execution_count": null,
   "metadata": {},
   "outputs": [],
   "source": [
    "#| echo: false\n",
    "# Packages and working directories\n",
    "import pandas as pd\n",
    "import numpy as np\n",
    "import plotly.express as px\n",
    "import plotly.io as pio\n",
    "import plotly.graph_objects as go\n",
    "import matplotlib.pyplot as plt\n",
    "from pygam import LinearGAM, s, f\n",
    "wd = '/Volumes/PEDS/RI Biostatistics Core/Shared/Shared Projects/Laura/BDC/Projects/Viral Shah/GMI and A1c/'"
   ]
  },
  {
   "cell_type": "markdown",
   "metadata": {},
   "source": [
    "# Data Cleaning"
   ]
  },
  {
   "cell_type": "code",
   "execution_count": null,
   "metadata": {},
   "outputs": [],
   "source": [
    "# Import Kaan's data (use clean_cgms.py to generate mean glucose file)\n",
    "# Had to manually edit some names in glucose file to match demographics\n",
    "kaan = pd.read_csv(wd + 'Data_Clean/kaan_mean_glucose.csv',usecols=['ID','HbA1c','14 Overall Mean'])\n",
    "kaan.columns = ['ID','HbA1c','Mean Glucose']\n",
    "kaan['Study'] = 'KAAN'\n",
    "# CGMND\n",
    "cgmnd_a1c = pd.read_csv(wd+'Data_Raw/CGMND-af920dee-2d6e-4436-bc89-7a7b51239837/NonDiabSampleResults.csv')\n",
    "cgmnd_a1c = cgmnd_a1c[cgmnd_a1c['Analyte'] == \"HBA1C\"]\n",
    "cgmnd_a1c = cgmnd_a1c[['PtID','Value']]\n",
    "cgmnd_a1c.columns = ['ID','HbA1c']\n",
    "# Calculate mean glucose for each person in CGMND\n",
    "cgmnd_cgm = pd.read_csv(wd+'Data_Raw/CGMND-af920dee-2d6e-4436-bc89-7a7b51239837/NonDiabDeviceCGM.csv')\n",
    "ids = cgmnd_cgm['PtID'].unique()\n",
    "msgs = {'ID':[],'Mean Glucose':[]}\n",
    "for i in ids:\n",
    "    d = cgmnd_cgm[(cgmnd_cgm['PtID'] == i) & (cgmnd_cgm['RecordType'] == \"CGM\")]\n",
    "    msgs['ID'].append(i)\n",
    "    msgs['Mean Glucose'].append(d['Value'].mean())\n",
    "cgmnd_cgm = pd.DataFrame(msgs)\n",
    "# Merge\n",
    "cgmnd = pd.merge(cgmnd_a1c,cgmnd_cgm,on='ID')\n",
    "cgmnd['Study'] = 'CGMND'\n",
    "# FLAIR\n",
    "flair = pd.read_csv(wd+'Data_Raw/gmiDataFlair 042222 .csv',usecols=['DeidentID','a1cLab','gluMean'])\n",
    "flair.columns = ['ID','HbA1c','Mean Glucose']\n",
    "flair['Study'] = 'FLAIR'\n",
    "# MOBILE\n",
    "mobile = pd.read_csv(wd+'Data_Raw/gmiDataMobile 031722 .csv',usecols=['DeidentID','a1cLab','gluMean'])\n",
    "mobile.columns = ['ID','HbA1c','Mean Glucose']\n",
    "mobile['Study'] = 'MOBILE'\n",
    "# DIAMOND, etc\n",
    "diamond = pd.read_csv(wd+'Data_Raw/gmiData 020222 .csv',usecols=['DeidentID','a1cLab','gluMean'])\n",
    "diamond.columns = ['ID','HbA1c','Mean Glucose']\n",
    "diamond['Study'] = 'DIAMOND'\n",
    "# CITY\n",
    "city = pd.read_csv(wd+'Data_Raw/CITYPublicDataset-344bea7d-8085-4deb-8038-6cb747a744e3/Data Tables/gluIndices Ext.txt',sep='|')\n",
    "city = city[city['time'] == '1) Overall']\n",
    "city['Visit'] = [v.lower() for v in city['Visit']]\n",
    "city_a1c = pd.read_csv(wd+'Data_Raw/CITYPublicDataset-344bea7d-8085-4deb-8038-6cb747a744e3/Data Tables/vwCITY_STASampleResults.txt',sep='|',encoding='utf-16')\n",
    "city_a1c = city_a1c[city_a1c['ResultName'] == 'GLYHB']\n",
    "city_a1c['Visit'] = [v.lower() for v in city_a1c['Visit']]\n",
    "city = pd.merge(city_a1c,city,on=['PtID','Visit'])\n",
    "city = city[['PtID','Value','gluMean']]\n",
    "city.columns = ['ID','HbA1c','Mean Glucose']\n",
    "city['Study'] = 'CITY'\n",
    "# DCLP3\n",
    "# Per Peter, okay to use the 26 week HbA1c for post-randomization\n",
    "dclp3_cgm = pd.read_csv(wd+'Data_Raw/DCLP3 Public Dataset - Release 2 - 2022-01-18-9fc308ee-5d12-4651-8aec-262576777a31/Data Files/gluIndices.txt',sep='|')\n",
    "dclp3_cgm = dclp3_cgm[dclp3_cgm['analysis'] == '3. first 3mo']\n",
    "dclp3_cgm = dclp3_cgm[dclp3_cgm['period'] == '2. Post Randomization']\n",
    "dclp3_cgm = dclp3_cgm[['PtID','gluMean']]\n",
    "dclp3_a1c = pd.read_csv(wd+'Data_Raw/DCLP3 Public Dataset - Release 2 - 2022-01-18-9fc308ee-5d12-4651-8aec-262576777a31/Data Files/SampleResults_a.txt',sep='|')\n",
    "dclp3_a1c = dclp3_a1c[dclp3_a1c['ResultName'] == 'GLYHB']\n",
    "dclp3_a1c = dclp3_a1c[dclp3_a1c['Visit'] == '13 Week']\n",
    "dclp3_a1c = dclp3_a1c[['PtID','Value']]\n",
    "# Merge and clean up\n",
    "dclp3 = pd.merge(dclp3_cgm,dclp3_a1c,on='PtID')\n",
    "dclp3 = dclp3[['PtID','Value','gluMean']]\n",
    "dclp3.columns = ['ID','HbA1c','Mean Glucose']\n",
    "dclp3['Study'] = 'DCLP3'\n",
    "# WISDM\n",
    "wisdm = pd.read_csv(wd+'/Data_Raw/WISDMPublicDataset-18f24ae5-b4fb-4e93-bec6-7021086419fa/Data Tables/gluIndices Ext.txt',sep='|')\n",
    "wisdm = wisdm[wisdm['time'] == '1) Overall']\n",
    "wisdm_a1c = pd.read_csv(wd+'Data_Raw/WISDMPublicDataset-18f24ae5-b4fb-4e93-bec6-7021086419fa/Data Tables/STASampleResults.txt',sep='|',encoding='utf-16')\n",
    "wisdm_a1c = wisdm_a1c[wisdm_a1c['ResultName'] == 'GLYHB']\n",
    "wisdm = pd.merge(wisdm_a1c,wisdm,left_on=['PtID','Visit'],right_on=['PtID','visit'])\n",
    "wisdm = wisdm[['PtID','Value','gluMean']]\n",
    "wisdm.columns = ['ID','HbA1c','Mean Glucose']\n",
    "wisdm['Study'] = 'WISDM'\n",
    "# Combine everything\n",
    "gmi_data = pd.concat([kaan,cgmnd,flair,mobile,diamond,city,dclp3,wisdm])\n",
    "# As numeric\n",
    "gmi_data['HbA1c'] = [float(n) for n in gmi_data['HbA1c']]\n",
    "gmi_data['Mean Glucose'] = [float(n) for n in gmi_data['Mean Glucose']]\n",
    "# Drop missing\n",
    "gmi_data.dropna(subset=['Mean Glucose','HbA1c'],inplace=True)\n",
    "# Write for checking results in R\n",
    "gmi_data.to_csv(wd+'/Data_Clean/analysis_dataset.csv',index=False)"
   ]
  },
  {
   "cell_type": "markdown",
   "metadata": {},
   "source": [
    "- HbA1c and mean glucose data were pulled from Kaan's data, CGMND, FLAIR, MOBILE, CITY, DCLP3, WISDM, and original data from Peter including participants from DIAMOND, REPLACE, and HypoDE.\n",
    "- DCLP3 includes CGM data for two time periods (\"Baseline\" and \"Post-Randomization\") but HbA1c for \"Randomization\", \"13 Week\", and \"26 Week\" visits. Per Peter, 26 week HbA1c was matched with post-randomization mean glucose.\n",
    "- CITY contains multiple files with HbA1c values. The file \"vwCITY_STASampleResults.txt\" was used for this report."
   ]
  },
  {
   "cell_type": "code",
   "execution_count": null,
   "metadata": {},
   "outputs": [],
   "source": [
    "#| label: fig-scatter\n",
    "#| fig-cap: \"HbA1c and Mean Sensor Glucose\"\n",
    "pio.renderers.default = \"notebook\"\n",
    "line = px.line(x=gmi_data['Mean Glucose'], y=3.31 + 0.02392*gmi_data['Mean Glucose'])\n",
    "scatter = px.scatter(gmi_data,x='Mean Glucose', y='HbA1c',\n",
    "                 labels={\n",
    "                     'Mean Glucose': 'Mean Glucose (mg/dL)',\n",
    "                     'HbA1c': 'HbA1c (%)'\n",
    "                 },)\n",
    "\n",
    "fig = go.Figure(data=go.Scatter(x=gmi_data['Mean Glucose'], y=gmi_data['HbA1c'],mode='markers',showlegend = False,name = \"HbA1c Data\"))\n",
    "# Create trace\n",
    "fig.add_trace(go.Scatter(x=gmi_data['Mean Glucose'], y=3.31 + 0.02392*gmi_data['Mean Glucose'], name='GMI',\n",
    "                         line=dict(color='red')))\n",
    "\n",
    "fig.show();"
   ]
  },
  {
   "cell_type": "markdown",
   "metadata": {},
   "source": [
    "# GAM\n",
    "- A linear general additive model (GAM) was fit under the assumption that HbA1c is normally distributed (see @fig-a1chist).\n",
    "- https://stats.stackexchange.com/questions/35893/how-do-i-test-a-nonlinear-association"
   ]
  },
  {
   "cell_type": "code",
   "execution_count": null,
   "metadata": {},
   "outputs": [],
   "source": [
    "#| label: fig-a1chist\n",
    "#| fig-cap: \"HbA1c Distribution\"\n",
    "gmi_data['HbA1c'].hist();"
   ]
  },
  {
   "cell_type": "code",
   "execution_count": null,
   "metadata": {},
   "outputs": [],
   "source": [
    "#| output: false\n",
    "# X and Y matrices\n",
    "X = np.array(gmi_data['Mean Glucose'])\n",
    "y = np.array(gmi_data['HbA1c'])\n",
    "# Fit linear GAM with splines for mean glucose\n",
    "gam = LinearGAM(s(0,penalties='none'));\n",
    "gam.gridsearch(X[:,None],y,keep_best=True); # For some reason grid search needs two columns in X, so make one empty\n",
    "gam.summary()"
   ]
  },
  {
   "cell_type": "code",
   "execution_count": null,
   "metadata": {},
   "outputs": [],
   "source": [
    "# Data for plotting\n",
    "XX = gam.generate_X_grid(term=0, n=500)\n",
    "yy = gam.predict(X);\n",
    "# Plot\n",
    "fig = go.Figure(data=go.Scatter(x=gmi_data['Mean Glucose'], y=gmi_data['HbA1c'],mode='markers',showlegend = False,name = \"HbA1c Data\"))\n",
    "fig.add_trace(go.Scatter(x=XX[:,0], y=yy, name='FDA',line=dict(color='red')))\n",
    "fig.show();"
   ]
  },
  {
   "cell_type": "code",
   "execution_count": null,
   "metadata": {},
   "outputs": [],
   "source": [
    "import statsmodels.api as sm\n",
    "from statsmodels.gam.api import GLMGam, BSplines\n",
    "bs = BSplines(gmi_data['Mean Glucose'], df=20, degree=3)\n",
    "gam_bs = GLMGam.from_formula('HbA1c ~ 1',smoother=bs,data = gmi_data,alpha = 4407.50829403) # alpha from gam_bs.select_penweight\n",
    "res_bs = gam_bs.fit()\n",
    "res_bs.summary()"
   ]
  },
  {
   "cell_type": "code",
   "execution_count": null,
   "metadata": {},
   "outputs": [],
   "source": [
    "gam_bs.select_penweight()[0]"
   ]
  },
  {
   "cell_type": "code",
   "execution_count": null,
   "metadata": {},
   "outputs": [],
   "source": [
    "from statsmodels.gam.tests.test_penalized import df_autos"
   ]
  },
  {
   "cell_type": "code",
   "execution_count": null,
   "metadata": {},
   "outputs": [],
   "source": [
    "df_autos.to_csv('~/temp.csv')"
   ]
  },
  {
   "cell_type": "code",
   "execution_count": null,
   "metadata": {},
   "outputs": [],
   "source": [
    "help(GLMGam)"
   ]
  },
  {
   "cell_type": "code",
   "execution_count": null,
   "metadata": {},
   "outputs": [],
   "source": []
  }
 ],
 "metadata": {
  "interpreter": {
   "hash": "b0fa6594d8f4cbf19f97940f81e996739fb7646882a419484c72d19e05852a7e"
  },
  "kernelspec": {
   "display_name": "Python 3 (ipykernel)",
   "language": "python",
   "name": "python3"
  },
  "language_info": {
   "codemirror_mode": {
    "name": "ipython",
    "version": 3
   },
   "file_extension": ".py",
   "mimetype": "text/x-python",
   "name": "python",
   "nbconvert_exporter": "python",
   "pygments_lexer": "ipython3",
   "version": "3.9.12"
  }
 },
 "nbformat": 4,
 "nbformat_minor": 4
}
