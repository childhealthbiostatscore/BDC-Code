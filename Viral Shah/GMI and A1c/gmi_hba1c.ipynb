{
 "cells": [
  {
   "cell_type": "code",
   "execution_count": 7,
   "metadata": {},
   "outputs": [],
   "source": [
    "import pandas as pd\n",
    "wd = '/Volumes/PEDS/RI Biostatistics Core/Shared/Shared Projects/Laura/BDC/Projects/Viral Shah/GMI and A1c/'"
   ]
  },
  {
   "cell_type": "markdown",
   "metadata": {},
   "source": [
    "# Data Cleaning\n",
    "- HbA1c and mean glucose data were pulled from Kaan's data, CGMND, FLAIR, MOBILE, CITY, DCLP3, WISDM, and data from Peter including participants from DIAMOND, REPLACE, and HypoDE."
   ]
  },
  {
   "cell_type": "code",
   "execution_count": 61,
   "metadata": {},
   "outputs": [],
   "source": [
    "# Import Kaan's data (use clean_cgms.py to generate mean glucose file)\n",
    "# Had to manually edit some names in glucose file to match demographics\n",
    "kaan = pd.read_csv(wd + 'Data_Clean/kaan_mean_glucose.csv',usecols=['ID','HbA1c','14 Overall Mean'])\n",
    "kaan.columns = ['ID','HbA1c','Mean Glucose']\n",
    "# CGMND\n",
    "cgmnd_a1c = pd.read_csv(wd+'Data_Raw/CGMND-af920dee-2d6e-4436-bc89-7a7b51239837/NonDiabSampleResults.csv')\n",
    "cgmnd_a1c = cgmnd_a1c[cgmnd_a1c['Analyte'] == \"HBA1C\"]\n",
    "cgmnd_a1c = cgmnd_a1c[['PtID','Value']]\n",
    "cgmnd_a1c.columns = ['ID','HbA1c']\n",
    "# Calculate mean glucose for each person in CGMND\n",
    "cgmnd_cgm = pd.read_csv(wd+'Data_Raw/CGMND-af920dee-2d6e-4436-bc89-7a7b51239837/NonDiabDeviceCGM.csv')\n",
    "ids = cgmnd_cgm['PtID'].unique()\n",
    "msgs = {'ID':[],'Mean Glucose':[]}\n",
    "for i in ids:\n",
    "    d = cgmnd_cgm[(cgmnd_cgm['PtID'] == i) & (cgmnd_cgm['RecordType'] == \"CGM\")]\n",
    "    msgs['ID'].append(i)\n",
    "    msgs['Mean Glucose'].append(d['Value'].mean())\n",
    "cgmnd_cgm = pd.DataFrame(msgs)\n",
    "# Merge\n",
    "cgmnd = pd.merge(cgmnd_a1c,cgmnd_cgm,on='ID')\n",
    "# FLAIR\n",
    "flair = pd.read_csv(wd+'Data_Raw/gmiDataFlair 042222 .csv',usecols=['DeidentID','a1cLab','gluMean'])\n",
    "flair.columns = ['ID','HbA1c','Mean Glucose']\n",
    "# MOBILE\n",
    "mobile = pd.read_csv(wd+'Data_Raw/gmiDataMobile 031722 .csv',usecols=['DeidentID','a1cLab','gluMean'])\n",
    "mobile.columns = ['ID','HbA1c','Mean Glucose']\n",
    "# DIAMOND, etc\n",
    "diamond = pd.read_csv(wd+'Data_Raw/gmiData 020222 .csv',usecols=['DeidentID','a1cLab','gluMean'])\n",
    "diamond.columns = ['ID','HbA1c','Mean Glucose']\n",
    "# CITY\n",
    "city = pd.read_csv(wd+'Data_Raw/CITYPublicDataset-344bea7d-8085-4deb-8038-6cb747a744e3/Data Tables/gluIndices RCT.txt',sep='|',usecols=['PtID','gluMean'])"
   ]
  }
 ],
 "metadata": {
  "interpreter": {
   "hash": "b0fa6594d8f4cbf19f97940f81e996739fb7646882a419484c72d19e05852a7e"
  },
  "kernelspec": {
   "display_name": "Python 3.9.12 64-bit",
   "language": "python",
   "name": "python3"
  },
  "language_info": {
   "codemirror_mode": {
    "name": "ipython",
    "version": 3
   },
   "file_extension": ".py",
   "mimetype": "text/x-python",
   "name": "python",
   "nbconvert_exporter": "python",
   "pygments_lexer": "ipython3",
   "version": "3.9.12"
  },
  "orig_nbformat": 4
 },
 "nbformat": 4,
 "nbformat_minor": 2
}
