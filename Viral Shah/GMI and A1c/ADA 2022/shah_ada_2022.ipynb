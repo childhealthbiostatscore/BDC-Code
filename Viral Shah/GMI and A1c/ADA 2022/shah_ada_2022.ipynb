{
 "cells": [
  {
   "cell_type": "code",
   "execution_count": 1,
   "id": "d13b2c7a-b900-4ef6-b6db-f123aaef0737",
   "metadata": {},
   "outputs": [
    {
     "name": "stderr",
     "output_type": "stream",
     "text": [
      "/Library/Frameworks/Python.framework/Versions/3.10/lib/python3.10/site-packages/statsmodels/compat/pandas.py:35: DeprecationWarning: distutils Version classes are deprecated. Use packaging.version instead.\n",
      "  version = LooseVersion(pd.__version__)\n",
      "/Library/Frameworks/Python.framework/Versions/3.10/lib/python3.10/site-packages/statsmodels/compat/pandas.py:37: DeprecationWarning: distutils Version classes are deprecated. Use packaging.version instead.\n",
      "  pandas_lt_1_0_0 = version < LooseVersion(\"1.0.0\")\n",
      "/Library/Frameworks/Python.framework/Versions/3.10/lib/python3.10/site-packages/statsmodels/compat/numpy.py:46: DeprecationWarning: distutils Version classes are deprecated. Use packaging.version instead.\n",
      "  NP_LT_114 = LooseVersion(np.__version__) < LooseVersion(\"1.14\")\n",
      "/Library/Frameworks/Python.framework/Versions/3.10/lib/python3.10/site-packages/statsmodels/compat/numpy.py:46: DeprecationWarning: distutils Version classes are deprecated. Use packaging.version instead.\n",
      "  NP_LT_114 = LooseVersion(np.__version__) < LooseVersion(\"1.14\")\n",
      "/Library/Frameworks/Python.framework/Versions/3.10/lib/python3.10/site-packages/statsmodels/compat/scipy.py:6: DeprecationWarning: distutils Version classes are deprecated. Use packaging.version instead.\n",
      "  SP_VERSION = LooseVersion(scipy.__version__)\n",
      "/Library/Frameworks/Python.framework/Versions/3.10/lib/python3.10/site-packages/statsmodels/compat/scipy.py:7: DeprecationWarning: distutils Version classes are deprecated. Use packaging.version instead.\n",
      "  SCIPY_GT_14 = SP_VERSION >= LooseVersion(\"1.5\")\n",
      "/Library/Frameworks/Python.framework/Versions/3.10/lib/python3.10/site-packages/statsmodels/compat/scipy.py:8: DeprecationWarning: distutils Version classes are deprecated. Use packaging.version instead.\n",
      "  SP_LT_15 = SP_VERSION < LooseVersion(\"1.5\")\n",
      "/Library/Frameworks/Python.framework/Versions/3.10/lib/python3.10/site-packages/statsmodels/compat/scipy.py:9: DeprecationWarning: distutils Version classes are deprecated. Use packaging.version instead.\n",
      "  SP_LT_16 = SP_VERSION < LooseVersion(\"1.6\")\n"
     ]
    }
   ],
   "source": [
    "import pandas as pd\n",
    "import numpy as np\n",
    "import seaborn as sns\n",
    "import matplotlib.pyplot as plt\n",
    "from tableone import TableOne\n",
    "from statsmodels.api import OLS\n",
    "from statsmodels.stats import proportion\n",
    "from patsy import dmatrices\n",
    "from scipy.stats import ttest_1samp\n",
    "wd = \"/Users/timvigers/Dropbox/Work/Viral Shah/ADA 2022/\""
   ]
  },
  {
   "cell_type": "markdown",
   "id": "e4101215-3114-4a01-b746-153773c27bc8",
   "metadata": {},
   "source": [
    "## Data\n",
    "- Participants with HbA1c >= 6.5 were excluded from Kaan's CGM dataset. The remaining participants were combined with publicly available data on non-diabetics from the JAEB (https://public.jaeb.org/datasets/diabetes).\n",
    "- For each participant, mean blood glucose was calculated from CGM data, and GMI calculated according to the standard equation (3.31 + 0.02392 * MBG). \n",
    "- GMI was compared to lab HbA1c, and a new GMI regression equation was estimated for this population. "
   ]
  },
  {
   "cell_type": "code",
   "execution_count": 2,
   "id": "5bff7e88-fe78-4bad-a409-c18dc65ab64f",
   "metadata": {},
   "outputs": [],
   "source": [
    "# Import Kaan's data\n",
    "df = pd.read_csv(wd + \"Data_Clean/analysis_data.csv\",usecols=[\"ID\",\"Age\",\"14 Day Mean\",\"HbA1c\"])\n",
    "# Only HbA1c < 6.5\n",
    "df = df[df[\"HbA1c\"] < 6.5]\n",
    "df.columns = [\"PtID\",\"AgeAsOfEnrollDt\",\"HbA1c\",\"MBG\"]\n",
    "df[\"MBG\"] = [round(m,2) for m in df[\"MBG\"]]\n",
    "df[\"Cohort\"] = \"BDC\"\n",
    "# Add JAEB data\n",
    "jaeb_cgm = pd.read_csv(wd + \"Data_Raw/CGMND/NonDiabDeviceCGM.csv\")\n",
    "jaeb_cgm = jaeb_cgm[jaeb_cgm[\"RecordType\"] == \"CGM\"]\n",
    "# Split by ID\n",
    "dataframes = []\n",
    "for _, d in jaeb_cgm.groupby([\"PtID\"]):\n",
    "    dataframes.append(d)\n",
    "# Calculate mean glucose for each participant\n",
    "mean_bgs = {\"PtID\":[],\"MBG\":[]}\n",
    "for d in dataframes:\n",
    "    mean_bgs[\"PtID\"].append(d[\"PtID\"].iloc[0])\n",
    "    mean_bgs[\"MBG\"].append(round(d[\"Value\"].mean(),2))\n",
    "mean_bgs = pd.DataFrame(mean_bgs)\n",
    "# Exclude patients (per Stephanie DuBose)\n",
    "exclude = pd.read_csv(wd+\"Data_Raw/List of Excluded Pts.csv\")\n",
    "idx = ~mean_bgs['PtID'].isin(exclude['PtID'])\n",
    "mean_bgs = mean_bgs[idx]\n",
    "# Add HbA1c\n",
    "jaeb_a1c = pd.read_csv(wd + \"Data_Raw/CGMND/NonDiabSampleResults.csv\")\n",
    "jaeb_a1c = jaeb_a1c[jaeb_a1c[\"Analyte\"] == \"HBA1C\"]\n",
    "jaeb_a1c = jaeb_a1c[[\"PtID\",\"Value\"]]\n",
    "jaeb_a1c.columns = [\"PtID\",\"HbA1c\"]\n",
    "jaeb_a1c[\"PtID\"] = [str(p) for p in jaeb_a1c[\"PtID\"]]\n",
    "mean_bgs[\"PtID\"] = [str(p) for p in mean_bgs[\"PtID\"]]\n",
    "mean_bgs = mean_bgs.merge(jaeb_a1c,on = \"PtID\")\n",
    "# Age\n",
    "jaeb_age = pd.read_csv(wd + \"Data_Raw/CGMND/NonDiabPtRoster.csv\",usecols=[\"PtID\",\"AgeAsOfEnrollDt\"])\n",
    "jaeb_age[\"PtID\"] = [str(p) for p in jaeb_age[\"PtID\"]]\n",
    "mean_bgs = mean_bgs.merge(jaeb_age,on = \"PtID\")\n",
    "mean_bgs = mean_bgs[mean_bgs[\"HbA1c\"] < 6.5]\n",
    "mean_bgs[\"Cohort\"] = \"JAEB\"\n",
    "# Combine\n",
    "df = pd.concat([df,mean_bgs])\n",
    "# Calculate GMI\n",
    "df[\"GMI\"] = [3.31 + 0.02392*m for m in df[\"MBG\"]]\n",
    "df[\"Diff\"] = df[\"HbA1c\"] - df[\"GMI\"]\n",
    "df.reset_index(inplace=True,drop=True)\n",
    "# Write\n",
    "df.to_csv(wd + 'Data_Clean/combined_data.csv',index=False)\n",
    "# Split by HbA1c < 5.7 and 5.7 - 6.5\n",
    "nondiab = df[df['HbA1c'] < 5.7]\n",
    "prediab = df[(df['HbA1c'] >= 5.7) & (df['HbA1c'] < 6.5)]\n",
    "# Reindex\n",
    "nondiab.reset_index(inplace=True,drop=True)\n",
    "prediab.reset_index(inplace=True,drop=True)"
   ]
  },
  {
   "cell_type": "code",
   "execution_count": 3,
   "id": "1056538a",
   "metadata": {},
   "outputs": [
    {
     "data": {
      "text/html": [
       "<div>\n",
       "<style scoped>\n",
       "    .dataframe tbody tr th:only-of-type {\n",
       "        vertical-align: middle;\n",
       "    }\n",
       "\n",
       "    .dataframe tbody tr th {\n",
       "        vertical-align: top;\n",
       "    }\n",
       "\n",
       "    .dataframe thead tr th {\n",
       "        text-align: left;\n",
       "    }\n",
       "</style>\n",
       "<table border=\"1\" class=\"dataframe\">\n",
       "  <thead>\n",
       "    <tr>\n",
       "      <th></th>\n",
       "      <th></th>\n",
       "      <th colspan=\"4\" halign=\"left\">Grouped by Cohort</th>\n",
       "    </tr>\n",
       "    <tr>\n",
       "      <th></th>\n",
       "      <th></th>\n",
       "      <th>Missing</th>\n",
       "      <th>Overall</th>\n",
       "      <th>BDC</th>\n",
       "      <th>JAEB</th>\n",
       "    </tr>\n",
       "  </thead>\n",
       "  <tbody>\n",
       "    <tr>\n",
       "      <th>n</th>\n",
       "      <th></th>\n",
       "      <td></td>\n",
       "      <td>246</td>\n",
       "      <td>93</td>\n",
       "      <td>153</td>\n",
       "    </tr>\n",
       "    <tr>\n",
       "      <th>HbA1c, mean (SD)</th>\n",
       "      <th></th>\n",
       "      <td>0</td>\n",
       "      <td>5.4 (0.5)</td>\n",
       "      <td>5.9 (0.4)</td>\n",
       "      <td>5.1 (0.3)</td>\n",
       "    </tr>\n",
       "    <tr>\n",
       "      <th>AgeAsOfEnrollDt, mean (SD)</th>\n",
       "      <th></th>\n",
       "      <td>0</td>\n",
       "      <td>34.5 (18.7)</td>\n",
       "      <td>40.6 (12.6)</td>\n",
       "      <td>30.7 (20.7)</td>\n",
       "    </tr>\n",
       "  </tbody>\n",
       "</table>\n",
       "</div><br />"
      ],
      "text/plain": [
       "                            Grouped by Cohort                                       \n",
       "                                      Missing      Overall          BDC         JAEB\n",
       "n                                                      246           93          153\n",
       "HbA1c, mean (SD)                            0    5.4 (0.5)    5.9 (0.4)    5.1 (0.3)\n",
       "AgeAsOfEnrollDt, mean (SD)                  0  34.5 (18.7)  40.6 (12.6)  30.7 (20.7)"
      ]
     },
     "execution_count": 3,
     "metadata": {},
     "output_type": "execute_result"
    }
   ],
   "source": [
    "TableOne(df,columns=[\"HbA1c\",\"AgeAsOfEnrollDt\"],groupby=[\"Cohort\"])"
   ]
  },
  {
   "cell_type": "markdown",
   "id": "495c98d2-06b2-4f5a-8326-780cf48a4960",
   "metadata": {},
   "source": [
    "# HbA1c < 5.7"
   ]
  },
  {
   "cell_type": "markdown",
   "id": "2609dcb6-7354-4406-abef-9d2ce47cfed4",
   "metadata": {
    "tags": []
   },
   "source": [
    "## Mean Glucose and HbA1c\n",
    "Red line indicates GMI regression line."
   ]
  },
  {
   "cell_type": "code",
   "execution_count": 4,
   "id": "986a2b51-1ea7-4eab-99d1-f0ec894c585d",
   "metadata": {},
   "outputs": [
    {
     "data": {
      "image/png": "[encoded data removed]",
      "text/plain": [
       "<Figure size 432x432 with 3 Axes>"
      ]
     },
     "metadata": {
      "needs_background": "light"
     },
     "output_type": "display_data"
    }
   ],
   "source": [
    "grid = sns.JointGrid(x=nondiab[\"MBG\"],y=nondiab[\"HbA1c\"])\n",
    "grid.plot_joint(plt.scatter)\n",
    "plt.plot([80,175],[5.2236,7.496], linewidth=2, color = \"r\");"
   ]
  },
  {
   "cell_type": "markdown",
   "id": "6955d555-1426-42f7-9848-dacfe797c867",
   "metadata": {},
   "source": [
    "## Differences between HbA1c and GMI"
   ]
  },
  {
   "cell_type": "code",
   "execution_count": 5,
   "id": "d7487c69-36ef-4cdc-8183-567ee7ffe51f",
   "metadata": {},
   "outputs": [
    {
     "data": {
      "image/png": "[encoded data removed]",
      "text/plain": [
       "<Figure size 432x288 with 1 Axes>"
      ]
     },
     "metadata": {
      "needs_background": "light"
     },
     "output_type": "display_data"
    }
   ],
   "source": [
    "sns.histplot(data=nondiab, x=\"Diff\")\n",
    "plt.xlabel(\"HbA1c - GMI\");"
   ]
  },
  {
   "cell_type": "code",
   "execution_count": 6,
   "id": "649a4476",
   "metadata": {},
   "outputs": [
    {
     "data": {
      "text/plain": [
       "<Figure size 432x288 with 0 Axes>"
      ]
     },
     "metadata": {},
     "output_type": "display_data"
    }
   ],
   "source": [
    "plt.savefig(wd + \"Reports/figure_under_5.7.png\")"
   ]
  },
  {
   "cell_type": "code",
   "execution_count": 7,
   "id": "dd58d508-39e8-4e94-b57f-818c9824a469",
   "metadata": {},
   "outputs": [
    {
     "data": {
      "text/plain": [
       "5.967094111311295e-61"
      ]
     },
     "execution_count": 7,
     "metadata": {},
     "output_type": "execute_result"
    }
   ],
   "source": [
    "t = ttest_1samp(nondiab[\"Diff\"],popmean = 0)\n",
    "t.pvalue\n",
    "#nondiab[\"Diff\"].mean()"
   ]
  },
  {
   "cell_type": "markdown",
   "id": "0b7a12b4-3663-4af9-b972-9e00b456f305",
   "metadata": {},
   "source": [
    "The differences between HbA1c and GMI were largely negative, suggesting that the standard GMI equation overestimates HbA1c in this cohort. On average, GMI was 0.52% higher, and this was significantly different from 0 (p < 0.0001)."
   ]
  },
  {
   "cell_type": "markdown",
   "id": "0ffac0ec-d94d-4f7c-9d03-646b4c176e01",
   "metadata": {},
   "source": [
    "## Regression Results"
   ]
  },
  {
   "cell_type": "code",
   "execution_count": 8,
   "id": "b007a934-b979-47ce-8c6a-15ec9360a8c6",
   "metadata": {},
   "outputs": [],
   "source": [
    "outcome,predictors = dmatrices(\"HbA1c ~ MBG\",data = nondiab)\n",
    "reg = OLS(outcome,predictors).fit()"
   ]
  },
  {
   "cell_type": "code",
   "execution_count": 9,
   "id": "4c3c6036-1ffb-4bf9-b370-96ecf562ea53",
   "metadata": {},
   "outputs": [
    {
     "data": {
      "text/html": [
       "<table class=\"simpletable\">\n",
       "<caption>OLS Regression Results</caption>\n",
       "<tr>\n",
       "  <th>Dep. Variable:</th>          <td>HbA1c</td>      <th>  R-squared:         </th> <td>   0.099</td>\n",
       "</tr>\n",
       "<tr>\n",
       "  <th>Model:</th>                   <td>OLS</td>       <th>  Adj. R-squared:    </th> <td>   0.094</td>\n",
       "</tr>\n",
       "<tr>\n",
       "  <th>Method:</th>             <td>Least Squares</td>  <th>  F-statistic:       </th> <td>   19.71</td>\n",
       "</tr>\n",
       "<tr>\n",
       "  <th>Date:</th>             <td>Tue, 04 Jan 2022</td> <th>  Prob (F-statistic):</th> <td>1.57e-05</td>\n",
       "</tr>\n",
       "<tr>\n",
       "  <th>Time:</th>                 <td>13:28:33</td>     <th>  Log-Likelihood:    </th> <td> -18.014</td>\n",
       "</tr>\n",
       "<tr>\n",
       "  <th>No. Observations:</th>      <td>   181</td>      <th>  AIC:               </th> <td>   40.03</td>\n",
       "</tr>\n",
       "<tr>\n",
       "  <th>Df Residuals:</th>          <td>   179</td>      <th>  BIC:               </th> <td>   46.42</td>\n",
       "</tr>\n",
       "<tr>\n",
       "  <th>Df Model:</th>              <td>     1</td>      <th>                     </th>     <td> </td>   \n",
       "</tr>\n",
       "<tr>\n",
       "  <th>Covariance Type:</th>      <td>nonrobust</td>    <th>                     </th>     <td> </td>   \n",
       "</tr>\n",
       "</table>\n",
       "<table class=\"simpletable\">\n",
       "<tr>\n",
       "      <td></td>         <th>coef</th>     <th>std err</th>      <th>t</th>      <th>P>|t|</th>  <th>[0.025</th>    <th>0.975]</th>  \n",
       "</tr>\n",
       "<tr>\n",
       "  <th>Intercept</th> <td>    4.3193</td> <td>    0.190</td> <td>   22.694</td> <td> 0.000</td> <td>    3.944</td> <td>    4.695</td>\n",
       "</tr>\n",
       "<tr>\n",
       "  <th>MBG</th>       <td>    0.0082</td> <td>    0.002</td> <td>    4.440</td> <td> 0.000</td> <td>    0.005</td> <td>    0.012</td>\n",
       "</tr>\n",
       "</table>\n",
       "<table class=\"simpletable\">\n",
       "<tr>\n",
       "  <th>Omnibus:</th>       <td>13.667</td> <th>  Durbin-Watson:     </th> <td>   1.521</td>\n",
       "</tr>\n",
       "<tr>\n",
       "  <th>Prob(Omnibus):</th> <td> 0.001</td> <th>  Jarque-Bera (JB):  </th> <td>  14.884</td>\n",
       "</tr>\n",
       "<tr>\n",
       "  <th>Skew:</th>          <td>-0.699</td> <th>  Prob(JB):          </th> <td>0.000586</td>\n",
       "</tr>\n",
       "<tr>\n",
       "  <th>Kurtosis:</th>      <td> 3.132</td> <th>  Cond. No.          </th> <td>    979.</td>\n",
       "</tr>\n",
       "</table><br/><br/>Notes:<br/>[1] Standard Errors assume that the covariance matrix of the errors is correctly specified."
      ],
      "text/plain": [
       "<class 'statsmodels.iolib.summary.Summary'>\n",
       "\"\"\"\n",
       "                            OLS Regression Results                            \n",
       "==============================================================================\n",
       "Dep. Variable:                  HbA1c   R-squared:                       0.099\n",
       "Model:                            OLS   Adj. R-squared:                  0.094\n",
       "Method:                 Least Squares   F-statistic:                     19.71\n",
       "Date:                Tue, 04 Jan 2022   Prob (F-statistic):           1.57e-05\n",
       "Time:                        13:28:33   Log-Likelihood:                -18.014\n",
       "No. Observations:                 181   AIC:                             40.03\n",
       "Df Residuals:                     179   BIC:                             46.42\n",
       "Df Model:                           1                                         \n",
       "Covariance Type:            nonrobust                                         \n",
       "==============================================================================\n",
       "                 coef    std err          t      P>|t|      [0.025      0.975]\n",
       "------------------------------------------------------------------------------\n",
       "Intercept      4.3193      0.190     22.694      0.000       3.944       4.695\n",
       "MBG            0.0082      0.002      4.440      0.000       0.005       0.012\n",
       "==============================================================================\n",
       "Omnibus:                       13.667   Durbin-Watson:                   1.521\n",
       "Prob(Omnibus):                  0.001   Jarque-Bera (JB):               14.884\n",
       "Skew:                          -0.699   Prob(JB):                     0.000586\n",
       "Kurtosis:                       3.132   Cond. No.                         979.\n",
       "==============================================================================\n",
       "\n",
       "Notes:\n",
       "[1] Standard Errors assume that the covariance matrix of the errors is correctly specified.\n",
       "\"\"\""
      ]
     },
     "execution_count": 9,
     "metadata": {},
     "output_type": "execute_result"
    }
   ],
   "source": [
    "reg.summary()"
   ]
  },
  {
   "cell_type": "markdown",
   "id": "70a3648d-3071-4c67-b951-e4e4f341fd71",
   "metadata": {},
   "source": [
    "Based on this dataset, the regression equation for GMI would be:\n",
    "\n",
    "GMI = 3.4551 + 0.0180 * MBG"
   ]
  },
  {
   "cell_type": "code",
   "execution_count": 10,
   "id": "9cb7fd0f-cb31-4b41-8448-1ce03b8b7818",
   "metadata": {},
   "outputs": [
    {
     "data": {
      "image/png": "[encoded data removed]",
      "text/plain": [
       "<Figure size 360x360 with 1 Axes>"
      ]
     },
     "metadata": {
      "needs_background": "light"
     },
     "output_type": "display_data"
    }
   ],
   "source": [
    "sns.lmplot(x=\"MBG\",y=\"HbA1c\",data=nondiab,ci=None);"
   ]
  },
  {
   "cell_type": "markdown",
   "id": "072fe7d3-0995-4a25-8add-97bd1211100c",
   "metadata": {},
   "source": [
    "# HbA1c 5.7 - 6.5\n",
    "## Mean Glucose and HbA1c\n",
    "Red line indicates GMI regression line."
   ]
  },
  {
   "cell_type": "code",
   "execution_count": 11,
   "id": "b908e2a5-cc9d-454b-a78a-bf2d0ca6fb17",
   "metadata": {},
   "outputs": [
    {
     "data": {
      "image/png": "[encoded data removed]",
      "text/plain": [
       "<Figure size 432x432 with 3 Axes>"
      ]
     },
     "metadata": {
      "needs_background": "light"
     },
     "output_type": "display_data"
    }
   ],
   "source": [
    "grid = sns.JointGrid(x=prediab[\"MBG\"],y=prediab[\"HbA1c\"])\n",
    "grid.plot_joint(plt.scatter)\n",
    "plt.plot([80,175],[5.2236,7.496], linewidth=2, color = \"r\");"
   ]
  },
  {
   "cell_type": "markdown",
   "id": "8a327899-08db-42aa-ba04-426d092cc11e",
   "metadata": {},
   "source": [
    "## Differences between HbA1c and GMI"
   ]
  },
  {
   "cell_type": "code",
   "execution_count": 12,
   "id": "6b4ded72-1bd4-40fd-b4e2-9016c8edd596",
   "metadata": {},
   "outputs": [
    {
     "data": {
      "image/png": "[encoded data removed]",
      "text/plain": [
       "<Figure size 432x288 with 1 Axes>"
      ]
     },
     "metadata": {
      "needs_background": "light"
     },
     "output_type": "display_data"
    }
   ],
   "source": [
    "sns.histplot(data=prediab, x=\"Diff\")\n",
    "plt.xlabel(\"HbA1c - GMI\");"
   ]
  },
  {
   "cell_type": "code",
   "execution_count": 13,
   "id": "fd8792e4",
   "metadata": {},
   "outputs": [
    {
     "data": {
      "text/plain": [
       "<Figure size 432x288 with 0 Axes>"
      ]
     },
     "metadata": {},
     "output_type": "display_data"
    }
   ],
   "source": [
    "plt.savefig(wd + \"Reports/figure.png\")"
   ]
  },
  {
   "cell_type": "code",
   "execution_count": 14,
   "id": "5dfce50f-5862-436b-9280-713390c89c16",
   "metadata": {},
   "outputs": [
    {
     "data": {
      "text/plain": [
       "1.3006313817957117e-17"
      ]
     },
     "execution_count": 14,
     "metadata": {},
     "output_type": "execute_result"
    }
   ],
   "source": [
    "t = ttest_1samp(prediab[\"Diff\"],popmean = 0)\n",
    "t.pvalue\n",
    "#prediab[\"Diff\"].mean()"
   ]
  },
  {
   "cell_type": "markdown",
   "id": "ed9f289f-9332-4bb8-8e01-2c6ec50a3adc",
   "metadata": {},
   "source": [
    "The differences between HbA1c and GMI were largely negative, suggesting that the standard GMI equation overestimates HbA1c in this cohort. On average, GMI was 0.5% higher, and this was significantly different from 0 (p < 0.0001)."
   ]
  },
  {
   "cell_type": "markdown",
   "id": "e96f7586-906b-4f13-be81-3e951ba5dee4",
   "metadata": {},
   "source": [
    "## Regression Results"
   ]
  },
  {
   "cell_type": "code",
   "execution_count": 15,
   "id": "890317c7-1a19-4ee6-a904-44104544382c",
   "metadata": {},
   "outputs": [
    {
     "data": {
      "text/html": [
       "<table class=\"simpletable\">\n",
       "<caption>OLS Regression Results</caption>\n",
       "<tr>\n",
       "  <th>Dep. Variable:</th>          <td>HbA1c</td>      <th>  R-squared:         </th> <td>   0.210</td>\n",
       "</tr>\n",
       "<tr>\n",
       "  <th>Model:</th>                   <td>OLS</td>       <th>  Adj. R-squared:    </th> <td>   0.198</td>\n",
       "</tr>\n",
       "<tr>\n",
       "  <th>Method:</th>             <td>Least Squares</td>  <th>  F-statistic:       </th> <td>   16.77</td>\n",
       "</tr>\n",
       "<tr>\n",
       "  <th>Date:</th>             <td>Tue, 04 Jan 2022</td> <th>  Prob (F-statistic):</th> <td>0.000122</td>\n",
       "</tr>\n",
       "<tr>\n",
       "  <th>Time:</th>                 <td>13:28:33</td>     <th>  Log-Likelihood:    </th> <td>  14.701</td>\n",
       "</tr>\n",
       "<tr>\n",
       "  <th>No. Observations:</th>      <td>    65</td>      <th>  AIC:               </th> <td>  -25.40</td>\n",
       "</tr>\n",
       "<tr>\n",
       "  <th>Df Residuals:</th>          <td>    63</td>      <th>  BIC:               </th> <td>  -21.05</td>\n",
       "</tr>\n",
       "<tr>\n",
       "  <th>Df Model:</th>              <td>     1</td>      <th>                     </th>     <td> </td>   \n",
       "</tr>\n",
       "<tr>\n",
       "  <th>Covariance Type:</th>      <td>nonrobust</td>    <th>                     </th>     <td> </td>   \n",
       "</tr>\n",
       "</table>\n",
       "<table class=\"simpletable\">\n",
       "<tr>\n",
       "      <td></td>         <th>coef</th>     <th>std err</th>      <th>t</th>      <th>P>|t|</th>  <th>[0.025</th>    <th>0.975]</th>  \n",
       "</tr>\n",
       "<tr>\n",
       "  <th>Intercept</th> <td>    5.2418</td> <td>    0.217</td> <td>   24.121</td> <td> 0.000</td> <td>    4.808</td> <td>    5.676</td>\n",
       "</tr>\n",
       "<tr>\n",
       "  <th>MBG</th>       <td>    0.0064</td> <td>    0.002</td> <td>    4.095</td> <td> 0.000</td> <td>    0.003</td> <td>    0.010</td>\n",
       "</tr>\n",
       "</table>\n",
       "<table class=\"simpletable\">\n",
       "<tr>\n",
       "  <th>Omnibus:</th>       <td> 9.484</td> <th>  Durbin-Watson:     </th> <td>   1.645</td>\n",
       "</tr>\n",
       "<tr>\n",
       "  <th>Prob(Omnibus):</th> <td> 0.009</td> <th>  Jarque-Bera (JB):  </th> <td>   2.990</td>\n",
       "</tr>\n",
       "<tr>\n",
       "  <th>Skew:</th>          <td> 0.021</td> <th>  Prob(JB):          </th> <td>   0.224</td>\n",
       "</tr>\n",
       "<tr>\n",
       "  <th>Kurtosis:</th>      <td> 1.950</td> <th>  Cond. No.          </th> <td>1.24e+03</td>\n",
       "</tr>\n",
       "</table><br/><br/>Notes:<br/>[1] Standard Errors assume that the covariance matrix of the errors is correctly specified.<br/>[2] The condition number is large, 1.24e+03. This might indicate that there are<br/>strong multicollinearity or other numerical problems."
      ],
      "text/plain": [
       "<class 'statsmodels.iolib.summary.Summary'>\n",
       "\"\"\"\n",
       "                            OLS Regression Results                            \n",
       "==============================================================================\n",
       "Dep. Variable:                  HbA1c   R-squared:                       0.210\n",
       "Model:                            OLS   Adj. R-squared:                  0.198\n",
       "Method:                 Least Squares   F-statistic:                     16.77\n",
       "Date:                Tue, 04 Jan 2022   Prob (F-statistic):           0.000122\n",
       "Time:                        13:28:33   Log-Likelihood:                 14.701\n",
       "No. Observations:                  65   AIC:                            -25.40\n",
       "Df Residuals:                      63   BIC:                            -21.05\n",
       "Df Model:                           1                                         \n",
       "Covariance Type:            nonrobust                                         \n",
       "==============================================================================\n",
       "                 coef    std err          t      P>|t|      [0.025      0.975]\n",
       "------------------------------------------------------------------------------\n",
       "Intercept      5.2418      0.217     24.121      0.000       4.808       5.676\n",
       "MBG            0.0064      0.002      4.095      0.000       0.003       0.010\n",
       "==============================================================================\n",
       "Omnibus:                        9.484   Durbin-Watson:                   1.645\n",
       "Prob(Omnibus):                  0.009   Jarque-Bera (JB):                2.990\n",
       "Skew:                           0.021   Prob(JB):                        0.224\n",
       "Kurtosis:                       1.950   Cond. No.                     1.24e+03\n",
       "==============================================================================\n",
       "\n",
       "Notes:\n",
       "[1] Standard Errors assume that the covariance matrix of the errors is correctly specified.\n",
       "[2] The condition number is large, 1.24e+03. This might indicate that there are\n",
       "strong multicollinearity or other numerical problems.\n",
       "\"\"\""
      ]
     },
     "execution_count": 15,
     "metadata": {},
     "output_type": "execute_result"
    }
   ],
   "source": [
    "outcome,predictors = dmatrices(\"HbA1c ~ MBG\",data = prediab)\n",
    "reg = OLS(outcome,predictors).fit()\n",
    "reg.summary()"
   ]
  },
  {
   "cell_type": "code",
   "execution_count": 16,
   "id": "3b1d29de-ec5c-4cc8-9220-25d7002902ac",
   "metadata": {},
   "outputs": [
    {
     "data": {
      "image/png": "[encoded data removed]",
      "text/plain": [
       "<Figure size 360x360 with 1 Axes>"
      ]
     },
     "metadata": {
      "needs_background": "light"
     },
     "output_type": "display_data"
    }
   ],
   "source": [
    "sns.lmplot(x=\"MBG\",y=\"HbA1c\",data=prediab,ci=None);"
   ]
  }
 ],
 "metadata": {
  "interpreter": {
   "hash": "b0fa6594d8f4cbf19f97940f81e996739fb7646882a419484c72d19e05852a7e"
  },
  "kernelspec": {
   "display_name": "shah_ada2022",
   "language": "python",
   "name": "python3"
  },
  "language_info": {
   "codemirror_mode": {
    "name": "ipython",
    "version": 3
   },
   "file_extension": ".py",
   "mimetype": "text/x-python",
   "name": "python",
   "nbconvert_exporter": "python",
   "pygments_lexer": "ipython3",
   "version": "3.10.1"
  }
 },
 "nbformat": 4,
 "nbformat_minor": 5
}
