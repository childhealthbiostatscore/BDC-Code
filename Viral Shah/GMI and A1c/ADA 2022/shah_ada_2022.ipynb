{
 "cells": [
  {
   "cell_type": "code",
   "execution_count": null,
   "id": "d13b2c7a-b900-4ef6-b6db-f123aaef0737",
   "metadata": {},
   "outputs": [],
   "source": [
    "import pandas as pd\n",
    "import numpy as np\n",
    "import seaborn as sns\n",
    "import matplotlib.pyplot as plt\n",
    "from tableone import TableOne\n",
    "from statsmodels.api import OLS\n",
    "from statsmodels.stats import proportion\n",
    "from patsy import dmatrices\n",
    "from scipy.stats import ttest_1samp\n",
    "wd = \"/Users/timvigers/Dropbox/Work/Viral Shah/ADA 2022/\""
   ]
  },
  {
   "cell_type": "markdown",
   "id": "e4101215-3114-4a01-b746-153773c27bc8",
   "metadata": {},
   "source": [
    "## Data\n",
    "- Participants with HbA1c >= 6.5 were excluded from Kaan's CGM dataset. The remaining participants were combined with publicly available data on non-diabetics from the JAEB (https://public.jaeb.org/datasets/diabetes).\n",
    "- For each participant, mean blood glucose was calculated from CGM data, and GMI calculated according to the standard equation (3.31 + 0.02392 * MBG). \n",
    "- GMI was compared to lab HbA1c, and a new GMI regression equation was estimated for this population. "
   ]
  },
  {
   "cell_type": "code",
   "execution_count": null,
   "id": "5bff7e88-fe78-4bad-a409-c18dc65ab64f",
   "metadata": {},
   "outputs": [],
   "source": [
    "# Import Kaan's data\n",
    "df = pd.read_csv(wd + \"Data_Clean/analysis_data.csv\",usecols=[\"ID\",\"Age\",\"14 Day Mean\",\"HbA1c\"])\n",
    "# Only HbA1c < 6.5\n",
    "df = df[df[\"HbA1c\"] < 6.5]\n",
    "df.columns = [\"PtID\",\"AgeAsOfEnrollDt\",\"HbA1c\",\"MBG\"]\n",
    "df[\"MBG\"] = [round(m,2) for m in df[\"MBG\"]]\n",
    "df[\"Cohort\"] = \"BDC\"\n",
    "# Add JAEB data\n",
    "jaeb_cgm = pd.read_csv(wd + \"Data_Raw/CGMND/NonDiabDeviceCGM.csv\")\n",
    "jaeb_cgm = jaeb_cgm[jaeb_cgm[\"RecordType\"] == \"CGM\"]\n",
    "# Split by ID\n",
    "dataframes = []\n",
    "for _, d in jaeb_cgm.groupby([\"PtID\"]):\n",
    "    dataframes.append(d)\n",
    "# Calculate mean glucose for each participant\n",
    "mean_bgs = {\"PtID\":[],\"MBG\":[]}\n",
    "for d in dataframes:\n",
    "    mean_bgs[\"PtID\"].append(d[\"PtID\"].iloc[0])\n",
    "    mean_bgs[\"MBG\"].append(round(d[\"Value\"].mean(),2))\n",
    "mean_bgs = pd.DataFrame(mean_bgs)\n",
    "# Exclude patients (per Stephanie DuBose)\n",
    "exclude = pd.read_csv(wd+\"Data_Raw/List of Excluded Pts.csv\")\n",
    "idx = ~mean_bgs['PtID'].isin(exclude['PtID'])\n",
    "mean_bgs = mean_bgs[idx]\n",
    "# Add HbA1c\n",
    "jaeb_a1c = pd.read_csv(wd + \"Data_Raw/CGMND/NonDiabSampleResults.csv\")\n",
    "jaeb_a1c = jaeb_a1c[jaeb_a1c[\"Analyte\"] == \"HBA1C\"]\n",
    "jaeb_a1c = jaeb_a1c[[\"PtID\",\"Value\"]]\n",
    "jaeb_a1c.columns = [\"PtID\",\"HbA1c\"]\n",
    "jaeb_a1c[\"PtID\"] = [str(p) for p in jaeb_a1c[\"PtID\"]]\n",
    "mean_bgs[\"PtID\"] = [str(p) for p in mean_bgs[\"PtID\"]]\n",
    "mean_bgs = mean_bgs.merge(jaeb_a1c,on = \"PtID\")\n",
    "# Age\n",
    "jaeb_age = pd.read_csv(wd + \"Data_Raw/CGMND/NonDiabPtRoster.csv\",usecols=[\"PtID\",\"AgeAsOfEnrollDt\"])\n",
    "jaeb_age[\"PtID\"] = [str(p) for p in jaeb_age[\"PtID\"]]\n",
    "mean_bgs = mean_bgs.merge(jaeb_age,on = \"PtID\")\n",
    "mean_bgs = mean_bgs[mean_bgs[\"HbA1c\"] < 6.5]\n",
    "mean_bgs[\"Cohort\"] = \"JAEB\"\n",
    "# Combine\n",
    "df = pd.concat([df,mean_bgs])\n",
    "# Calculate GMI\n",
    "df[\"GMI\"] = [3.31 + 0.02392*m for m in df[\"MBG\"]]\n",
    "df[\"Diff\"] = df[\"HbA1c\"] - df[\"GMI\"]\n",
    "df.reset_index(inplace=True,drop=True)\n",
    "# Write\n",
    "df.to_csv(wd + 'Data_Clean/combined_data.csv',index=False)\n",
    "# Split by HbA1c < 5.7 and 5.7 - 6.5\n",
    "nondiab = df[df['HbA1c'] < 5.7]\n",
    "prediab = df[(df['HbA1c'] >= 5.7) & (df['HbA1c'] < 6.5)]\n",
    "# Reindex\n",
    "nondiab.reset_index(inplace=True,drop=True)\n",
    "prediab.reset_index(inplace=True,drop=True)"
   ]
  },
  {
   "cell_type": "code",
   "execution_count": null,
   "id": "1056538a",
   "metadata": {},
   "outputs": [],
   "source": [
    "TableOne(df,columns=[\"HbA1c\",\"AgeAsOfEnrollDt\"],groupby=[\"Cohort\"])"
   ]
  },
  {
   "cell_type": "markdown",
   "id": "495c98d2-06b2-4f5a-8326-780cf48a4960",
   "metadata": {},
   "source": [
    "# HbA1c < 5.7"
   ]
  },
  {
   "cell_type": "markdown",
   "id": "2609dcb6-7354-4406-abef-9d2ce47cfed4",
   "metadata": {
    "tags": []
   },
   "source": [
    "## Mean Glucose and HbA1c\n",
    "Red line indicates GMI regression line."
   ]
  },
  {
   "cell_type": "code",
   "execution_count": null,
   "id": "986a2b51-1ea7-4eab-99d1-f0ec894c585d",
   "metadata": {},
   "outputs": [],
   "source": [
    "grid = sns.JointGrid(x=nondiab[\"MBG\"],y=nondiab[\"HbA1c\"])\n",
    "grid.plot_joint(plt.scatter)\n",
    "plt.plot([80,175],[5.2236,7.496], linewidth=2, color = \"r\");"
   ]
  },
  {
   "cell_type": "markdown",
   "id": "6955d555-1426-42f7-9848-dacfe797c867",
   "metadata": {},
   "source": [
    "## Differences between HbA1c and GMI"
   ]
  },
  {
   "cell_type": "code",
   "execution_count": null,
   "id": "d7487c69-36ef-4cdc-8183-567ee7ffe51f",
   "metadata": {},
   "outputs": [],
   "source": [
    "sns.histplot(data=nondiab, x=\"Diff\")\n",
    "plt.xlabel(\"HbA1c - GMI\");"
   ]
  },
  {
   "cell_type": "code",
   "execution_count": null,
   "id": "649a4476",
   "metadata": {},
   "outputs": [],
   "source": [
    "plt.savefig(wd + \"Reports/figure_under_5.7.png\")"
   ]
  },
  {
   "cell_type": "code",
   "execution_count": null,
   "id": "dd58d508-39e8-4e94-b57f-818c9824a469",
   "metadata": {},
   "outputs": [],
   "source": [
    "t = ttest_1samp(nondiab[\"Diff\"],popmean = 0)\n",
    "t.pvalue\n",
    "#nondiab[\"Diff\"].mean()"
   ]
  },
  {
   "cell_type": "markdown",
   "id": "0b7a12b4-3663-4af9-b972-9e00b456f305",
   "metadata": {},
   "source": [
    "The differences between HbA1c and GMI were largely negative, suggesting that the standard GMI equation overestimates HbA1c in this cohort. On average, GMI was 0.52% higher, and this was significantly different from 0 (p < 0.0001)."
   ]
  },
  {
   "cell_type": "markdown",
   "id": "0ffac0ec-d94d-4f7c-9d03-646b4c176e01",
   "metadata": {},
   "source": [
    "## Regression Results"
   ]
  },
  {
   "cell_type": "code",
   "execution_count": null,
   "id": "b007a934-b979-47ce-8c6a-15ec9360a8c6",
   "metadata": {},
   "outputs": [],
   "source": [
    "outcome,predictors = dmatrices(\"HbA1c ~ MBG\",data = nondiab)\n",
    "reg = OLS(outcome,predictors).fit()"
   ]
  },
  {
   "cell_type": "code",
   "execution_count": null,
   "id": "4c3c6036-1ffb-4bf9-b370-96ecf562ea53",
   "metadata": {},
   "outputs": [],
   "source": [
    "reg.summary()"
   ]
  },
  {
   "cell_type": "markdown",
   "id": "70a3648d-3071-4c67-b951-e4e4f341fd71",
   "metadata": {},
   "source": [
    "Based on this dataset, the regression equation for GMI would be:\n",
    "\n",
    "GMI = 3.4551 + 0.0180 * MBG"
   ]
  },
  {
   "cell_type": "code",
   "execution_count": null,
   "id": "9cb7fd0f-cb31-4b41-8448-1ce03b8b7818",
   "metadata": {},
   "outputs": [],
   "source": [
    "sns.lmplot(x=\"MBG\",y=\"HbA1c\",data=nondiab,ci=None);"
   ]
  },
  {
   "cell_type": "markdown",
   "id": "072fe7d3-0995-4a25-8add-97bd1211100c",
   "metadata": {},
   "source": [
    "# HbA1c 5.7 - 6.5\n",
    "## Mean Glucose and HbA1c\n",
    "Red line indicates GMI regression line."
   ]
  },
  {
   "cell_type": "code",
   "execution_count": null,
   "id": "b908e2a5-cc9d-454b-a78a-bf2d0ca6fb17",
   "metadata": {},
   "outputs": [],
   "source": [
    "grid = sns.JointGrid(x=prediab[\"MBG\"],y=prediab[\"HbA1c\"])\n",
    "grid.plot_joint(plt.scatter)\n",
    "plt.plot([80,175],[5.2236,7.496], linewidth=2, color = \"r\");"
   ]
  },
  {
   "cell_type": "markdown",
   "id": "8a327899-08db-42aa-ba04-426d092cc11e",
   "metadata": {},
   "source": [
    "## Differences between HbA1c and GMI"
   ]
  },
  {
   "cell_type": "code",
   "execution_count": null,
   "id": "6b4ded72-1bd4-40fd-b4e2-9016c8edd596",
   "metadata": {},
   "outputs": [],
   "source": [
    "sns.histplot(data=prediab, x=\"Diff\")\n",
    "plt.xlabel(\"HbA1c - GMI\");"
   ]
  },
  {
   "cell_type": "code",
   "execution_count": null,
   "id": "fd8792e4",
   "metadata": {},
   "outputs": [],
   "source": [
    "plt.savefig(wd + \"Reports/figure.png\")"
   ]
  },
  {
   "cell_type": "code",
   "execution_count": null,
   "id": "5dfce50f-5862-436b-9280-713390c89c16",
   "metadata": {},
   "outputs": [],
   "source": [
    "t = ttest_1samp(prediab[\"Diff\"],popmean = 0)\n",
    "t.pvalue\n",
    "#prediab[\"Diff\"].mean()"
   ]
  },
  {
   "cell_type": "markdown",
   "id": "ed9f289f-9332-4bb8-8e01-2c6ec50a3adc",
   "metadata": {},
   "source": [
    "The differences between HbA1c and GMI were largely negative, suggesting that the standard GMI equation overestimates HbA1c in this cohort. On average, GMI was 0.5% higher, and this was significantly different from 0 (p < 0.0001)."
   ]
  },
  {
   "cell_type": "markdown",
   "id": "e96f7586-906b-4f13-be81-3e951ba5dee4",
   "metadata": {},
   "source": [
    "## Regression Results"
   ]
  },
  {
   "cell_type": "code",
   "execution_count": null,
   "id": "890317c7-1a19-4ee6-a904-44104544382c",
   "metadata": {},
   "outputs": [],
   "source": [
    "outcome,predictors = dmatrices(\"HbA1c ~ MBG\",data = prediab)\n",
    "reg = OLS(outcome,predictors).fit()\n",
    "reg.summary()"
   ]
  },
  {
   "cell_type": "code",
   "execution_count": null,
   "id": "3b1d29de-ec5c-4cc8-9220-25d7002902ac",
   "metadata": {},
   "outputs": [],
   "source": [
    "sns.lmplot(x=\"MBG\",y=\"HbA1c\",data=prediab,ci=None);"
   ]
  }
 ],
 "metadata": {
  "interpreter": {
   "hash": "b0fa6594d8f4cbf19f97940f81e996739fb7646882a419484c72d19e05852a7e"
  },
  "kernelspec": {
   "display_name": "shah_ada2022",
   "language": "python",
   "name": "python3"
  },
  "language_info": {
   "codemirror_mode": {
    "name": "ipython",
    "version": 3
   },
   "file_extension": ".py",
   "mimetype": "text/x-python",
   "name": "python",
   "nbconvert_exporter": "python",
   "pygments_lexer": "ipython3",
   "version": "3.9.12"
  }
 },
 "nbformat": 4,
 "nbformat_minor": 5
}
